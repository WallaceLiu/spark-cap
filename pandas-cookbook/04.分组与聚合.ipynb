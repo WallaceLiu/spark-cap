{
 "cells": [
  {
   "cell_type": "markdown",
   "metadata": {},
   "source": [
    "# 引用包"
   ]
  },
  {
   "cell_type": "code",
   "execution_count": 1,
   "metadata": {
    "ExecuteTime": {
     "end_time": "2021-05-30T03:30:57.602069Z",
     "start_time": "2021-05-30T03:30:48.975840Z"
    },
    "_cell_guid": "b1076dfc-b9ad-4769-8c92-a6c4dae69d19",
    "_uuid": "8f2839f25d086af736a60e9eeb907d3b93b6e0e5"
   },
   "outputs": [],
   "source": [
    "# This Python 3 environment comes with many helpful analytics libraries installed\n",
    "# It is defined by the kaggle/python docker image: https://github.com/kaggle/docker-python\n",
    "# For example, here's several helpful packages to load in \n",
    "\n",
    "import numpy as np # linear algebra\n",
    "import pandas as pd # data processing, CSV file I/O (e.g. pd.read_csv)\n",
    "\n",
    "# Input data files are available in the \"../input/\" directory.\n",
    "# For example, running this (by clicking run or pressing Shift+Enter) will list all files under the input directory\n",
    "\n",
    "import os\n",
    "for dirname, _, filenames in os.walk('/kaggle/input'):\n",
    "    for filename in filenames:\n",
    "        print(os.path.join(dirname, filename))\n",
    "\n",
    "# Any results you write to the current directory are saved as output."
   ]
  },
  {
   "cell_type": "markdown",
   "metadata": {},
   "source": [
    "# 数据导入"
   ]
  },
  {
   "cell_type": "code",
   "execution_count": 3,
   "metadata": {
    "ExecuteTime": {
     "end_time": "2021-05-30T03:31:07.869928Z",
     "start_time": "2021-05-30T03:31:07.705094Z"
    },
    "_cell_guid": "79c7e3d0-c299-4dcb-8224-4455121ee9b0",
    "_uuid": "d629ff2d2480ee46fbb7e2d37f6b5fab8052498a"
   },
   "outputs": [
    {
     "data": {
      "text/html": [
       "<div>\n",
       "<style scoped>\n",
       "    .dataframe tbody tr th:only-of-type {\n",
       "        vertical-align: middle;\n",
       "    }\n",
       "\n",
       "    .dataframe tbody tr th {\n",
       "        vertical-align: top;\n",
       "    }\n",
       "\n",
       "    .dataframe thead th {\n",
       "        text-align: right;\n",
       "    }\n",
       "</style>\n",
       "<table border=\"1\" class=\"dataframe\">\n",
       "  <thead>\n",
       "    <tr style=\"text-align: right;\">\n",
       "      <th></th>\n",
       "      <th></th>\n",
       "      <th>color</th>\n",
       "      <th>size</th>\n",
       "      <th>date</th>\n",
       "      <th>feature_1</th>\n",
       "      <th>feature_2</th>\n",
       "    </tr>\n",
       "    <tr>\n",
       "      <th>class</th>\n",
       "      <th>country</th>\n",
       "      <th></th>\n",
       "      <th></th>\n",
       "      <th></th>\n",
       "      <th></th>\n",
       "      <th></th>\n",
       "    </tr>\n",
       "  </thead>\n",
       "  <tbody>\n",
       "    <tr>\n",
       "      <th>A</th>\n",
       "      <th>JP</th>\n",
       "      <td>black</td>\n",
       "      <td>S</td>\n",
       "      <td>2019-01-06</td>\n",
       "      <td>0.701038</td>\n",
       "      <td>1.651489</td>\n",
       "    </tr>\n",
       "    <tr>\n",
       "      <th rowspan=\"3\" valign=\"top\">B</th>\n",
       "      <th>CN</th>\n",
       "      <td>white</td>\n",
       "      <td>M</td>\n",
       "      <td>2019-01-13</td>\n",
       "      <td>1.555758</td>\n",
       "      <td>-3.690971</td>\n",
       "    </tr>\n",
       "    <tr>\n",
       "      <th>US</th>\n",
       "      <td>black</td>\n",
       "      <td>L</td>\n",
       "      <td>2019-01-20</td>\n",
       "      <td>0.623657</td>\n",
       "      <td>-0.942296</td>\n",
       "    </tr>\n",
       "    <tr>\n",
       "      <th>US</th>\n",
       "      <td>white</td>\n",
       "      <td>M</td>\n",
       "      <td>2019-01-27</td>\n",
       "      <td>0.007590</td>\n",
       "      <td>0.297369</td>\n",
       "    </tr>\n",
       "    <tr>\n",
       "      <th>C</th>\n",
       "      <th>US</th>\n",
       "      <td>black</td>\n",
       "      <td>L</td>\n",
       "      <td>2019-02-03</td>\n",
       "      <td>0.623607</td>\n",
       "      <td>1.678916</td>\n",
       "    </tr>\n",
       "    <tr>\n",
       "      <th>A</th>\n",
       "      <th>CN</th>\n",
       "      <td>white</td>\n",
       "      <td>S</td>\n",
       "      <td>2019-02-10</td>\n",
       "      <td>0.217375</td>\n",
       "      <td>1.611896</td>\n",
       "    </tr>\n",
       "    <tr>\n",
       "      <th>B</th>\n",
       "      <th>CN</th>\n",
       "      <td>black</td>\n",
       "      <td>S</td>\n",
       "      <td>2019-02-17</td>\n",
       "      <td>-0.061813</td>\n",
       "      <td>1.710104</td>\n",
       "    </tr>\n",
       "    <tr>\n",
       "      <th>A</th>\n",
       "      <th>CA</th>\n",
       "      <td>white</td>\n",
       "      <td>XL</td>\n",
       "      <td>2019-02-24</td>\n",
       "      <td>-0.023663</td>\n",
       "      <td>-1.048633</td>\n",
       "    </tr>\n",
       "    <tr>\n",
       "      <th rowspan=\"2\" valign=\"top\">C</th>\n",
       "      <th>JP</th>\n",
       "      <td>black</td>\n",
       "      <td>XL</td>\n",
       "      <td>2019-03-03</td>\n",
       "      <td>-0.596158</td>\n",
       "      <td>-3.032008</td>\n",
       "    </tr>\n",
       "    <tr>\n",
       "      <th>CA</th>\n",
       "      <td>white</td>\n",
       "      <td>M</td>\n",
       "      <td>2019-03-10</td>\n",
       "      <td>1.173790</td>\n",
       "      <td>-1.170137</td>\n",
       "    </tr>\n",
       "  </tbody>\n",
       "</table>\n",
       "</div>"
      ],
      "text/plain": [
       "               color size       date  feature_1  feature_2\n",
       "class country                                             \n",
       "A     JP       black    S 2019-01-06   0.701038   1.651489\n",
       "B     CN       white    M 2019-01-13   1.555758  -3.690971\n",
       "      US       black    L 2019-01-20   0.623657  -0.942296\n",
       "      US       white    M 2019-01-27   0.007590   0.297369\n",
       "C     US       black    L 2019-02-03   0.623607   1.678916\n",
       "A     CN       white    S 2019-02-10   0.217375   1.611896\n",
       "B     CN       black    S 2019-02-17  -0.061813   1.710104\n",
       "A     CA       white   XL 2019-02-24  -0.023663  -1.048633\n",
       "C     JP       black   XL 2019-03-03  -0.596158  -3.032008\n",
       "      CA       white    M 2019-03-10   1.173790  -1.170137"
      ]
     },
     "execution_count": 3,
     "metadata": {},
     "output_type": "execute_result"
    }
   ],
   "source": [
    "data_dict = {\n",
    "    'color': [\n",
    "        'black', 'white', 'black', 'white', 'black', 'white', 'black', 'white',\n",
    "        'black', 'white'\n",
    "    ],\n",
    "    'size': ['S', 'M', 'L', 'M', 'L', 'S', 'S', 'XL', 'XL', 'M'],\n",
    "    'date':\n",
    "    pd.date_range('1/1/2019', periods=10, freq='W'),\n",
    "    'feature_1':\n",
    "    np.random.randn(10),\n",
    "    'feature_2':\n",
    "    np.random.normal(0.5, 2, 10)\n",
    "}\n",
    "array = [['A', 'B', 'B', 'B', 'C', 'A', 'B', 'A', 'C', 'C'],\n",
    "         ['JP', 'CN', 'US', 'US', 'US', 'CN', 'CN', 'CA', 'JP', 'CA']]\n",
    "\n",
    "index = pd.MultiIndex.from_arrays(array, names=['class', 'country'])\n",
    "data_df = pd.DataFrame(data_dict, index=index)\n",
    "data_df"
   ]
  },
  {
   "cell_type": "markdown",
   "metadata": {},
   "source": [
    "# 分组\n",
    "将dataframe根据size进行分组，得到group_1。在这里我们将GroupBy对象转换list后输出。"
   ]
  },
  {
   "cell_type": "code",
   "execution_count": 4,
   "metadata": {
    "ExecuteTime": {
     "end_time": "2021-05-30T03:33:07.314324Z",
     "start_time": "2021-05-30T03:33:07.257858Z"
    }
   },
   "outputs": [
    {
     "name": "stdout",
     "output_type": "stream",
     "text": [
      "('L',                color size       date  feature_1  feature_2\n",
      "class country                                             \n",
      "B     US       black    L 2019-01-20   0.623657  -0.942296\n",
      "C     US       black    L 2019-02-03   0.623607   1.678916)\n",
      "\n",
      "\n",
      "('M',                color size       date  feature_1  feature_2\n",
      "class country                                             \n",
      "B     CN       white    M 2019-01-13   1.555758  -3.690971\n",
      "      US       white    M 2019-01-27   0.007590   0.297369\n",
      "C     CA       white    M 2019-03-10   1.173790  -1.170137)\n",
      "\n",
      "\n",
      "('S',                color size       date  feature_1  feature_2\n",
      "class country                                             \n",
      "A     JP       black    S 2019-01-06   0.701038   1.651489\n",
      "      CN       white    S 2019-02-10   0.217375   1.611896\n",
      "B     CN       black    S 2019-02-17  -0.061813   1.710104)\n",
      "\n",
      "\n",
      "('XL',                color size       date  feature_1  feature_2\n",
      "class country                                             \n",
      "A     CA       white   XL 2019-02-24  -0.023663  -1.048633\n",
      "C     JP       black   XL 2019-03-03  -0.596158  -3.032008)\n",
      "\n",
      "\n"
     ]
    }
   ],
   "source": [
    "group_1 = data_df.groupby('size')\n",
    "for i in list(group_1):\n",
    "    print(i)\n",
    "    print('\\n')"
   ]
  },
  {
   "cell_type": "markdown",
   "metadata": {},
   "source": [
    "对GroupBy对象进行分组运算，如sum(),非数值数据则不进行分组运算。将计算得到的数据添加表头前缀后输出\n",
    "     "
   ]
  },
  {
   "cell_type": "code",
   "execution_count": 5,
   "metadata": {
    "ExecuteTime": {
     "end_time": "2021-05-30T03:33:39.962028Z",
     "start_time": "2021-05-30T03:33:39.939466Z"
    }
   },
   "outputs": [
    {
     "data": {
      "text/html": [
       "<div>\n",
       "<style scoped>\n",
       "    .dataframe tbody tr th:only-of-type {\n",
       "        vertical-align: middle;\n",
       "    }\n",
       "\n",
       "    .dataframe tbody tr th {\n",
       "        vertical-align: top;\n",
       "    }\n",
       "\n",
       "    .dataframe thead th {\n",
       "        text-align: right;\n",
       "    }\n",
       "</style>\n",
       "<table border=\"1\" class=\"dataframe\">\n",
       "  <thead>\n",
       "    <tr style=\"text-align: right;\">\n",
       "      <th></th>\n",
       "      <th>sum_feature_1</th>\n",
       "      <th>sum_feature_2</th>\n",
       "    </tr>\n",
       "    <tr>\n",
       "      <th>size</th>\n",
       "      <th></th>\n",
       "      <th></th>\n",
       "    </tr>\n",
       "  </thead>\n",
       "  <tbody>\n",
       "    <tr>\n",
       "      <th>L</th>\n",
       "      <td>1.247264</td>\n",
       "      <td>0.736619</td>\n",
       "    </tr>\n",
       "    <tr>\n",
       "      <th>M</th>\n",
       "      <td>2.737137</td>\n",
       "      <td>-4.563739</td>\n",
       "    </tr>\n",
       "    <tr>\n",
       "      <th>S</th>\n",
       "      <td>0.856600</td>\n",
       "      <td>4.973488</td>\n",
       "    </tr>\n",
       "    <tr>\n",
       "      <th>XL</th>\n",
       "      <td>-0.619821</td>\n",
       "      <td>-4.080641</td>\n",
       "    </tr>\n",
       "  </tbody>\n",
       "</table>\n",
       "</div>"
      ],
      "text/plain": [
       "      sum_feature_1  sum_feature_2\n",
       "size                              \n",
       "L          1.247264       0.736619\n",
       "M          2.737137      -4.563739\n",
       "S          0.856600       4.973488\n",
       "XL        -0.619821      -4.080641"
      ]
     },
     "execution_count": 5,
     "metadata": {},
     "output_type": "execute_result"
    }
   ],
   "source": [
    "group_1.sum().add_prefix('sum_')"
   ]
  },
  {
   "cell_type": "markdown",
   "metadata": {},
   "source": [
    "根据size进行分组后获得所有size值为M的行向量"
   ]
  },
  {
   "cell_type": "code",
   "execution_count": 6,
   "metadata": {},
   "outputs": [
    {
     "data": {
      "text/html": [
       "<div>\n",
       "<style scoped>\n",
       "    .dataframe tbody tr th:only-of-type {\n",
       "        vertical-align: middle;\n",
       "    }\n",
       "\n",
       "    .dataframe tbody tr th {\n",
       "        vertical-align: top;\n",
       "    }\n",
       "\n",
       "    .dataframe thead th {\n",
       "        text-align: right;\n",
       "    }\n",
       "</style>\n",
       "<table border=\"1\" class=\"dataframe\">\n",
       "  <thead>\n",
       "    <tr style=\"text-align: right;\">\n",
       "      <th></th>\n",
       "      <th></th>\n",
       "      <th>color</th>\n",
       "      <th>size</th>\n",
       "      <th>date</th>\n",
       "      <th>feature_1</th>\n",
       "      <th>feature_2</th>\n",
       "    </tr>\n",
       "    <tr>\n",
       "      <th>class</th>\n",
       "      <th>country</th>\n",
       "      <th></th>\n",
       "      <th></th>\n",
       "      <th></th>\n",
       "      <th></th>\n",
       "      <th></th>\n",
       "    </tr>\n",
       "  </thead>\n",
       "  <tbody>\n",
       "    <tr>\n",
       "      <th rowspan=\"2\" valign=\"top\">B</th>\n",
       "      <th>CN</th>\n",
       "      <td>white</td>\n",
       "      <td>M</td>\n",
       "      <td>2019-01-13</td>\n",
       "      <td>1.555758</td>\n",
       "      <td>-3.690971</td>\n",
       "    </tr>\n",
       "    <tr>\n",
       "      <th>US</th>\n",
       "      <td>white</td>\n",
       "      <td>M</td>\n",
       "      <td>2019-01-27</td>\n",
       "      <td>0.007590</td>\n",
       "      <td>0.297369</td>\n",
       "    </tr>\n",
       "    <tr>\n",
       "      <th>C</th>\n",
       "      <th>CA</th>\n",
       "      <td>white</td>\n",
       "      <td>M</td>\n",
       "      <td>2019-03-10</td>\n",
       "      <td>1.173790</td>\n",
       "      <td>-1.170137</td>\n",
       "    </tr>\n",
       "  </tbody>\n",
       "</table>\n",
       "</div>"
      ],
      "text/plain": [
       "               color size       date  feature_1  feature_2\n",
       "class country                                             \n",
       "B     CN       white    M 2019-01-13   1.555758  -3.690971\n",
       "      US       white    M 2019-01-27   0.007590   0.297369\n",
       "C     CA       white    M 2019-03-10   1.173790  -1.170137"
      ]
     },
     "execution_count": 6,
     "metadata": {},
     "output_type": "execute_result"
    }
   ],
   "source": [
    "group_1.get_group('M')"
   ]
  },
  {
   "cell_type": "markdown",
   "metadata": {},
   "source": [
    "将dataframe根据size和color两个列标签进行多重分组，得到group_2"
   ]
  },
  {
   "cell_type": "code",
   "execution_count": 7,
   "metadata": {
    "ExecuteTime": {
     "end_time": "2021-05-30T03:34:17.882160Z",
     "start_time": "2021-05-30T03:34:17.823950Z"
    }
   },
   "outputs": [
    {
     "name": "stdout",
     "output_type": "stream",
     "text": [
      "(('L', 'black'),                color size       date  feature_1  feature_2\n",
      "class country                                             \n",
      "B     US       black    L 2019-01-20   0.623657  -0.942296\n",
      "C     US       black    L 2019-02-03   0.623607   1.678916)\n",
      "\n",
      "\n",
      "(('M', 'white'),                color size       date  feature_1  feature_2\n",
      "class country                                             \n",
      "B     CN       white    M 2019-01-13   1.555758  -3.690971\n",
      "      US       white    M 2019-01-27   0.007590   0.297369\n",
      "C     CA       white    M 2019-03-10   1.173790  -1.170137)\n",
      "\n",
      "\n",
      "(('S', 'black'),                color size       date  feature_1  feature_2\n",
      "class country                                             \n",
      "A     JP       black    S 2019-01-06   0.701038   1.651489\n",
      "B     CN       black    S 2019-02-17  -0.061813   1.710104)\n",
      "\n",
      "\n",
      "(('S', 'white'),                color size       date  feature_1  feature_2\n",
      "class country                                             \n",
      "A     CN       white    S 2019-02-10   0.217375   1.611896)\n",
      "\n",
      "\n",
      "(('XL', 'black'),                color size       date  feature_1  feature_2\n",
      "class country                                             \n",
      "C     JP       black   XL 2019-03-03  -0.596158  -3.032008)\n",
      "\n",
      "\n",
      "(('XL', 'white'),                color size       date  feature_1  feature_2\n",
      "class country                                             \n",
      "A     CA       white   XL 2019-02-24  -0.023663  -1.048633)\n",
      "\n",
      "\n"
     ]
    }
   ],
   "source": [
    "group_2 = data_df.groupby(['size', 'color'])\n",
    "for i in list(group_2):\n",
    "    print(i)\n",
    "    print('\\n')"
   ]
  },
  {
   "cell_type": "markdown",
   "metadata": {},
   "source": [
    "对分组后的数据size函数获得组别个数"
   ]
  },
  {
   "cell_type": "code",
   "execution_count": 8,
   "metadata": {
    "ExecuteTime": {
     "end_time": "2021-05-30T03:34:23.529725Z",
     "start_time": "2021-05-30T03:34:23.492750Z"
    }
   },
   "outputs": [
    {
     "name": "stdout",
     "output_type": "stream",
     "text": [
      "size\n",
      "L     2\n",
      "M     3\n",
      "S     3\n",
      "XL    2\n",
      "dtype: int64\n",
      "size  color\n",
      "L     black    2\n",
      "M     white    3\n",
      "S     black    2\n",
      "      white    1\n",
      "XL    black    1\n",
      "      white    1\n",
      "dtype: int64\n"
     ]
    }
   ],
   "source": [
    "print(group_1.size())\n",
    "print(group_2.size())"
   ]
  },
  {
   "cell_type": "markdown",
   "metadata": {},
   "source": [
    "此外还可以利用函数进行分组。注意到groupby函数中axis=1对列进行分组，axis=0对行进行分组"
   ]
  },
  {
   "cell_type": "code",
   "execution_count": 9,
   "metadata": {
    "ExecuteTime": {
     "end_time": "2021-05-30T03:35:30.452164Z",
     "start_time": "2021-05-30T03:35:30.430582Z"
    }
   },
   "outputs": [
    {
     "data": {
      "text/html": [
       "<div>\n",
       "<style scoped>\n",
       "    .dataframe tbody tr th:only-of-type {\n",
       "        vertical-align: middle;\n",
       "    }\n",
       "\n",
       "    .dataframe tbody tr th {\n",
       "        vertical-align: top;\n",
       "    }\n",
       "\n",
       "    .dataframe thead th {\n",
       "        text-align: right;\n",
       "    }\n",
       "</style>\n",
       "<table border=\"1\" class=\"dataframe\">\n",
       "  <thead>\n",
       "    <tr style=\"text-align: right;\">\n",
       "      <th></th>\n",
       "      <th></th>\n",
       "      <th>color</th>\n",
       "      <th>size</th>\n",
       "      <th>date</th>\n",
       "      <th>feature_1</th>\n",
       "      <th>feature_2</th>\n",
       "    </tr>\n",
       "    <tr>\n",
       "      <th>class</th>\n",
       "      <th>country</th>\n",
       "      <th></th>\n",
       "      <th></th>\n",
       "      <th></th>\n",
       "      <th></th>\n",
       "      <th></th>\n",
       "    </tr>\n",
       "  </thead>\n",
       "  <tbody>\n",
       "    <tr>\n",
       "      <th>A</th>\n",
       "      <th>JP</th>\n",
       "      <td>black</td>\n",
       "      <td>S</td>\n",
       "      <td>2019-01-06</td>\n",
       "      <td>0.701038</td>\n",
       "      <td>1.651489</td>\n",
       "    </tr>\n",
       "    <tr>\n",
       "      <th rowspan=\"3\" valign=\"top\">B</th>\n",
       "      <th>CN</th>\n",
       "      <td>white</td>\n",
       "      <td>M</td>\n",
       "      <td>2019-01-13</td>\n",
       "      <td>1.555758</td>\n",
       "      <td>-3.690971</td>\n",
       "    </tr>\n",
       "    <tr>\n",
       "      <th>US</th>\n",
       "      <td>black</td>\n",
       "      <td>L</td>\n",
       "      <td>2019-01-20</td>\n",
       "      <td>0.623657</td>\n",
       "      <td>-0.942296</td>\n",
       "    </tr>\n",
       "    <tr>\n",
       "      <th>US</th>\n",
       "      <td>white</td>\n",
       "      <td>M</td>\n",
       "      <td>2019-01-27</td>\n",
       "      <td>0.007590</td>\n",
       "      <td>0.297369</td>\n",
       "    </tr>\n",
       "    <tr>\n",
       "      <th>C</th>\n",
       "      <th>US</th>\n",
       "      <td>black</td>\n",
       "      <td>L</td>\n",
       "      <td>2019-02-03</td>\n",
       "      <td>0.623607</td>\n",
       "      <td>1.678916</td>\n",
       "    </tr>\n",
       "    <tr>\n",
       "      <th>A</th>\n",
       "      <th>CN</th>\n",
       "      <td>white</td>\n",
       "      <td>S</td>\n",
       "      <td>2019-02-10</td>\n",
       "      <td>0.217375</td>\n",
       "      <td>1.611896</td>\n",
       "    </tr>\n",
       "    <tr>\n",
       "      <th>B</th>\n",
       "      <th>CN</th>\n",
       "      <td>black</td>\n",
       "      <td>S</td>\n",
       "      <td>2019-02-17</td>\n",
       "      <td>-0.061813</td>\n",
       "      <td>1.710104</td>\n",
       "    </tr>\n",
       "    <tr>\n",
       "      <th>A</th>\n",
       "      <th>CA</th>\n",
       "      <td>white</td>\n",
       "      <td>XL</td>\n",
       "      <td>2019-02-24</td>\n",
       "      <td>-0.023663</td>\n",
       "      <td>-1.048633</td>\n",
       "    </tr>\n",
       "    <tr>\n",
       "      <th rowspan=\"2\" valign=\"top\">C</th>\n",
       "      <th>JP</th>\n",
       "      <td>black</td>\n",
       "      <td>XL</td>\n",
       "      <td>2019-03-03</td>\n",
       "      <td>-0.596158</td>\n",
       "      <td>-3.032008</td>\n",
       "    </tr>\n",
       "    <tr>\n",
       "      <th>CA</th>\n",
       "      <td>white</td>\n",
       "      <td>M</td>\n",
       "      <td>2019-03-10</td>\n",
       "      <td>1.173790</td>\n",
       "      <td>-1.170137</td>\n",
       "    </tr>\n",
       "  </tbody>\n",
       "</table>\n",
       "</div>"
      ],
      "text/plain": [
       "               color size       date  feature_1  feature_2\n",
       "class country                                             \n",
       "A     JP       black    S 2019-01-06   0.701038   1.651489\n",
       "B     CN       white    M 2019-01-13   1.555758  -3.690971\n",
       "      US       black    L 2019-01-20   0.623657  -0.942296\n",
       "      US       white    M 2019-01-27   0.007590   0.297369\n",
       "C     US       black    L 2019-02-03   0.623607   1.678916\n",
       "A     CN       white    S 2019-02-10   0.217375   1.611896\n",
       "B     CN       black    S 2019-02-17  -0.061813   1.710104\n",
       "A     CA       white   XL 2019-02-24  -0.023663  -1.048633\n",
       "C     JP       black   XL 2019-03-03  -0.596158  -3.032008\n",
       "      CA       white    M 2019-03-10   1.173790  -1.170137"
      ]
     },
     "execution_count": 9,
     "metadata": {},
     "output_type": "execute_result"
    }
   ],
   "source": [
    "data_df"
   ]
  },
  {
   "cell_type": "code",
   "execution_count": 10,
   "metadata": {
    "ExecuteTime": {
     "end_time": "2021-05-30T03:35:38.592376Z",
     "start_time": "2021-05-30T03:35:38.538284Z"
    }
   },
   "outputs": [
    {
     "name": "stdout",
     "output_type": "stream",
     "text": [
      "('feature',                feature_1  feature_2\n",
      "class country                      \n",
      "A     JP        0.701038   1.651489\n",
      "B     CN        1.555758  -3.690971\n",
      "      US        0.623657  -0.942296\n",
      "      US        0.007590   0.297369\n",
      "C     US        0.623607   1.678916\n",
      "A     CN        0.217375   1.611896\n",
      "B     CN       -0.061813   1.710104\n",
      "A     CA       -0.023663  -1.048633\n",
      "C     JP       -0.596158  -3.032008\n",
      "      CA        1.173790  -1.170137)\n",
      "\n",
      "\n",
      "('other',                color size       date\n",
      "class country                       \n",
      "A     JP       black    S 2019-01-06\n",
      "B     CN       white    M 2019-01-13\n",
      "      US       black    L 2019-01-20\n",
      "      US       white    M 2019-01-27\n",
      "C     US       black    L 2019-02-03\n",
      "A     CN       white    S 2019-02-10\n",
      "B     CN       black    S 2019-02-17\n",
      "A     CA       white   XL 2019-02-24\n",
      "C     JP       black   XL 2019-03-03\n",
      "      CA       white    M 2019-03-10)\n",
      "\n",
      "\n"
     ]
    }
   ],
   "source": [
    "def get_letter_type(letter):\n",
    "    if 'feature' in letter:\n",
    "        return 'feature'\n",
    "    else:\n",
    "        return 'other'\n",
    "\n",
    "\n",
    "for i in list(data_df.groupby(get_letter_type, axis=1)):\n",
    "    print(i)\n",
    "    print('\\n')"
   ]
  },
  {
   "cell_type": "markdown",
   "metadata": {},
   "source": [
    "分组对象除了列标签之外，还可以是索引，其中用不同的level值来区分多重索引。"
   ]
  },
  {
   "cell_type": "code",
   "execution_count": 11,
   "metadata": {
    "ExecuteTime": {
     "end_time": "2021-05-30T03:36:14.926866Z",
     "start_time": "2021-05-30T03:36:14.841195Z"
    }
   },
   "outputs": [
    {
     "name": "stdout",
     "output_type": "stream",
     "text": [
      "(('A', 'CA'),                color size       date  feature_1  feature_2\n",
      "class country                                             \n",
      "A     CA       white   XL 2019-02-24  -0.023663  -1.048633)\n",
      "\n",
      "\n",
      "(('A', 'CN'),                color size       date  feature_1  feature_2\n",
      "class country                                             \n",
      "A     CN       white    S 2019-02-10   0.217375   1.611896)\n",
      "\n",
      "\n",
      "(('A', 'JP'),                color size       date  feature_1  feature_2\n",
      "class country                                             \n",
      "A     JP       black    S 2019-01-06   0.701038   1.651489)\n",
      "\n",
      "\n",
      "(('B', 'CN'),                color size       date  feature_1  feature_2\n",
      "class country                                             \n",
      "B     CN       white    M 2019-01-13   1.555758  -3.690971\n",
      "      CN       black    S 2019-02-17  -0.061813   1.710104)\n",
      "\n",
      "\n",
      "(('B', 'US'),                color size       date  feature_1  feature_2\n",
      "class country                                             \n",
      "B     US       black    L 2019-01-20   0.623657  -0.942296\n",
      "      US       white    M 2019-01-27   0.007590   0.297369)\n",
      "\n",
      "\n",
      "(('C', 'CA'),                color size       date  feature_1  feature_2\n",
      "class country                                             \n",
      "C     CA       white    M 2019-03-10    1.17379  -1.170137)\n",
      "\n",
      "\n",
      "(('C', 'JP'),                color size       date  feature_1  feature_2\n",
      "class country                                             \n",
      "C     JP       black   XL 2019-03-03  -0.596158  -3.032008)\n",
      "\n",
      "\n",
      "(('C', 'US'),                color size       date  feature_1  feature_2\n",
      "class country                                             \n",
      "C     US       black    L 2019-02-03   0.623607   1.678916)\n",
      "\n",
      "\n"
     ]
    }
   ],
   "source": [
    "for i in list(data_df.groupby(level=[0, 1])):\n",
    "    print(i)\n",
    "    print('\\n')"
   ]
  },
  {
   "cell_type": "markdown",
   "metadata": {},
   "source": [
    "DataFrame可以根据列标签和索引两者同时分组,分组后可以在不同组间进行迭代"
   ]
  },
  {
   "cell_type": "code",
   "execution_count": 12,
   "metadata": {
    "ExecuteTime": {
     "end_time": "2021-05-30T03:37:23.693976Z",
     "start_time": "2021-05-30T03:37:23.641970Z"
    }
   },
   "outputs": [
    {
     "name": "stdout",
     "output_type": "stream",
     "text": [
      "('CA', 'white')\n",
      "               color size       date  feature_1  feature_2\n",
      "class country                                             \n",
      "A     CA       white   XL 2019-02-24  -0.023663  -1.048633\n",
      "C     CA       white    M 2019-03-10   1.173790  -1.170137\n",
      "\n",
      "\n",
      "('CN', 'black')\n",
      "               color size       date  feature_1  feature_2\n",
      "class country                                             \n",
      "B     CN       black    S 2019-02-17  -0.061813   1.710104\n",
      "\n",
      "\n",
      "('CN', 'white')\n",
      "               color size       date  feature_1  feature_2\n",
      "class country                                             \n",
      "B     CN       white    M 2019-01-13   1.555758  -3.690971\n",
      "A     CN       white    S 2019-02-10   0.217375   1.611896\n",
      "\n",
      "\n",
      "('JP', 'black')\n",
      "               color size       date  feature_1  feature_2\n",
      "class country                                             \n",
      "A     JP       black    S 2019-01-06   0.701038   1.651489\n",
      "C     JP       black   XL 2019-03-03  -0.596158  -3.032008\n",
      "\n",
      "\n",
      "('US', 'black')\n",
      "               color size       date  feature_1  feature_2\n",
      "class country                                             \n",
      "B     US       black    L 2019-01-20   0.623657  -0.942296\n",
      "C     US       black    L 2019-02-03   0.623607   1.678916\n",
      "\n",
      "\n",
      "('US', 'white')\n",
      "               color size       date  feature_1  feature_2\n",
      "class country                                             \n",
      "B     US       white    M 2019-01-27    0.00759   0.297369\n",
      "\n",
      "\n"
     ]
    }
   ],
   "source": [
    "group_3 = data_df.groupby(['country', 'color'])\n",
    "for name, group in group_3:\n",
    "    print(name)\n",
    "    print(group)\n",
    "    print('\\n')"
   ]
  },
  {
   "cell_type": "markdown",
   "metadata": {},
   "source": [
    "当GroupBy对象被建立后，我们可以用agg函数对分组后的数据进行计算。下例中计算了group_3中feature_1的最大值和feature_2的均值。"
   ]
  },
  {
   "cell_type": "code",
   "execution_count": 13,
   "metadata": {
    "ExecuteTime": {
     "end_time": "2021-05-30T03:37:51.642846Z",
     "start_time": "2021-05-30T03:37:51.618888Z"
    }
   },
   "outputs": [
    {
     "data": {
      "text/html": [
       "<div>\n",
       "<style scoped>\n",
       "    .dataframe tbody tr th:only-of-type {\n",
       "        vertical-align: middle;\n",
       "    }\n",
       "\n",
       "    .dataframe tbody tr th {\n",
       "        vertical-align: top;\n",
       "    }\n",
       "\n",
       "    .dataframe thead th {\n",
       "        text-align: right;\n",
       "    }\n",
       "</style>\n",
       "<table border=\"1\" class=\"dataframe\">\n",
       "  <thead>\n",
       "    <tr style=\"text-align: right;\">\n",
       "      <th></th>\n",
       "      <th></th>\n",
       "      <th>feature_1</th>\n",
       "      <th>feature_2</th>\n",
       "    </tr>\n",
       "    <tr>\n",
       "      <th>size</th>\n",
       "      <th>color</th>\n",
       "      <th></th>\n",
       "      <th></th>\n",
       "    </tr>\n",
       "  </thead>\n",
       "  <tbody>\n",
       "    <tr>\n",
       "      <th>L</th>\n",
       "      <th>black</th>\n",
       "      <td>0.623607</td>\n",
       "      <td>0.368310</td>\n",
       "    </tr>\n",
       "    <tr>\n",
       "      <th>M</th>\n",
       "      <th>white</th>\n",
       "      <td>0.007590</td>\n",
       "      <td>-1.521246</td>\n",
       "    </tr>\n",
       "    <tr>\n",
       "      <th rowspan=\"2\" valign=\"top\">S</th>\n",
       "      <th>black</th>\n",
       "      <td>-0.061813</td>\n",
       "      <td>1.680796</td>\n",
       "    </tr>\n",
       "    <tr>\n",
       "      <th>white</th>\n",
       "      <td>0.217375</td>\n",
       "      <td>1.611896</td>\n",
       "    </tr>\n",
       "    <tr>\n",
       "      <th rowspan=\"2\" valign=\"top\">XL</th>\n",
       "      <th>black</th>\n",
       "      <td>-0.596158</td>\n",
       "      <td>-3.032008</td>\n",
       "    </tr>\n",
       "    <tr>\n",
       "      <th>white</th>\n",
       "      <td>-0.023663</td>\n",
       "      <td>-1.048633</td>\n",
       "    </tr>\n",
       "  </tbody>\n",
       "</table>\n",
       "</div>"
      ],
      "text/plain": [
       "            feature_1  feature_2\n",
       "size color                      \n",
       "L    black   0.623607   0.368310\n",
       "M    white   0.007590  -1.521246\n",
       "S    black  -0.061813   1.680796\n",
       "     white   0.217375   1.611896\n",
       "XL   black  -0.596158  -3.032008\n",
       "     white  -0.023663  -1.048633"
      ]
     },
     "execution_count": 13,
     "metadata": {},
     "output_type": "execute_result"
    }
   ],
   "source": [
    "group_2.agg({'feature_1': np.min, 'feature_2': np.mean})"
   ]
  },
  {
   "cell_type": "markdown",
   "metadata": {},
   "source": [
    "接下来我们使用transform函数对groupby对象进行变换，transform的计算结果和原始数据的形状保持一致。下例中我们自定义了函数data_range来获得根据size分组后各个值的范围。"
   ]
  },
  {
   "cell_type": "code",
   "execution_count": 16,
   "metadata": {
    "ExecuteTime": {
     "end_time": "2021-05-30T03:38:00.930778Z",
     "start_time": "2021-05-30T03:38:00.819007Z"
    },
    "scrolled": true
   },
   "outputs": [
    {
     "data": {
      "text/html": [
       "<div>\n",
       "<style scoped>\n",
       "    .dataframe tbody tr th:only-of-type {\n",
       "        vertical-align: middle;\n",
       "    }\n",
       "\n",
       "    .dataframe tbody tr th {\n",
       "        vertical-align: top;\n",
       "    }\n",
       "\n",
       "    .dataframe thead th {\n",
       "        text-align: right;\n",
       "    }\n",
       "</style>\n",
       "<table border=\"1\" class=\"dataframe\">\n",
       "  <thead>\n",
       "    <tr style=\"text-align: right;\">\n",
       "      <th></th>\n",
       "      <th></th>\n",
       "      <th>date</th>\n",
       "      <th>feature_1</th>\n",
       "      <th>feature_2</th>\n",
       "    </tr>\n",
       "    <tr>\n",
       "      <th>class</th>\n",
       "      <th>country</th>\n",
       "      <th></th>\n",
       "      <th></th>\n",
       "      <th></th>\n",
       "    </tr>\n",
       "  </thead>\n",
       "  <tbody>\n",
       "    <tr>\n",
       "      <th>A</th>\n",
       "      <th>JP</th>\n",
       "      <td>42 days</td>\n",
       "      <td>1.735983</td>\n",
       "      <td>5.502831</td>\n",
       "    </tr>\n",
       "    <tr>\n",
       "      <th rowspan=\"3\" valign=\"top\">B</th>\n",
       "      <th>CN</th>\n",
       "      <td>56 days</td>\n",
       "      <td>3.049002</td>\n",
       "      <td>2.657217</td>\n",
       "    </tr>\n",
       "    <tr>\n",
       "      <th>US</th>\n",
       "      <td>14 days</td>\n",
       "      <td>0.107835</td>\n",
       "      <td>1.825062</td>\n",
       "    </tr>\n",
       "    <tr>\n",
       "      <th>US</th>\n",
       "      <td>56 days</td>\n",
       "      <td>3.049002</td>\n",
       "      <td>2.657217</td>\n",
       "    </tr>\n",
       "    <tr>\n",
       "      <th>C</th>\n",
       "      <th>US</th>\n",
       "      <td>14 days</td>\n",
       "      <td>0.107835</td>\n",
       "      <td>1.825062</td>\n",
       "    </tr>\n",
       "    <tr>\n",
       "      <th>A</th>\n",
       "      <th>CN</th>\n",
       "      <td>42 days</td>\n",
       "      <td>1.735983</td>\n",
       "      <td>5.502831</td>\n",
       "    </tr>\n",
       "    <tr>\n",
       "      <th>B</th>\n",
       "      <th>CN</th>\n",
       "      <td>42 days</td>\n",
       "      <td>1.735983</td>\n",
       "      <td>5.502831</td>\n",
       "    </tr>\n",
       "    <tr>\n",
       "      <th>A</th>\n",
       "      <th>CA</th>\n",
       "      <td>7 days</td>\n",
       "      <td>0.840518</td>\n",
       "      <td>3.693605</td>\n",
       "    </tr>\n",
       "    <tr>\n",
       "      <th rowspan=\"2\" valign=\"top\">C</th>\n",
       "      <th>JP</th>\n",
       "      <td>7 days</td>\n",
       "      <td>0.840518</td>\n",
       "      <td>3.693605</td>\n",
       "    </tr>\n",
       "    <tr>\n",
       "      <th>CA</th>\n",
       "      <td>56 days</td>\n",
       "      <td>3.049002</td>\n",
       "      <td>2.657217</td>\n",
       "    </tr>\n",
       "  </tbody>\n",
       "</table>\n",
       "</div>"
      ],
      "text/plain": [
       "                 date  feature_1  feature_2\n",
       "class country                              \n",
       "A     JP      42 days   1.735983   5.502831\n",
       "B     CN      56 days   3.049002   2.657217\n",
       "      US      14 days   0.107835   1.825062\n",
       "      US      56 days   3.049002   2.657217\n",
       "C     US      14 days   0.107835   1.825062\n",
       "A     CN      42 days   1.735983   5.502831\n",
       "B     CN      42 days   1.735983   5.502831\n",
       "A     CA       7 days   0.840518   3.693605\n",
       "C     JP       7 days   0.840518   3.693605\n",
       "      CA      56 days   3.049002   2.657217"
      ]
     },
     "execution_count": 16,
     "metadata": {},
     "output_type": "execute_result"
    }
   ],
   "source": [
    "data_range = lambda x: x.max() - x.min()\n",
    "data_df.groupby('size').transform(data_range)"
   ]
  },
  {
   "cell_type": "markdown",
   "metadata": {},
   "source": [
    "另外我们还常常通过transform函数将缺失值替换为组间平均值。"
   ]
  },
  {
   "cell_type": "code",
   "execution_count": 17,
   "metadata": {
    "ExecuteTime": {
     "end_time": "2021-05-30T03:38:10.497164Z",
     "start_time": "2021-05-30T03:38:10.451127Z"
    }
   },
   "outputs": [
    {
     "data": {
      "text/html": [
       "<div>\n",
       "<style scoped>\n",
       "    .dataframe tbody tr th:only-of-type {\n",
       "        vertical-align: middle;\n",
       "    }\n",
       "\n",
       "    .dataframe tbody tr th {\n",
       "        vertical-align: top;\n",
       "    }\n",
       "\n",
       "    .dataframe thead th {\n",
       "        text-align: right;\n",
       "    }\n",
       "</style>\n",
       "<table border=\"1\" class=\"dataframe\">\n",
       "  <thead>\n",
       "    <tr style=\"text-align: right;\">\n",
       "      <th></th>\n",
       "      <th></th>\n",
       "      <th>date</th>\n",
       "      <th>feature_1</th>\n",
       "      <th>feature_2</th>\n",
       "    </tr>\n",
       "    <tr>\n",
       "      <th>class</th>\n",
       "      <th>country</th>\n",
       "      <th></th>\n",
       "      <th></th>\n",
       "      <th></th>\n",
       "    </tr>\n",
       "  </thead>\n",
       "  <tbody>\n",
       "    <tr>\n",
       "      <th>A</th>\n",
       "      <th>JP</th>\n",
       "      <td>2019-01-06</td>\n",
       "      <td>-0.664015</td>\n",
       "      <td>1.532936</td>\n",
       "    </tr>\n",
       "    <tr>\n",
       "      <th rowspan=\"3\" valign=\"top\">B</th>\n",
       "      <th>CN</th>\n",
       "      <td>2019-02-17</td>\n",
       "      <td>-0.331643</td>\n",
       "      <td>1.272754</td>\n",
       "    </tr>\n",
       "    <tr>\n",
       "      <th>US</th>\n",
       "      <td>2019-01-20</td>\n",
       "      <td>-0.525789</td>\n",
       "      <td>-1.261101</td>\n",
       "    </tr>\n",
       "    <tr>\n",
       "      <th>US</th>\n",
       "      <td>2019-01-27</td>\n",
       "      <td>-0.871058</td>\n",
       "      <td>3.929972</td>\n",
       "    </tr>\n",
       "    <tr>\n",
       "      <th>C</th>\n",
       "      <th>US</th>\n",
       "      <td>2019-02-03</td>\n",
       "      <td>-0.633624</td>\n",
       "      <td>-3.086163</td>\n",
       "    </tr>\n",
       "    <tr>\n",
       "      <th>A</th>\n",
       "      <th>CN</th>\n",
       "      <td>2019-02-10</td>\n",
       "      <td>0.733126</td>\n",
       "      <td>-3.969895</td>\n",
       "    </tr>\n",
       "    <tr>\n",
       "      <th>B</th>\n",
       "      <th>CN</th>\n",
       "      <td>2019-02-17</td>\n",
       "      <td>-1.002858</td>\n",
       "      <td>1.235526</td>\n",
       "    </tr>\n",
       "    <tr>\n",
       "      <th>A</th>\n",
       "      <th>CA</th>\n",
       "      <td>2019-02-24</td>\n",
       "      <td>-0.491722</td>\n",
       "      <td>2.532934</td>\n",
       "    </tr>\n",
       "    <tr>\n",
       "      <th rowspan=\"2\" valign=\"top\">C</th>\n",
       "      <th>JP</th>\n",
       "      <td>2019-03-03</td>\n",
       "      <td>0.348796</td>\n",
       "      <td>-1.160670</td>\n",
       "    </tr>\n",
       "    <tr>\n",
       "      <th>CA</th>\n",
       "      <td>2019-03-10</td>\n",
       "      <td>0.207771</td>\n",
       "      <td>2.686580</td>\n",
       "    </tr>\n",
       "  </tbody>\n",
       "</table>\n",
       "</div>"
      ],
      "text/plain": [
       "                    date  feature_1  feature_2\n",
       "class country                                 \n",
       "A     JP      2019-01-06  -0.664015   1.532936\n",
       "B     CN      2019-02-17  -0.331643   1.272754\n",
       "      US      2019-01-20  -0.525789  -1.261101\n",
       "      US      2019-01-27  -0.871058   3.929972\n",
       "C     US      2019-02-03  -0.633624  -3.086163\n",
       "A     CN      2019-02-10   0.733126  -3.969895\n",
       "B     CN      2019-02-17  -1.002858   1.235526\n",
       "A     CA      2019-02-24  -0.491722   2.532934\n",
       "C     JP      2019-03-03   0.348796  -1.160670\n",
       "      CA      2019-03-10   0.207771   2.686580"
      ]
     },
     "execution_count": 17,
     "metadata": {},
     "output_type": "execute_result"
    }
   ],
   "source": [
    "data_df.iloc[1, 2:4] = np.NaN\n",
    "group_4 = data_df.groupby('size')\n",
    "f = lambda x: x.fillna(x.mean())\n",
    "df_trans = group_4.transform(f)\n",
    "df_trans"
   ]
  },
  {
   "cell_type": "code",
   "execution_count": 18,
   "metadata": {
    "ExecuteTime": {
     "end_time": "2021-05-30T03:38:20.455356Z",
     "start_time": "2021-05-30T03:38:20.429330Z"
    }
   },
   "outputs": [
    {
     "data": {
      "text/html": [
       "<div>\n",
       "<style scoped>\n",
       "    .dataframe tbody tr th:only-of-type {\n",
       "        vertical-align: middle;\n",
       "    }\n",
       "\n",
       "    .dataframe tbody tr th {\n",
       "        vertical-align: top;\n",
       "    }\n",
       "\n",
       "    .dataframe thead th {\n",
       "        text-align: right;\n",
       "    }\n",
       "</style>\n",
       "<table border=\"1\" class=\"dataframe\">\n",
       "  <thead>\n",
       "    <tr style=\"text-align: right;\">\n",
       "      <th></th>\n",
       "      <th></th>\n",
       "      <th>color</th>\n",
       "      <th>size</th>\n",
       "      <th>date</th>\n",
       "      <th>feature_1</th>\n",
       "      <th>feature_2</th>\n",
       "    </tr>\n",
       "    <tr>\n",
       "      <th>class</th>\n",
       "      <th>country</th>\n",
       "      <th></th>\n",
       "      <th></th>\n",
       "      <th></th>\n",
       "      <th></th>\n",
       "      <th></th>\n",
       "    </tr>\n",
       "  </thead>\n",
       "  <tbody>\n",
       "    <tr>\n",
       "      <th>A</th>\n",
       "      <th>JP</th>\n",
       "      <td>black</td>\n",
       "      <td>S</td>\n",
       "      <td>2019-01-06</td>\n",
       "      <td>-0.664015</td>\n",
       "      <td>1.532936</td>\n",
       "    </tr>\n",
       "    <tr>\n",
       "      <th rowspan=\"3\" valign=\"top\">B</th>\n",
       "      <th>CN</th>\n",
       "      <td>white</td>\n",
       "      <td>M</td>\n",
       "      <td>NaT</td>\n",
       "      <td>NaN</td>\n",
       "      <td>1.272754</td>\n",
       "    </tr>\n",
       "    <tr>\n",
       "      <th>US</th>\n",
       "      <td>black</td>\n",
       "      <td>L</td>\n",
       "      <td>2019-01-20</td>\n",
       "      <td>-0.525789</td>\n",
       "      <td>-1.261101</td>\n",
       "    </tr>\n",
       "    <tr>\n",
       "      <th>US</th>\n",
       "      <td>white</td>\n",
       "      <td>M</td>\n",
       "      <td>2019-01-27</td>\n",
       "      <td>-0.871058</td>\n",
       "      <td>3.929972</td>\n",
       "    </tr>\n",
       "    <tr>\n",
       "      <th>C</th>\n",
       "      <th>US</th>\n",
       "      <td>black</td>\n",
       "      <td>L</td>\n",
       "      <td>2019-02-03</td>\n",
       "      <td>-0.633624</td>\n",
       "      <td>-3.086163</td>\n",
       "    </tr>\n",
       "    <tr>\n",
       "      <th>A</th>\n",
       "      <th>CN</th>\n",
       "      <td>white</td>\n",
       "      <td>S</td>\n",
       "      <td>2019-02-10</td>\n",
       "      <td>0.733126</td>\n",
       "      <td>-3.969895</td>\n",
       "    </tr>\n",
       "    <tr>\n",
       "      <th>B</th>\n",
       "      <th>CN</th>\n",
       "      <td>black</td>\n",
       "      <td>S</td>\n",
       "      <td>2019-02-17</td>\n",
       "      <td>-1.002858</td>\n",
       "      <td>1.235526</td>\n",
       "    </tr>\n",
       "    <tr>\n",
       "      <th>A</th>\n",
       "      <th>CA</th>\n",
       "      <td>white</td>\n",
       "      <td>XL</td>\n",
       "      <td>2019-02-24</td>\n",
       "      <td>-0.491722</td>\n",
       "      <td>2.532934</td>\n",
       "    </tr>\n",
       "    <tr>\n",
       "      <th rowspan=\"2\" valign=\"top\">C</th>\n",
       "      <th>JP</th>\n",
       "      <td>black</td>\n",
       "      <td>XL</td>\n",
       "      <td>2019-03-03</td>\n",
       "      <td>0.348796</td>\n",
       "      <td>-1.160670</td>\n",
       "    </tr>\n",
       "    <tr>\n",
       "      <th>CA</th>\n",
       "      <td>white</td>\n",
       "      <td>M</td>\n",
       "      <td>2019-03-10</td>\n",
       "      <td>0.207771</td>\n",
       "      <td>2.686580</td>\n",
       "    </tr>\n",
       "  </tbody>\n",
       "</table>\n",
       "</div>"
      ],
      "text/plain": [
       "               color size       date  feature_1  feature_2\n",
       "class country                                             \n",
       "A     JP       black    S 2019-01-06  -0.664015   1.532936\n",
       "B     CN       white    M        NaT        NaN   1.272754\n",
       "      US       black    L 2019-01-20  -0.525789  -1.261101\n",
       "      US       white    M 2019-01-27  -0.871058   3.929972\n",
       "C     US       black    L 2019-02-03  -0.633624  -3.086163\n",
       "A     CN       white    S 2019-02-10   0.733126  -3.969895\n",
       "B     CN       black    S 2019-02-17  -1.002858   1.235526\n",
       "A     CA       white   XL 2019-02-24  -0.491722   2.532934\n",
       "C     JP       black   XL 2019-03-03   0.348796  -1.160670\n",
       "      CA       white    M 2019-03-10   0.207771   2.686580"
      ]
     },
     "execution_count": 18,
     "metadata": {},
     "output_type": "execute_result"
    }
   ],
   "source": [
    "data_df"
   ]
  },
  {
   "cell_type": "markdown",
   "metadata": {},
   "source": [
    "根据列标签color进行分组后对列标签feature_1使用rolling方法,滚动计算最新的三个值的平均。"
   ]
  },
  {
   "cell_type": "code",
   "execution_count": 19,
   "metadata": {
    "ExecuteTime": {
     "end_time": "2021-05-30T03:38:23.804638Z",
     "start_time": "2021-05-30T03:38:23.784320Z"
    }
   },
   "outputs": [
    {
     "data": {
      "text/plain": [
       "color  class  country\n",
       "black  A      JP              NaN\n",
       "       B      US              NaN\n",
       "       C      US        -0.607810\n",
       "       B      CN        -0.720757\n",
       "       C      JP        -0.429229\n",
       "white  B      CN              NaN\n",
       "              US              NaN\n",
       "       A      CN              NaN\n",
       "              CA        -0.209885\n",
       "       C      CA         0.149725\n",
       "Name: feature_1, dtype: float64"
      ]
     },
     "execution_count": 19,
     "metadata": {},
     "output_type": "execute_result"
    }
   ],
   "source": [
    "data_df.groupby('color').rolling(3).feature_1.mean()"
   ]
  },
  {
   "cell_type": "markdown",
   "metadata": {},
   "source": [
    "expanding函数会对给定的操作（如下例中的sum）进行叠加"
   ]
  },
  {
   "cell_type": "code",
   "execution_count": 20,
   "metadata": {
    "ExecuteTime": {
     "end_time": "2021-05-30T03:39:06.272166Z",
     "start_time": "2021-05-30T03:39:06.249793Z"
    }
   },
   "outputs": [
    {
     "data": {
      "text/plain": [
       "color  class  country\n",
       "black  A      JP              NaN\n",
       "       B      US              NaN\n",
       "       C      US        -1.823429\n",
       "       B      CN        -2.826286\n",
       "       C      JP        -2.477491\n",
       "white  B      CN              NaN\n",
       "              US              NaN\n",
       "       A      CN              NaN\n",
       "              CA        -0.629654\n",
       "       C      CA        -0.421883\n",
       "Name: feature_1, dtype: float64"
      ]
     },
     "execution_count": 20,
     "metadata": {},
     "output_type": "execute_result"
    }
   ],
   "source": [
    "data_df.groupby('color').expanding(3).feature_1.sum()"
   ]
  },
  {
   "cell_type": "markdown",
   "metadata": {},
   "source": [
    "filter函数的参数是作用于整个组且返回值为True或False的函数，我们可以利用filter函数得到分组后的某些特定组别,如下例中元素个数大于三的分组。"
   ]
  },
  {
   "cell_type": "code",
   "execution_count": 21,
   "metadata": {
    "ExecuteTime": {
     "end_time": "2021-05-30T03:39:09.116191Z",
     "start_time": "2021-05-30T03:39:09.088654Z"
    }
   },
   "outputs": [
    {
     "data": {
      "text/html": [
       "<div>\n",
       "<style scoped>\n",
       "    .dataframe tbody tr th:only-of-type {\n",
       "        vertical-align: middle;\n",
       "    }\n",
       "\n",
       "    .dataframe tbody tr th {\n",
       "        vertical-align: top;\n",
       "    }\n",
       "\n",
       "    .dataframe thead th {\n",
       "        text-align: right;\n",
       "    }\n",
       "</style>\n",
       "<table border=\"1\" class=\"dataframe\">\n",
       "  <thead>\n",
       "    <tr style=\"text-align: right;\">\n",
       "      <th></th>\n",
       "      <th></th>\n",
       "      <th>color</th>\n",
       "      <th>size</th>\n",
       "      <th>date</th>\n",
       "      <th>feature_1</th>\n",
       "      <th>feature_2</th>\n",
       "    </tr>\n",
       "    <tr>\n",
       "      <th>class</th>\n",
       "      <th>country</th>\n",
       "      <th></th>\n",
       "      <th></th>\n",
       "      <th></th>\n",
       "      <th></th>\n",
       "      <th></th>\n",
       "    </tr>\n",
       "  </thead>\n",
       "  <tbody>\n",
       "    <tr>\n",
       "      <th rowspan=\"4\" valign=\"top\">B</th>\n",
       "      <th>CN</th>\n",
       "      <td>white</td>\n",
       "      <td>M</td>\n",
       "      <td>NaT</td>\n",
       "      <td>NaN</td>\n",
       "      <td>1.272754</td>\n",
       "    </tr>\n",
       "    <tr>\n",
       "      <th>US</th>\n",
       "      <td>black</td>\n",
       "      <td>L</td>\n",
       "      <td>2019-01-20</td>\n",
       "      <td>-0.525789</td>\n",
       "      <td>-1.261101</td>\n",
       "    </tr>\n",
       "    <tr>\n",
       "      <th>US</th>\n",
       "      <td>white</td>\n",
       "      <td>M</td>\n",
       "      <td>2019-01-27</td>\n",
       "      <td>-0.871058</td>\n",
       "      <td>3.929972</td>\n",
       "    </tr>\n",
       "    <tr>\n",
       "      <th>CN</th>\n",
       "      <td>black</td>\n",
       "      <td>S</td>\n",
       "      <td>2019-02-17</td>\n",
       "      <td>-1.002858</td>\n",
       "      <td>1.235526</td>\n",
       "    </tr>\n",
       "  </tbody>\n",
       "</table>\n",
       "</div>"
      ],
      "text/plain": [
       "               color size       date  feature_1  feature_2\n",
       "class country                                             \n",
       "B     CN       white    M        NaT        NaN   1.272754\n",
       "      US       black    L 2019-01-20  -0.525789  -1.261101\n",
       "      US       white    M 2019-01-27  -0.871058   3.929972\n",
       "      CN       black    S 2019-02-17  -1.002858   1.235526"
      ]
     },
     "execution_count": 21,
     "metadata": {},
     "output_type": "execute_result"
    }
   ],
   "source": [
    "data_df.groupby('class').filter(lambda x: len(x) > 3)"
   ]
  },
  {
   "cell_type": "markdown",
   "metadata": {},
   "source": [
    "有些对于分组数据的处理用transform和aggregate都很难完成，这时候我们需要使用apply函数，apply相较两者更加灵活。在apply中可使用用自定义函数。"
   ]
  },
  {
   "cell_type": "code",
   "execution_count": 22,
   "metadata": {
    "ExecuteTime": {
     "end_time": "2021-05-30T03:39:13.372384Z",
     "start_time": "2021-05-30T03:39:13.319470Z"
    }
   },
   "outputs": [
    {
     "data": {
      "text/plain": [
       "class       \n",
       "A      count    3.000000\n",
       "       mean    -0.140870\n",
       "       std      0.761790\n",
       "       min     -0.664015\n",
       "       25%     -0.577869\n",
       "       50%     -0.491722\n",
       "       75%      0.120702\n",
       "       max      0.733126\n",
       "B      count    3.000000\n",
       "       mean    -0.799902\n",
       "       std      0.246366\n",
       "       min     -1.002858\n",
       "       25%     -0.936958\n",
       "       50%     -0.871058\n",
       "       75%     -0.698424\n",
       "       max     -0.525789\n",
       "C      count    3.000000\n",
       "       mean    -0.025686\n",
       "       std      0.531191\n",
       "       min     -0.633624\n",
       "       25%     -0.212926\n",
       "       50%      0.207771\n",
       "       75%      0.278284\n",
       "       max      0.348796\n",
       "Name: feature_1, dtype: float64"
      ]
     },
     "execution_count": 22,
     "metadata": {},
     "output_type": "execute_result"
    }
   ],
   "source": [
    "data_df.groupby('class')['feature_1'].apply(lambda x: x.describe())"
   ]
  },
  {
   "cell_type": "code",
   "execution_count": 23,
   "metadata": {
    "ExecuteTime": {
     "end_time": "2021-05-30T03:39:21.430662Z",
     "start_time": "2021-05-30T03:39:21.300167Z"
    }
   },
   "outputs": [
    {
     "data": {
      "text/html": [
       "<div>\n",
       "<style scoped>\n",
       "    .dataframe tbody tr th:only-of-type {\n",
       "        vertical-align: middle;\n",
       "    }\n",
       "\n",
       "    .dataframe tbody tr th {\n",
       "        vertical-align: top;\n",
       "    }\n",
       "\n",
       "    .dataframe thead th {\n",
       "        text-align: right;\n",
       "    }\n",
       "</style>\n",
       "<table border=\"1\" class=\"dataframe\">\n",
       "  <thead>\n",
       "    <tr style=\"text-align: right;\">\n",
       "      <th></th>\n",
       "      <th></th>\n",
       "      <th>original</th>\n",
       "      <th>demeaned</th>\n",
       "    </tr>\n",
       "    <tr>\n",
       "      <th>class</th>\n",
       "      <th>country</th>\n",
       "      <th></th>\n",
       "      <th></th>\n",
       "    </tr>\n",
       "  </thead>\n",
       "  <tbody>\n",
       "    <tr>\n",
       "      <th>A</th>\n",
       "      <th>JP</th>\n",
       "      <td>-0.664015</td>\n",
       "      <td>-0.523145</td>\n",
       "    </tr>\n",
       "    <tr>\n",
       "      <th rowspan=\"4\" valign=\"top\">B</th>\n",
       "      <th>CN</th>\n",
       "      <td>NaN</td>\n",
       "      <td>NaN</td>\n",
       "    </tr>\n",
       "    <tr>\n",
       "      <th>CN</th>\n",
       "      <td>-1.002858</td>\n",
       "      <td>-0.202956</td>\n",
       "    </tr>\n",
       "    <tr>\n",
       "      <th>US</th>\n",
       "      <td>-0.525789</td>\n",
       "      <td>0.274112</td>\n",
       "    </tr>\n",
       "    <tr>\n",
       "      <th>US</th>\n",
       "      <td>-0.871058</td>\n",
       "      <td>-0.071156</td>\n",
       "    </tr>\n",
       "    <tr>\n",
       "      <th>C</th>\n",
       "      <th>US</th>\n",
       "      <td>-0.633624</td>\n",
       "      <td>-0.607939</td>\n",
       "    </tr>\n",
       "    <tr>\n",
       "      <th rowspan=\"2\" valign=\"top\">A</th>\n",
       "      <th>CN</th>\n",
       "      <td>0.733126</td>\n",
       "      <td>0.873996</td>\n",
       "    </tr>\n",
       "    <tr>\n",
       "      <th>CA</th>\n",
       "      <td>-0.491722</td>\n",
       "      <td>-0.350851</td>\n",
       "    </tr>\n",
       "    <tr>\n",
       "      <th rowspan=\"2\" valign=\"top\">C</th>\n",
       "      <th>JP</th>\n",
       "      <td>0.348796</td>\n",
       "      <td>0.374482</td>\n",
       "    </tr>\n",
       "    <tr>\n",
       "      <th>CA</th>\n",
       "      <td>0.207771</td>\n",
       "      <td>0.233457</td>\n",
       "    </tr>\n",
       "  </tbody>\n",
       "</table>\n",
       "</div>"
      ],
      "text/plain": [
       "               original  demeaned\n",
       "class country                    \n",
       "A     JP      -0.664015 -0.523145\n",
       "B     CN            NaN       NaN\n",
       "      CN      -1.002858 -0.202956\n",
       "      US      -0.525789  0.274112\n",
       "      US      -0.871058 -0.071156\n",
       "C     US      -0.633624 -0.607939\n",
       "A     CN       0.733126  0.873996\n",
       "      CA      -0.491722 -0.350851\n",
       "C     JP       0.348796  0.374482\n",
       "      CA       0.207771  0.233457"
      ]
     },
     "execution_count": 23,
     "metadata": {},
     "output_type": "execute_result"
    }
   ],
   "source": [
    "def f(group):\n",
    "    return pd.DataFrame({'original' : group,'demeaned' : group - group.mean()})\n",
    "data_df.groupby('class')['feature_1'].apply(f)"
   ]
  },
  {
   "cell_type": "markdown",
   "metadata": {},
   "source": [
    "# 参考文献"
   ]
  },
  {
   "cell_type": "markdown",
   "metadata": {},
   "source": [
    "1. pandas toolkit\n",
    "2. https://cloud.tencent.com/developer/article/1193823"
   ]
  },
  {
   "cell_type": "code",
   "execution_count": null,
   "metadata": {},
   "outputs": [],
   "source": []
  }
 ],
 "metadata": {
  "hide_input": false,
  "kernelspec": {
   "display_name": "Python 3",
   "language": "python",
   "name": "python3"
  },
  "language_info": {
   "codemirror_mode": {
    "name": "ipython",
    "version": 3
   },
   "file_extension": ".py",
   "mimetype": "text/x-python",
   "name": "python",
   "nbconvert_exporter": "python",
   "pygments_lexer": "ipython3",
   "version": "3.8.10"
  },
  "toc": {
   "base_numbering": 1,
   "nav_menu": {},
   "number_sections": true,
   "sideBar": true,
   "skip_h1_title": false,
   "title_cell": "Table of Contents",
   "title_sidebar": "Contents",
   "toc_cell": false,
   "toc_position": {},
   "toc_section_display": true,
   "toc_window_display": true
  },
  "varInspector": {
   "cols": {
    "lenName": 16,
    "lenType": 16,
    "lenVar": 40
   },
   "kernels_config": {
    "python": {
     "delete_cmd_postfix": "",
     "delete_cmd_prefix": "del ",
     "library": "var_list.py",
     "varRefreshCmd": "print(var_dic_list())"
    },
    "r": {
     "delete_cmd_postfix": ") ",
     "delete_cmd_prefix": "rm(",
     "library": "var_list.r",
     "varRefreshCmd": "cat(var_dic_list()) "
    }
   },
   "types_to_exclude": [
    "module",
    "function",
    "builtin_function_or_method",
    "instance",
    "_Feature"
   ],
   "window_display": false
  }
 },
 "nbformat": 4,
 "nbformat_minor": 1
}
