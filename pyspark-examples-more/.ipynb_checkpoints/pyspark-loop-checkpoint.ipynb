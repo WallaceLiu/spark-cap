{
 "cells": [
  {
   "cell_type": "code",
   "execution_count": 2,
   "id": "e12222d9",
   "metadata": {},
   "outputs": [
    {
     "name": "stdout",
     "output_type": "stream",
     "text": [
      "+---------+--------+------+------+\n",
      "|firstname|lastname|gender|salary|\n",
      "+---------+--------+------+------+\n",
      "|    James|   Smith|     M|    30|\n",
      "|     Anna|    Rose|     F|    41|\n",
      "|   Robert|Williams|     M|    62|\n",
      "+---------+--------+------+------+\n",
      "\n"
     ]
    }
   ],
   "source": [
    "from pyspark.sql import SparkSession\n",
    "# spark = SparkSession.builder \\\n",
    "#                     .appName('SparkByExamples.com') \\\n",
    "#                     .getOrCreate()\n",
    "\n",
    "data = [\n",
    "    ('James', 'Smith', 'M', 30),\n",
    "    ('Anna', 'Rose', 'F', 41),\n",
    "    ('Robert', 'Williams', 'M', 62),\n",
    "]\n",
    "\n",
    "columns = [\"firstname\", \"lastname\", \"gender\", \"salary\"]\n",
    "df = spark.createDataFrame(data=data, schema=columns)\n",
    "df.show()"
   ]
  },
  {
   "cell_type": "code",
   "execution_count": 3,
   "id": "9c7f8c27",
   "metadata": {},
   "outputs": [
    {
     "name": "stdout",
     "output_type": "stream",
     "text": [
      "+---------------+------+----------+\n",
      "|           name|gender|new_salary|\n",
      "+---------------+------+----------+\n",
      "|    James,Smith|     M|        60|\n",
      "|      Anna,Rose|     F|        82|\n",
      "|Robert,Williams|     M|       124|\n",
      "+---------------+------+----------+\n",
      "\n",
      "[Row(firstname='James', lastname='Smith', gender='M', salary=30), Row(firstname='Anna', lastname='Rose', gender='F', salary=41), Row(firstname='Robert', lastname='Williams', gender='M', salary=62)]\n",
      "+---------------+------+----------+\n",
      "|           name|gender|new_salary|\n",
      "+---------------+------+----------+\n",
      "|    James,Smith|     M|        60|\n",
      "|      Anna,Rose|     F|        82|\n",
      "|Robert,Williams|     M|       124|\n",
      "+---------------+------+----------+\n",
      "\n"
     ]
    }
   ],
   "source": [
    "from pyspark.sql.functions import concat_ws, col, lit\n",
    "df.select(concat_ws(\",\",df.firstname,df.lastname).alias(\"name\"), \\\n",
    "          df.gender,lit(df.salary*2).alias(\"new_salary\")).show()\n",
    "\n",
    "print(df.collect())\n",
    "rdd = df.rdd.map(lambda x: (x[0] + \",\" + x[1], x[2], x[3] * 2))\n",
    "df2 = rdd.toDF([\"name\", \"gender\", \"new_salary\"])\n",
    "df2.show()"
   ]
  },
  {
   "cell_type": "code",
   "execution_count": 4,
   "id": "b40275d4",
   "metadata": {},
   "outputs": [],
   "source": [
    "#Referring Column Names\n",
    "rdd2 = df.rdd.map(lambda x: (x[\"firstname\"] + \",\" + x[\"lastname\"], x[\"gender\"],\n",
    "                             x[\"salary\"] * 2))"
   ]
  },
  {
   "cell_type": "code",
   "execution_count": 5,
   "id": "b09a7073",
   "metadata": {},
   "outputs": [],
   "source": [
    "#Referring Column Names\n",
    "rdd2 = df.rdd.map(lambda x:\n",
    "                  (x.firstname + \",\" + x.lastname, x.gender, x.salary * 2))"
   ]
  },
  {
   "cell_type": "code",
   "execution_count": 6,
   "id": "e6685c01",
   "metadata": {},
   "outputs": [],
   "source": [
    "def func1(x):\n",
    "    firstName = x.firstname\n",
    "    lastName = x.lastName\n",
    "    name = firstName + \",\" + lastName\n",
    "    gender = x.gender.lower()\n",
    "    salary = x.salary * 2\n",
    "    return (name, gender, salary)\n",
    "\n",
    "\n",
    "rdd2 = df.rdd.map(lambda x: func1(x))\n",
    "\n",
    "\n",
    "#Foeeach example\n",
    "def f(x):\n",
    "    print(x)\n",
    "\n",
    "\n",
    "df.rdd.foreach(f)"
   ]
  },
  {
   "cell_type": "code",
   "execution_count": 7,
   "id": "35b6831c",
   "metadata": {},
   "outputs": [],
   "source": [
    "df.rdd.foreach(lambda x: print(\"Data ==>\" + x[\"firstname\"] + \",\" + x[\n",
    "    \"lastname\"] + \",\" + x[\"gender\"] + \",\" + str(x[\"salary\"] * 2)))"
   ]
  },
  {
   "cell_type": "code",
   "execution_count": 8,
   "id": "daa8a4bc",
   "metadata": {},
   "outputs": [
    {
     "name": "stdout",
     "output_type": "stream",
     "text": [
      "James,Smith\n",
      "Anna,Rose\n",
      "Robert,Williams\n",
      "James,Smith\n",
      "Anna,Rose\n",
      "Robert,Williams\n",
      "James M\n",
      "Anna F\n",
      "Robert M\n"
     ]
    }
   ],
   "source": [
    "#Iterate collected data\n",
    "dataCollect = df.collect()\n",
    "for row in dataCollect:\n",
    "    print(row['firstname'] + \",\" + row['lastname'])\n",
    "\n",
    "#Convert to Pandas and Iterate\n",
    "\n",
    "dataCollect = df.rdd.toLocalIterator()\n",
    "for row in dataCollect:\n",
    "    print(row['firstname'] + \",\" + row['lastname'])\n",
    "\n",
    "import pandas as pd\n",
    "\n",
    "pandasDF = df.toPandas()\n",
    "for index, row in pandasDF.iterrows():\n",
    "    print(row['firstname'], row['gender'])"
   ]
  },
  {
   "cell_type": "code",
   "execution_count": null,
   "id": "fb06db80",
   "metadata": {},
   "outputs": [],
   "source": []
  }
 ],
 "metadata": {
  "kernelspec": {
   "display_name": "Python 3",
   "language": "python",
   "name": "python3"
  },
  "language_info": {
   "codemirror_mode": {
    "name": "ipython",
    "version": 3
   },
   "file_extension": ".py",
   "mimetype": "text/x-python",
   "name": "python",
   "nbconvert_exporter": "python",
   "pygments_lexer": "ipython3",
   "version": "3.8.10"
  }
 },
 "nbformat": 4,
 "nbformat_minor": 5
}
