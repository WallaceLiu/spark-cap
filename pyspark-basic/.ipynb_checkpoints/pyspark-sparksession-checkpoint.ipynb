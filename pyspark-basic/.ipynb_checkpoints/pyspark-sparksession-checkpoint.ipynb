{
 "cells": [
  {
   "cell_type": "markdown",
   "id": "edef60da",
   "metadata": {},
   "source": [
    "https://sparkbyexamples.com/pyspark/pyspark-what-is-sparksession/"
   ]
  },
  {
   "cell_type": "markdown",
   "id": "ac23ff30",
   "metadata": {},
   "source": [
    "# What is SparkSession\n",
    "SparkSession introduced in version 2.0, It is an entry point to underlying PySpark functionality in order to programmatically create PySpark RDD, DataFrame. It’s object spark is default available in pyspark-shell and it can be created programmatically using SparkSession."
   ]
  },
  {
   "cell_type": "markdown",
   "id": "06aad6db",
   "metadata": {},
   "source": [
    "# SparkSession\n",
    "With Spark 2.0 a new class SparkSession (pyspark.sql import SparkSession) has been introduced. SparkSession is a combined class for all different contexts we used to have prior to 2.0 relase (SQLContext and HiveContext e.t.c). Since 2.0 SparkSession can be used in replace with SQLContext, HiveContext, and other contexts defined prior to 2.0.\n",
    "\n",
    "As mentioned in the beginning SparkSession is an entry point to PySpark and creating a SparkSession instance would be the first statement you would write to program with RDD, DataFrame, and Dataset. SparkSession will be created using SparkSession.builder builder patterns.\n",
    "\n",
    "Though SparkContext used to be an entry point prior to 2.0, It is not completely replaced with SparkSession, many features of SparkContext are still available and used in Spark 2.0 and later. You should also know that SparkSession internally creates SparkConfig and SparkContext with the configuration provided with SparkSession."
   ]
  },
  {
   "cell_type": "markdown",
   "id": "cea1b338",
   "metadata": {},
   "source": [
    "Spark Session also includes all the APIs available in different contexts –\n",
    "\n",
    "- Spark Context\n",
    "- SQL Context\n",
    "- Streaming Context\n",
    "- Hive Context\n",
    "\n",
    "You can create as many SparkSession objects you want using either SparkSession.builder or SparkSession.newSession."
   ]
  },
  {
   "cell_type": "markdown",
   "id": "6ebe0feb",
   "metadata": {},
   "source": [
    "## SparkSession in PySpark shell\n",
    "Be default PySpark shell provides “spark” object; which is an instance of SparkSession class. We can directly use this object where required in spark-shell. Start your “pyspark” shell from $SPARK_HOME\\bin folder and enter the below statement.\n",
    "\n",
    "sqlcontext = spark.sqlContext\n",
    "\n",
    "Similar to PySpark shell, In most of the tools, the environment itself creates default SparkSession object for us to use so you don’t have to worry about creating SparkSession object.\n",
    "\n",
    "## Create SparkSession\n",
    "In order to create SparkSession programmatically( in .py file) in PySpark, you need to use the builder pattern method builder() as explained below. getOrCreate() method returns an already existing SparkSession; if not exists, it creates a new SparkSession."
   ]
  },
  {
   "cell_type": "markdown",
   "id": "b4624f68",
   "metadata": {},
   "source": [
    "```python\n",
    "import pyspark\n",
    "from pyspark.sql import SparkSession\n",
    "spark = SparkSession.builder.master(\"local[1]\") \\\n",
    "                    .appName('SparkByExamples.com') \\\n",
    "                    .getOrCreate()\n",
    "print(\"First SparkContext:\")\n",
    "print(\"APP Name :\" + spark.sparkContext.appName)\n",
    "print(\"Master :\" + spark.sparkContext.master)\n",
    "\n",
    "sparkSession2 = SparkSession.builder \\\n",
    "      .master(\"local[1]\") \\\n",
    "      .appName(\"SparkByExample-test\") \\\n",
    "      .getOrCreate()\n",
    "\n",
    "print(\"Second SparkContext:\")\n",
    "print(\"APP Name :\" + sparkSession2.sparkContext.appName)\n",
    "print(\"Master :\" + sparkSession2.sparkContext.master)\n",
    "```\n",
    "\n",
    "- master() – If you are running it on the cluster you need to use your master name as an argument to master(). usually, it would be either yarn or mesos depends on your cluster setup.\n",
    "\n",
    "Use local[x] when running in Standalone mode. x should be an integer value and should be greater than 0; this represents how many partitions it should create when using RDD, DataFrame, and Dataset. Ideally, x value should be the number of CPU cores you have.\n",
    "\n",
    "- appName() – Used to set your application name.\n",
    "- getOrCreate() – This returns a SparkSession object if already exists, creates new one if not exists."
   ]
  },
  {
   "cell_type": "markdown",
   "id": "dd145179",
   "metadata": {},
   "source": [
    "Note:  SparkSession object “spark” is by default available in PySpark shell."
   ]
  },
  {
   "cell_type": "markdown",
   "id": "f7014df1",
   "metadata": {},
   "source": [
    "You can also create a new SparkSession using newSession() method."
   ]
  },
  {
   "cell_type": "markdown",
   "id": "ba7302fc",
   "metadata": {},
   "source": [
    "```python\n",
    "import pyspark\n",
    "from pyspark.sql import SparkSession\n",
    "\n",
    "sparkSession3 = SparkSession.newSession\n",
    "\n",
    "print(\"Second SparkContext:\")\n",
    "print(\"APP Name :\" + sparkSession3.sparkContext.appName)\n",
    "print(\"Master :\" + sparkSession3.sparkContext.master)\n",
    "```"
   ]
  },
  {
   "cell_type": "markdown",
   "id": "e3348a08",
   "metadata": {},
   "source": [
    "This always creates new SparkSession object."
   ]
  },
  {
   "cell_type": "markdown",
   "id": "0c38fbb3",
   "metadata": {},
   "source": [
    "# SparkSession Commonly Used Methods\n",
    "<strong><br>version</strong> – Returns Spark version where your application is running, probably the Spark version you cluster is configured with.\n",
    "\n",
    "<strong>createDataFrame</strong>() – This creates a DataFrame from a collection and an RDD\n",
    "\n",
    "<strong>getActiveSession</strong>() – returns an active Spark session.\n",
    "\n",
    "<strong><a href=\"https://spark.apache.org/docs/2.3.0/api/java/org/apache/spark/sql/SparkSession.html#read--\">read</a></strong>() – Returns an instance of DataFrameReader class, this is used to read records from csv, parquet, avro and more file formats into DataFrame.\n",
    "\n",
    "<strong><a href=\"https://spark.apache.org/docs/2.3.0/api/java/org/apache/spark/sql/SparkSession.html#readStream--\">readStream</a></strong>() – Returns an instance of DataStreamReader class, this is used to read streaming data. that can be used to read streaming data into DataFrame.\n",
    "\n",
    "<strong><a href=\"https://spark.apache.org/docs/2.3.0/api/java/org/apache/spark/sql/SparkSession.html#sparkContext--\">sparkContext</a></strong>() – Returns a SparkContext.\n",
    "\n",
    "<strong><a href=\"https://spark.apache.org/docs/2.3.0/api/java/org/apache/spark/sql/SparkSession.html#sql-java.lang.String-\">sql</a></strong> – Returns a DataFrame after executing the SQL mentioned.\n",
    "\n",
    "<strong>sqlContext</strong> – Returns SQLContext.\n",
    "\n",
    "<strong>stop</strong>() – Stop the current SparkContext.\n",
    "\n",
    "<strong>table</strong>() – Returns a DataFrame of a table or view.\n",
    "\n",
    "<strong>udf</strong>() – Creates a PySpark UDF to use it on DataFrame, Dataset, and SQL."
   ]
  },
  {
   "cell_type": "code",
   "execution_count": 1,
   "id": "b46ea34a",
   "metadata": {},
   "outputs": [
    {
     "data": {
      "text/plain": [
       "'3.1.2'"
      ]
     },
     "execution_count": 1,
     "metadata": {},
     "output_type": "execute_result"
    }
   ],
   "source": [
    "spark.version"
   ]
  },
  {
   "cell_type": "code",
   "execution_count": 5,
   "id": "f0db34d0",
   "metadata": {},
   "outputs": [
    {
     "data": {
      "text/html": [
       "\n",
       "        <div>\n",
       "            <p><b>SparkContext</b></p>\n",
       "\n",
       "            <p><a href=\"http://192.168.3.15:4052\">Spark UI</a></p>\n",
       "\n",
       "            <dl>\n",
       "              <dt>Version</dt>\n",
       "                <dd><code>v3.1.2</code></dd>\n",
       "              <dt>Master</dt>\n",
       "                <dd><code>local[*]</code></dd>\n",
       "              <dt>AppName</dt>\n",
       "                <dd><code>PySparkShell</code></dd>\n",
       "            </dl>\n",
       "        </div>\n",
       "        "
      ],
      "text/plain": [
       "<SparkContext master=local[*] appName=PySparkShell>"
      ]
     },
     "execution_count": 5,
     "metadata": {},
     "output_type": "execute_result"
    }
   ],
   "source": [
    "spark.sparkContext"
   ]
  },
  {
   "cell_type": "code",
   "execution_count": null,
   "id": "156b2f13",
   "metadata": {},
   "outputs": [],
   "source": []
  }
 ],
 "metadata": {
  "kernelspec": {
   "display_name": "Python 3",
   "language": "python",
   "name": "python3"
  },
  "language_info": {
   "codemirror_mode": {
    "name": "ipython",
    "version": 3
   },
   "file_extension": ".py",
   "mimetype": "text/x-python",
   "name": "python",
   "nbconvert_exporter": "python",
   "pygments_lexer": "ipython3",
   "version": "3.8.10"
  },
  "toc": {
   "base_numbering": 1,
   "nav_menu": {},
   "number_sections": true,
   "sideBar": true,
   "skip_h1_title": false,
   "title_cell": "Table of Contents",
   "title_sidebar": "Contents",
   "toc_cell": false,
   "toc_position": {},
   "toc_section_display": true,
   "toc_window_display": true
  },
  "varInspector": {
   "cols": {
    "lenName": 16,
    "lenType": 16,
    "lenVar": 40
   },
   "kernels_config": {
    "python": {
     "delete_cmd_postfix": "",
     "delete_cmd_prefix": "del ",
     "library": "var_list.py",
     "varRefreshCmd": "print(var_dic_list())"
    },
    "r": {
     "delete_cmd_postfix": ") ",
     "delete_cmd_prefix": "rm(",
     "library": "var_list.r",
     "varRefreshCmd": "cat(var_dic_list()) "
    }
   },
   "types_to_exclude": [
    "module",
    "function",
    "builtin_function_or_method",
    "instance",
    "_Feature"
   ],
   "window_display": false
  }
 },
 "nbformat": 4,
 "nbformat_minor": 5
}
