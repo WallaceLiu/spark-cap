{
 "cells": [
  {
   "cell_type": "code",
   "execution_count": null,
   "id": "511a192a",
   "metadata": {},
   "outputs": [],
   "source": [
    "from pyspark.sql import SparkSession\n",
    "\n",
    "#EMP DataFrame\n",
    "empData = [(1, \"Smith\", 10), (2, \"Rose\", 20), (3, \"Williams\", 10),\n",
    "           (4, \"Jones\", 30)]\n",
    "empColumns = [\"emp_id\", \"name\", \"emp_dept_id\"]\n",
    "empDF = spark.createDataFrame(empData, empColumns)\n",
    "empDF.show()"
   ]
  },
  {
   "cell_type": "code",
   "execution_count": null,
   "id": "8436fbf8",
   "metadata": {},
   "outputs": [],
   "source": [
    "#DEPT DataFrame\n",
    "deptData = [(\"Finance\", 10), (\"Marketing\", 20), (\"Sales\", 30), (\"IT\", 40)]\n",
    "deptColumns = [\"dept_name\", \"dept_id\"]\n",
    "deptDF = spark.createDataFrame(deptData, deptColumns)\n",
    "deptDF.show()"
   ]
  },
  {
   "cell_type": "code",
   "execution_count": null,
   "id": "e278270e",
   "metadata": {},
   "outputs": [],
   "source": [
    "#Address DataFrame\n",
    "addData = [(1, \"1523 Main St\", \"SFO\", \"CA\"),\n",
    "           (2, \"3453 Orange St\", \"SFO\", \"NY\"),\n",
    "           (3, \"34 Warner St\", \"Jersey\", \"NJ\"),\n",
    "           (4, \"221 Cavalier St\", \"Newark\", \"DE\"),\n",
    "           (5, \"789 Walnut St\", \"Sandiago\", \"CA\")]\n",
    "addColumns = [\"emp_id\", \"addline1\", \"city\", \"state\"]\n",
    "addDF = spark.createDataFrame(addData, addColumns)\n",
    "addDF.show()"
   ]
  },
  {
   "cell_type": "code",
   "execution_count": null,
   "id": "e8742233",
   "metadata": {},
   "outputs": [],
   "source": [
    "#Join two DataFrames\n",
    "empDF.join(addDF, empDF[\"emp_id\"] == addDF[\"emp_id\"]).show()\n",
    "\n",
    "#Drop duplicate column\n",
    "empDF.join(addDF, [\"emp_id\"]).show()\n",
    "\n",
    "#Join Multiple DataFrames\n",
    "empDF.join(addDF,[\"emp_id\"]) \\\n",
    "     .join(deptDF,empDF[\"emp_dept_id\"] == deptDF[\"dept_id\"]) \\\n",
    "     .show()\n",
    "\n",
    "#Using Where for Join Condition\n",
    "empDF.join(deptDF).where(empDF[\"emp_dept_id\"] == deptDF[\"dept_id\"]) \\\n",
    "    .join(addDF).where(empDF[\"emp_id\"] == addDF[\"emp_id\"]) \\\n",
    "    .show()"
   ]
  }
 ],
 "metadata": {
  "kernelspec": {
   "display_name": "Python 3",
   "language": "python",
   "name": "python3"
  },
  "language_info": {
   "codemirror_mode": {
    "name": "ipython",
    "version": 3
   },
   "file_extension": ".py",
   "mimetype": "text/x-python",
   "name": "python",
   "nbconvert_exporter": "python",
   "pygments_lexer": "ipython3",
   "version": "3.8.10"
  }
 },
 "nbformat": 4,
 "nbformat_minor": 5
}
