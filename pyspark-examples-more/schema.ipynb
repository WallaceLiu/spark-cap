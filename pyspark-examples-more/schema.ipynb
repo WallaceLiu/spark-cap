{
 "cells": [
  {
   "cell_type": "code",
   "execution_count": 1,
   "id": "cdaf8367",
   "metadata": {},
   "outputs": [
    {
     "name": "stdout",
     "output_type": "stream",
     "text": [
      "+---------------+----------+----------+\n",
      "|city           |dates     |population|\n",
      "+---------------+----------+----------+\n",
      "|Caracas        |1991-02-25|37800000  |\n",
      "|Ccs            |1998-05-10|19795791  |\n",
      "|   São Paulo   |1993/03/15|12341418  |\n",
      "|~Madrid        |1992/07/17|6489162   |\n",
      "+---------------+----------+----------+\n",
      "\n"
     ]
    }
   ],
   "source": [
    "import pyspark\n",
    "from pyspark.sql import SparkSession\n",
    "from pyspark.sql.functions import col\n",
    "from pyspark.sql.functions import to_timestamp\n",
    "from pyspark.sql.types import StructType, StructField, StringType, IntegerType, DateType\n",
    "\n",
    "schema = StructType([\n",
    "    StructField(\"city\", StringType(), True),\n",
    "    StructField(\"dates\", StringType(), True),\n",
    "    StructField(\"population\", IntegerType(), True)\n",
    "])\n",
    "\n",
    "dates = [\"1991-02-25\", \"1998-05-10\", \"1993/03/15\", \"1992/07/17\"]\n",
    "cities = ['Caracas', 'Ccs', '   São Paulo   ', '~Madrid']\n",
    "population = [37800000, 19795791, 12341418, 6489162]\n",
    "\n",
    "# Dataframe:\n",
    "df = spark.createDataFrame(list(zip(cities, dates, population)), schema=schema)\n",
    "\n",
    "df.show(truncate=False)"
   ]
  },
  {
   "cell_type": "code",
   "execution_count": null,
   "id": "2c37d76e",
   "metadata": {},
   "outputs": [],
   "source": []
  }
 ],
 "metadata": {
  "kernelspec": {
   "display_name": "Python 3",
   "language": "python",
   "name": "python3"
  },
  "language_info": {
   "codemirror_mode": {
    "name": "ipython",
    "version": 3
   },
   "file_extension": ".py",
   "mimetype": "text/x-python",
   "name": "python",
   "nbconvert_exporter": "python",
   "pygments_lexer": "ipython3",
   "version": "3.8.10"
  }
 },
 "nbformat": 4,
 "nbformat_minor": 5
}
