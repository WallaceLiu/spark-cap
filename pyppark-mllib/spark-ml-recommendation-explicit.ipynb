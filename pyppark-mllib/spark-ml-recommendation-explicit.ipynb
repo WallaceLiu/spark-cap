{
 "cells": [
  {
   "cell_type": "markdown",
   "metadata": {},
   "source": [
    "## Spark ML Movie Recommendation (Explicit)\n",
    "\n",
    "- dataset: https://grouplens.org/datasets/movielens/100k/"
   ]
  },
  {
   "cell_type": "code",
   "execution_count": 1,
   "metadata": {},
   "outputs": [],
   "source": [
    "from pyspark.conf import SparkConf\n",
    "from pyspark import StorageLevel\n",
    "\n",
    "from pyspark.sql import SparkSession\n",
    "from pyspark.sql.functions import *\n",
    "from pyspark.sql.types import *"
   ]
  },
  {
   "cell_type": "code",
   "execution_count": 2,
   "metadata": {},
   "outputs": [],
   "source": [
    "spark = SparkSession.builder \\\n",
    "    .master(\"local\") \\\n",
    "    .appName(\"Spark ML\") \\\n",
    "    .getOrCreate()\n",
    "\n",
    "sc = spark.sparkContext\n",
    "sc.setLogLevel(\"INFO\")"
   ]
  },
  {
   "cell_type": "code",
   "execution_count": 3,
   "metadata": {},
   "outputs": [
    {
     "name": "stdout",
     "output_type": "stream",
     "text": [
      "+------+-------+------+\n",
      "|userId|movieId|rating|\n",
      "+------+-------+------+\n",
      "|     1|      2|   3.5|\n",
      "|     1|     29|   3.5|\n",
      "|     1|     32|   3.5|\n",
      "|     1|     47|   3.5|\n",
      "|     1|     50|   3.5|\n",
      "|     1|    112|   3.5|\n",
      "|     1|    151|   4.0|\n",
      "|     1|    223|   4.0|\n",
      "|     1|    253|   4.0|\n",
      "|     1|    260|   4.0|\n",
      "+------+-------+------+\n",
      "only showing top 10 rows\n",
      "\n"
     ]
    }
   ],
   "source": [
    "df = spark.read.csv(\"../dataset/ml-ratings.csv\", inferSchema=True, header=True).cache()\n",
    "df.show(10)"
   ]
  },
  {
   "cell_type": "code",
   "execution_count": 4,
   "metadata": {},
   "outputs": [
    {
     "name": "stdout",
     "output_type": "stream",
     "text": [
      "+-------+-----------------+------------------+------------------+\n",
      "|summary|           userId|           movieId|            rating|\n",
      "+-------+-----------------+------------------+------------------+\n",
      "|  count|           100000|            100000|            100000|\n",
      "|   mean|         362.8304|         8572.4658|          3.507605|\n",
      "| stddev|196.8029033568026|19056.086005583176|1.0629280136183334|\n",
      "|    min|                1|                 1|               0.5|\n",
      "|    max|              702|            128594|               5.0|\n",
      "+-------+-----------------+------------------+------------------+\n",
      "\n"
     ]
    }
   ],
   "source": [
    "df.describe().show()"
   ]
  },
  {
   "cell_type": "markdown",
   "metadata": {},
   "source": [
    "## Alternating Least Square\n",
    "\n",
    "![](../dataset/alsd.png)"
   ]
  },
  {
   "cell_type": "code",
   "execution_count": 5,
   "metadata": {},
   "outputs": [],
   "source": [
    "from pyspark.ml.evaluation import RegressionEvaluator\n",
    "from pyspark.ml.recommendation import ALS\n",
    "from pyspark.ml.tuning import TrainValidationSplit, ParamGridBuilder"
   ]
  },
  {
   "cell_type": "code",
   "execution_count": 6,
   "metadata": {},
   "outputs": [],
   "source": [
    "(train, test) = df.randomSplit([0.8, 0.2])\n",
    "als = ALS(userCol=\"userId\", itemCol=\"movieId\", ratingCol=\"rating\",\n",
    "          coldStartStrategy=\"drop\", nonnegative=True)"
   ]
  },
  {
   "cell_type": "code",
   "execution_count": 7,
   "metadata": {},
   "outputs": [],
   "source": [
    "# Hyperparameter\n",
    "paramGrid = ParamGridBuilder() \\\n",
    "    .addGrid(als.rank, [12, 14]) \\\n",
    "    .addGrid(als.maxIter, [18, 20]) \\\n",
    "    .addGrid(als.regParam, [.17, .19]) \\\n",
    "    .build()\n",
    "\n",
    "# Evaluator RMSE\n",
    "evaluator = RegressionEvaluator(\n",
    "    metricName=\"rmse\", labelCol=\"rating\", \n",
    "    predictionCol=\"prediction\")"
   ]
  },
  {
   "cell_type": "code",
   "execution_count": 8,
   "metadata": {},
   "outputs": [],
   "source": [
    "# Cross-Validation\n",
    "tvs = TrainValidationSplit(\n",
    "    estimator=als, \n",
    "    estimatorParamMaps=paramGrid, \n",
    "    evaluator=evaluator)"
   ]
  },
  {
   "cell_type": "code",
   "execution_count": 9,
   "metadata": {},
   "outputs": [],
   "source": [
    "# Fit ALS model to training data\n",
    "model = tvs.fit(train)\n",
    "bestModel = model.bestModel"
   ]
  },
  {
   "cell_type": "code",
   "execution_count": 10,
   "metadata": {},
   "outputs": [
    {
     "name": "stdout",
     "output_type": "stream",
     "text": [
      "RMSE : 0.8976724722515121\n",
      "Best rank : 12\n",
      "Best maxIter : 20\n",
      "Best regParam : 0.17\n"
     ]
    }
   ],
   "source": [
    "predictions = bestModel.transform(test)\n",
    "rmse = evaluator.evaluate(predictions)\n",
    "\n",
    "# Evaluation results\n",
    "print(\"RMSE : {}\".format(str(rmse)))\n",
    "print(\"Best rank : {}\".format(bestModel.rank))\n",
    "print(\"Best maxIter : {}\".format(bestModel._java_obj.parent().getMaxIter()))\n",
    "print(\"Best regParam : {}\".format(bestModel._java_obj.parent().getRegParam()))"
   ]
  },
  {
   "cell_type": "code",
   "execution_count": 11,
   "metadata": {
    "scrolled": true
   },
   "outputs": [
    {
     "name": "stdout",
     "output_type": "stream",
     "text": [
      "+------+-------+------+----------+\n",
      "|userId|movieId|rating|prediction|\n",
      "+------+-------+------+----------+\n",
      "|     1|   1370|   3.0| 3.4125395|\n",
      "|     1|   1750|   3.5| 2.4918456|\n",
      "|     1|    924|   3.5| 3.4901712|\n",
      "|     1|   6755|   3.5| 3.5711613|\n",
      "|     1|   1208|   3.5| 3.7742562|\n",
      "+------+-------+------+----------+\n",
      "only showing top 5 rows\n",
      "\n"
     ]
    }
   ],
   "source": [
    "predictions.sort(\"userId\", \"rating\").show(5)"
   ]
  },
  {
   "cell_type": "code",
   "execution_count": 12,
   "metadata": {},
   "outputs": [],
   "source": [
    "# Recommendation for all user (matrix R)\n",
    "recs = bestModel.recommendForAllUsers(10)"
   ]
  },
  {
   "cell_type": "code",
   "execution_count": 13,
   "metadata": {},
   "outputs": [],
   "source": [
    "# UDF function for mapping result\n",
    "zip_ = udf(\n",
    "    lambda x, y: list(zip(x, y)),\n",
    "    ArrayType(StructType([\n",
    "      StructField(\"movieId\", IntegerType()),\n",
    "      StructField(\"rating\", DoubleType())\n",
    "    ]))\n",
    ")"
   ]
  },
  {
   "cell_type": "code",
   "execution_count": 14,
   "metadata": {},
   "outputs": [],
   "source": [
    "# Recommendation for specific user\n",
    "def get_recs_for_user(recs, userId):\n",
    "    recs = recs.filter(recs[\"userId\"]==userId)\n",
    "    recs = recs.select(\"userId\", \"recommendations.movieId\", \"recommendations.rating\") \\\n",
    "        .withColumn(\"tmp\", explode(zip_(\"movieId\", \"rating\"))) \\\n",
    "        .select(\"userId\", \"tmp.movieId\", \"tmp.rating\")\n",
    "    return recs"
   ]
  },
  {
   "cell_type": "code",
   "execution_count": 15,
   "metadata": {
    "scrolled": false
   },
   "outputs": [
    {
     "name": "stdout",
     "output_type": "stream",
     "text": [
      "+------+-------+------------------+\n",
      "|userId|movieId|            rating|\n",
      "+------+-------+------------------+\n",
      "|    11|    449| 5.564600467681885|\n",
      "|    11|  31545| 5.513560771942139|\n",
      "|    11|  26413| 5.472157001495361|\n",
      "|    11|   5004| 5.369581699371338|\n",
      "|    11|   7560| 5.316649436950684|\n",
      "|    11|  48326| 5.310154438018799|\n",
      "|    11|  91529|5.1881818771362305|\n",
      "|    11|    751| 5.152843475341797|\n",
      "|    11|  66934| 5.130558967590332|\n",
      "|    11|   4798| 5.120045185089111|\n",
      "+------+-------+------------------+\n",
      "\n"
     ]
    }
   ],
   "source": [
    "recs = get_recs_for_user(recs, \"11\")\n",
    "recs.show()"
   ]
  },
  {
   "cell_type": "code",
   "execution_count": 16,
   "metadata": {},
   "outputs": [],
   "source": [
    "spark.stop()"
   ]
  }
 ],
 "metadata": {
  "kernelspec": {
   "display_name": "Python 3",
   "language": "python",
   "name": "python3"
  },
  "language_info": {
   "codemirror_mode": {
    "name": "ipython",
    "version": 3
   },
   "file_extension": ".py",
   "mimetype": "text/x-python",
   "name": "python",
   "nbconvert_exporter": "python",
   "pygments_lexer": "ipython3",
   "version": "3.6.3"
  }
 },
 "nbformat": 4,
 "nbformat_minor": 2
}
