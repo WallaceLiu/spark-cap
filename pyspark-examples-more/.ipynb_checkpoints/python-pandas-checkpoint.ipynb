{
 "cells": [
  {
   "cell_type": "code",
   "execution_count": 3,
   "id": "e6e49836",
   "metadata": {},
   "outputs": [
    {
     "ename": "NameError",
     "evalue": "name 'pd' is not defined",
     "output_type": "error",
     "traceback": [
      "\u001b[0;31m---------------------------------------------------------------------------\u001b[0m",
      "\u001b[0;31mNameError\u001b[0m                                 Traceback (most recent call last)",
      "\u001b[0;32m<ipython-input-3-2deb69b2da3c>\u001b[0m in \u001b[0;36m<module>\u001b[0;34m\u001b[0m\n\u001b[1;32m      9\u001b[0m \u001b[0;34m\u001b[0m\u001b[0m\n\u001b[1;32m     10\u001b[0m \u001b[0;31m# Create the pandas DataFrame\u001b[0m\u001b[0;34m\u001b[0m\u001b[0;34m\u001b[0m\u001b[0;34m\u001b[0m\u001b[0m\n\u001b[0;32m---> 11\u001b[0;31m \u001b[0mpandasDF\u001b[0m \u001b[0;34m=\u001b[0m \u001b[0mpd\u001b[0m\u001b[0;34m.\u001b[0m\u001b[0mDataFrame\u001b[0m\u001b[0;34m(\u001b[0m\u001b[0mdata\u001b[0m\u001b[0;34m=\u001b[0m\u001b[0mdata\u001b[0m\u001b[0;34m,\u001b[0m \u001b[0mcolumns\u001b[0m\u001b[0;34m=\u001b[0m\u001b[0mcolumns\u001b[0m\u001b[0;34m)\u001b[0m\u001b[0;34m\u001b[0m\u001b[0;34m\u001b[0m\u001b[0m\n\u001b[0m",
      "\u001b[0;31mNameError\u001b[0m: name 'pd' is not defined"
     ]
    }
   ],
   "source": [
    "import pandas as pd\n",
    "\n",
    "data = [[\"James\", \"\", \"Smith\", 30, \"M\", 60000],\n",
    "        [\"Michael\", \"Rose\", \"\", 50, \"M\", 70000],\n",
    "        [\"Robert\", \"\", \"Williams\", 42, \"\", 400000],\n",
    "        [\"Maria\", \"Anne\", \"Jones\", 38, \"F\", 500000],\n",
    "        [\"Jen\", \"Mary\", \"Brown\", 45, None, 0]]\n",
    "columns = ['First Name', 'Middle Name', 'Last Name', 'Age', 'Gender', 'Salary']\n",
    "\n",
    "# Create the pandas DataFrame\n",
    "pandasDF = pd.DataFrame(data=data, columns=columns)"
   ]
  },
  {
   "cell_type": "code",
   "execution_count": null,
   "id": "b4d27b60",
   "metadata": {},
   "outputs": [],
   "source": [
    "# print dataframe.\n",
    "print(pandasDF)\n",
    "\n",
    "#Outputs below data on console\n",
    "\n",
    "pdCount = pandasDF.count()\n",
    "print(pdCount)\n",
    "\n",
    "print(pandasDF.max())\n",
    "print(pandasDF.mean())"
   ]
  },
  {
   "cell_type": "code",
   "execution_count": null,
   "id": "a2af3a6a",
   "metadata": {},
   "outputs": [],
   "source": []
  }
 ],
 "metadata": {
  "kernelspec": {
   "display_name": "Python 3",
   "language": "python",
   "name": "python3"
  },
  "language_info": {
   "codemirror_mode": {
    "name": "ipython",
    "version": 3
   },
   "file_extension": ".py",
   "mimetype": "text/x-python",
   "name": "python",
   "nbconvert_exporter": "python",
   "pygments_lexer": "ipython3",
   "version": "3.8.10"
  }
 },
 "nbformat": 4,
 "nbformat_minor": 5
}
