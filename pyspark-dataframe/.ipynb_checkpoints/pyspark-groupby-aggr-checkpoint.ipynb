{
 "cells": [
  {
   "cell_type": "code",
   "execution_count": 1,
   "id": "af0b22cd",
   "metadata": {},
   "outputs": [],
   "source": [
    "from pyspark.sql import Row\n",
    "\n",
    "l = [('Jack', \"a\", \"p\"), ('Jack', \"b\", \"q\"), ('Bell', \"c\", \"r\"),\n",
    "     ('Bell', \"d\", \"s\")]\n",
    "rdd = sc.parallelize(l)\n",
    "score_rdd = rdd.map(lambda x: Row(name=x[0], letters1=x[1], letters2=x[2]))\n",
    "score_card = sqlContext.createDataFrame(score_rdd)"
   ]
  },
  {
   "cell_type": "code",
   "execution_count": 5,
   "id": "832c8e4e",
   "metadata": {},
   "outputs": [],
   "source": [
    "import pyspark.sql.functions as f\n",
    "\n",
    "t = score_card.groupby(\"name\").agg(\n",
    "    f.concat_ws(\",\",\n",
    "                f.collect_list(\"letters1\").alias(\"letters1\")),\n",
    "    f.concat_ws(\",\",\n",
    "                f.collect_list(\"letters2\").alias(\"letters2\")))"
   ]
  },
  {
   "cell_type": "code",
   "execution_count": 6,
   "id": "508b9e00",
   "metadata": {},
   "outputs": [
    {
     "name": "stdout",
     "output_type": "stream",
     "text": [
      "+----+--------------------------------------------------+--------------------------------------------------+\n",
      "|name|concat_ws(,, collect_list(letters1) AS `letters1`)|concat_ws(,, collect_list(letters2) AS `letters2`)|\n",
      "+----+--------------------------------------------------+--------------------------------------------------+\n",
      "|Bell|                                               c,d|                                               r,s|\n",
      "|Jack|                                               a,b|                                               p,q|\n",
      "+----+--------------------------------------------------+--------------------------------------------------+\n",
      "\n"
     ]
    }
   ],
   "source": [
    "t.show()"
   ]
  },
  {
   "cell_type": "code",
   "execution_count": null,
   "id": "9080d260",
   "metadata": {},
   "outputs": [],
   "source": [
    "t = score_card.groupby(\"name\").agg(\n",
    "    (score_card.letters1, score_card.letters2)).show()"
   ]
  }
 ],
 "metadata": {
  "kernelspec": {
   "display_name": "Python 3",
   "language": "python",
   "name": "python3"
  },
  "language_info": {
   "codemirror_mode": {
    "name": "ipython",
    "version": 3
   },
   "file_extension": ".py",
   "mimetype": "text/x-python",
   "name": "python",
   "nbconvert_exporter": "python",
   "pygments_lexer": "ipython3",
   "version": "3.8.10"
  }
 },
 "nbformat": 4,
 "nbformat_minor": 5
}
