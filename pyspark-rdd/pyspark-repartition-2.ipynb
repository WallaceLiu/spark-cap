{
 "cells": [
  {
   "cell_type": "code",
   "execution_count": 1,
   "id": "d03c0284",
   "metadata": {},
   "outputs": [
    {
     "name": "stdout",
     "output_type": "stream",
     "text": [
      "3\n"
     ]
    }
   ],
   "source": [
    "from pyspark.sql import SparkSession\n",
    "\n",
    "\n",
    "df=spark.read.option(\"header\",True) \\\n",
    "        .csv(\"./resources/simple-zipcodes.csv\")\n",
    "\n",
    "newDF = df.repartition(3)\n",
    "print(newDF.rdd.getNumPartitions())"
   ]
  },
  {
   "cell_type": "code",
   "execution_count": null,
   "id": "827c15d3",
   "metadata": {},
   "outputs": [],
   "source": [
    "newDF.write.option(\"header\",True).mode(\"overwrite\") \\\n",
    "        .csv(\"/tmp/zipcodes-state\")"
   ]
  },
  {
   "cell_type": "code",
   "execution_count": null,
   "id": "3768fc0b",
   "metadata": {},
   "outputs": [],
   "source": [
    "df2 = df.repartition(4, \"state\")\n",
    "df2.write.option(\"header\",True).mode(\"overwrite\") \\\n",
    "   .csv(\"/tmp/zipcodes-state-3states\")"
   ]
  },
  {
   "cell_type": "code",
   "execution_count": null,
   "id": "f1467caa",
   "metadata": {},
   "outputs": [],
   "source": [
    "df3 = df.repartition(\"state\")\n",
    "df3.write.option(\"header\",True).mode(\"overwrite\") \\\n",
    "   .csv(\"/tmp/zipcodes-state-allstates\")"
   ]
  }
 ],
 "metadata": {
  "kernelspec": {
   "display_name": "Python 3",
   "language": "python",
   "name": "python3"
  },
  "language_info": {
   "codemirror_mode": {
    "name": "ipython",
    "version": 3
   },
   "file_extension": ".py",
   "mimetype": "text/x-python",
   "name": "python",
   "nbconvert_exporter": "python",
   "pygments_lexer": "ipython3",
   "version": "3.8.10"
  }
 },
 "nbformat": 4,
 "nbformat_minor": 5
}
