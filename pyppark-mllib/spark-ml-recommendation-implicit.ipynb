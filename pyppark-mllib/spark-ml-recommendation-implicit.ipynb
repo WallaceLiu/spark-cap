{
 "cells": [
  {
   "cell_type": "markdown",
   "metadata": {},
   "source": [
    "## Spark ML Music Recommendation (Implicit)\n",
    "\n",
    "- dataset: http://www.dtic.upf.edu/~ocelma/MusicRecommendationDataset/lastfm-1K.html"
   ]
  },
  {
   "cell_type": "code",
   "execution_count": 1,
   "metadata": {},
   "outputs": [],
   "source": [
    "from pyspark.conf import SparkConf\n",
    "from pyspark import StorageLevel\n",
    "\n",
    "from pyspark.sql import SparkSession\n",
    "from pyspark.sql.functions import *\n",
    "from pyspark.sql.types import *"
   ]
  },
  {
   "cell_type": "code",
   "execution_count": 2,
   "metadata": {},
   "outputs": [],
   "source": [
    "spark = SparkSession.builder \\\n",
    "    .master(\"local\") \\\n",
    "    .appName(\"Spark ML\") \\\n",
    "    .getOrCreate()\n",
    "\n",
    "sc = spark.sparkContext\n",
    "sc.setLogLevel(\"INFO\")"
   ]
  },
  {
   "cell_type": "code",
   "execution_count": 3,
   "metadata": {},
   "outputs": [],
   "source": [
    "schema = StructType([\n",
    "    StructField(\"userId\", IntegerType()),\n",
    "    StructField(\"artistId\", IntegerType()),\n",
    "    StructField(\"count\", IntegerType())\n",
    "])"
   ]
  },
  {
   "cell_type": "code",
   "execution_count": 4,
   "metadata": {},
   "outputs": [
    {
     "name": "stdout",
     "output_type": "stream",
     "text": [
      "+-------+--------+-----+\n",
      "| userId|artistId|count|\n",
      "+-------+--------+-----+\n",
      "|1059637| 1000010|  238|\n",
      "|1059637| 1000049|    1|\n",
      "|1059637| 1000056|    1|\n",
      "|1059637| 1000062|   11|\n",
      "|1059637| 1000094|    1|\n",
      "|1059637| 1000112|  423|\n",
      "|1059637| 1000113|    5|\n",
      "|1059637| 1000114|    2|\n",
      "|1059637| 1000123|    2|\n",
      "|1059637| 1000130|19129|\n",
      "+-------+--------+-----+\n",
      "only showing top 10 rows\n",
      "\n"
     ]
    }
   ],
   "source": [
    "df = spark.read.csv(\"../dataset/user_artist_data_small.txt\", schema=schema, sep=\" \").cache()\n",
    "df.show(10)"
   ]
  },
  {
   "cell_type": "code",
   "execution_count": 5,
   "metadata": {},
   "outputs": [
    {
     "name": "stdout",
     "output_type": "stream",
     "text": [
      "+-------+------------------+------------------+------------------+\n",
      "|summary|            userId|          artistId|             count|\n",
      "+-------+------------------+------------------+------------------+\n",
      "|  count|             49481|             49481|             49481|\n",
      "|   mean|1328420.1949435137|2003155.0297285826|130.57579677047755|\n",
      "| stddev| 452991.3131262286|2489609.3644763026|3034.3847545693047|\n",
      "|    min|           1000647|                 1|                 1|\n",
      "|    max|           2288164|          10788218|            439771|\n",
      "+-------+------------------+------------------+------------------+\n",
      "\n"
     ]
    }
   ],
   "source": [
    "df.describe().show()"
   ]
  },
  {
   "cell_type": "markdown",
   "metadata": {},
   "source": [
    "## Alternating Least Square"
   ]
  },
  {
   "cell_type": "code",
   "execution_count": 6,
   "metadata": {},
   "outputs": [],
   "source": [
    "from pyspark.ml.recommendation import ALS\n",
    "from pyspark.ml.tuning import TrainValidationSplit, ParamGridBuilder"
   ]
  },
  {
   "cell_type": "code",
   "execution_count": 7,
   "metadata": {},
   "outputs": [],
   "source": [
    "(train, test) = df.randomSplit([0.8, 0.2])"
   ]
  },
  {
   "cell_type": "code",
   "execution_count": 8,
   "metadata": {},
   "outputs": [
    {
     "name": "stdout",
     "output_type": "stream",
     "text": [
      "+-------+--------------------+\n",
      "|     id|            features|\n",
      "+-------+--------------------+\n",
      "|1001440|[0.0, 0.0, 0.0, 0...|\n",
      "|1017610|[0.0, 0.0, 0.0, 0...|\n",
      "|1021940|[0.0, 0.0, 0.0, 0...|\n",
      "|1058890|[0.0, 0.0, 0.0, 0...|\n",
      "|2005710|[0.0, 0.0, 0.0, 0...|\n",
      "+-------+--------------------+\n",
      "only showing top 5 rows\n",
      "\n"
     ]
    }
   ],
   "source": [
    "als = ALS(userCol=\"userId\", itemCol=\"artistId\", ratingCol=\"count\") \\\n",
    "    .setColdStartStrategy(\"drop\") \\\n",
    "    .setNonnegative(True) \\\n",
    "    .setRank(14) \\\n",
    "    .setMaxIter(20) \\\n",
    "    .setRegParam(.17) \\\n",
    "    .setAlpha(3.0)\n",
    "\n",
    "alsModel = als.fit(train)\n",
    "alsModel.userFactors.show(5)"
   ]
  },
  {
   "cell_type": "code",
   "execution_count": 9,
   "metadata": {},
   "outputs": [
    {
     "name": "stdout",
     "output_type": "stream",
     "text": [
      "+-------+--------+-----+----------+\n",
      "| userId|artistId|count|prediction|\n",
      "+-------+--------+-----+----------+\n",
      "|1000647| 1035554|    1|       0.0|\n",
      "|1000647|    1598|    1|       0.0|\n",
      "|1000647| 1004088|    1|       0.0|\n",
      "|1000647|    4037|    2|       0.0|\n",
      "|1000647| 1002220|    5|       0.0|\n",
      "+-------+--------+-----+----------+\n",
      "only showing top 5 rows\n",
      "\n"
     ]
    }
   ],
   "source": [
    "predictions = alsModel.transform(test)\n",
    "predictions.sort(\"userId\", \"count\").show(5)"
   ]
  },
  {
   "cell_type": "code",
   "execution_count": 10,
   "metadata": {},
   "outputs": [],
   "source": [
    "spark.stop()"
   ]
  }
 ],
 "metadata": {
  "kernelspec": {
   "display_name": "Python 3",
   "language": "python",
   "name": "python3"
  },
  "language_info": {
   "codemirror_mode": {
    "name": "ipython",
    "version": 3
   },
   "file_extension": ".py",
   "mimetype": "text/x-python",
   "name": "python",
   "nbconvert_exporter": "python",
   "pygments_lexer": "ipython3",
   "version": "3.6.3"
  }
 },
 "nbformat": 4,
 "nbformat_minor": 2
}
