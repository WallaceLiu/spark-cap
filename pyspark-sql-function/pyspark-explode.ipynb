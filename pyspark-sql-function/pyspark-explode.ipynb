{
 "cells": [
  {
   "cell_type": "code",
   "execution_count": 23,
   "id": "1f78a6a2",
   "metadata": {},
   "outputs": [],
   "source": [
    "from pyspark.sql import SparkSession\n",
    "from pyspark.sql import Row\n",
    "\n",
    "import pyspark.sql.functions as F\n",
    "\n",
    "spark = SparkSession.builder.appName('test1').getOrCreate()"
   ]
  },
  {
   "cell_type": "code",
   "execution_count": 24,
   "id": "567eefc3",
   "metadata": {},
   "outputs": [
    {
     "name": "stdout",
     "output_type": "stream",
     "text": [
      "+---+---------+--------+\n",
      "|  a|  intlist|mapfield|\n",
      "+---+---------+--------+\n",
      "|  1|[1, 2, 3]|{a -> b}|\n",
      "+---+---------+--------+\n",
      "\n"
     ]
    }
   ],
   "source": [
    "eDF = spark.createDataFrame([Row(a=1, intlist=[1, 2, 3], mapfield={\"a\": \"b\"})])\n",
    "eDF.show()"
   ]
  },
  {
   "cell_type": "code",
   "execution_count": 25,
   "id": "304619d8",
   "metadata": {},
   "outputs": [
    {
     "name": "stdout",
     "output_type": "stream",
     "text": [
      "+-----+\n",
      "|anInt|\n",
      "+-----+\n",
      "|    1|\n",
      "|    2|\n",
      "|    3|\n",
      "+-----+\n",
      "\n"
     ]
    }
   ],
   "source": [
    "eDF_rdd = eDF.select(F.explode(eDF.intlist).alias(\"anInt\")).show()"
   ]
  },
  {
   "cell_type": "code",
   "execution_count": 14,
   "id": "8eebc03e",
   "metadata": {},
   "outputs": [
    {
     "name": "stdout",
     "output_type": "stream",
     "text": [
      "+---+---------+--------+-----+\n",
      "|  a|  intlist|mapfield|anInt|\n",
      "+---+---------+--------+-----+\n",
      "|  1|[1, 2, 3]|{a -> b}|    1|\n",
      "|  1|[1, 2, 3]|{a -> b}|    2|\n",
      "|  1|[1, 2, 3]|{a -> b}|    3|\n",
      "+---+---------+--------+-----+\n",
      "\n"
     ]
    }
   ],
   "source": [
    "eDF_rdd = eDF.select('*', F.explode(eDF.intlist).alias(\"anInt\")).show()"
   ]
  },
  {
   "cell_type": "code",
   "execution_count": 20,
   "id": "dbf04363",
   "metadata": {},
   "outputs": [
    {
     "name": "stdout",
     "output_type": "stream",
     "text": [
      "+---+-----+\n",
      "|  a| data|\n",
      "+---+-----+\n",
      "|  1|1,2,3|\n",
      "+---+-----+\n",
      "\n"
     ]
    }
   ],
   "source": [
    "df = spark.createDataFrame([Row(a=1, data='1,2,3')])\n",
    "df.show()"
   ]
  },
  {
   "cell_type": "code",
   "execution_count": 34,
   "id": "94297af0",
   "metadata": {},
   "outputs": [
    {
     "name": "stdout",
     "output_type": "stream",
     "text": [
      "+---+-----+---------+\n",
      "|  a| data|      res|\n",
      "+---+-----+---------+\n",
      "|  1|1,2,3|[1, 2, 3]|\n",
      "+---+-----+---------+\n",
      "\n",
      "+---+-----+---------+----+\n",
      "|  a| data|      res|res2|\n",
      "+---+-----+---------+----+\n",
      "|  1|1,2,3|[1, 2, 3]|   1|\n",
      "|  1|1,2,3|[1, 2, 3]|   2|\n",
      "|  1|1,2,3|[1, 2, 3]|   3|\n",
      "+---+-----+---------+----+\n",
      "\n"
     ]
    }
   ],
   "source": [
    "df = df.withColumn(\"res\", F.split(F.col('data'), ','))\n",
    "df.show()\n",
    "df = df.select(\"*\", F.explode('res').alias(\"res2\"))\n",
    "df.show()"
   ]
  },
  {
   "cell_type": "code",
   "execution_count": 37,
   "id": "31fb5bde",
   "metadata": {},
   "outputs": [
    {
     "name": "stdout",
     "output_type": "stream",
     "text": [
      "+---+----+\n",
      "|  a|res2|\n",
      "+---+----+\n",
      "|  1|   1|\n",
      "|  1|   2|\n",
      "|  1|   3|\n",
      "+---+----+\n",
      "\n"
     ]
    }
   ],
   "source": [
    "df.drop(\"res\").drop(\"data\").show()"
   ]
  },
  {
   "cell_type": "code",
   "execution_count": null,
   "id": "a6b37868",
   "metadata": {},
   "outputs": [],
   "source": []
  }
 ],
 "metadata": {
  "kernelspec": {
   "display_name": "Python 3",
   "language": "python",
   "name": "python3"
  },
  "language_info": {
   "codemirror_mode": {
    "name": "ipython",
    "version": 3
   },
   "file_extension": ".py",
   "mimetype": "text/x-python",
   "name": "python",
   "nbconvert_exporter": "python",
   "pygments_lexer": "ipython3",
   "version": "3.8.10"
  },
  "toc": {
   "base_numbering": 1,
   "nav_menu": {},
   "number_sections": true,
   "sideBar": true,
   "skip_h1_title": false,
   "title_cell": "Table of Contents",
   "title_sidebar": "Contents",
   "toc_cell": false,
   "toc_position": {},
   "toc_section_display": true,
   "toc_window_display": false
  },
  "varInspector": {
   "cols": {
    "lenName": 16,
    "lenType": 16,
    "lenVar": 40
   },
   "kernels_config": {
    "python": {
     "delete_cmd_postfix": "",
     "delete_cmd_prefix": "del ",
     "library": "var_list.py",
     "varRefreshCmd": "print(var_dic_list())"
    },
    "r": {
     "delete_cmd_postfix": ") ",
     "delete_cmd_prefix": "rm(",
     "library": "var_list.r",
     "varRefreshCmd": "cat(var_dic_list()) "
    }
   },
   "types_to_exclude": [
    "module",
    "function",
    "builtin_function_or_method",
    "instance",
    "_Feature"
   ],
   "window_display": false
  }
 },
 "nbformat": 4,
 "nbformat_minor": 5
}
