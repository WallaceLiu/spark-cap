{
 "cells": [
  {
   "cell_type": "markdown",
   "metadata": {},
   "source": [
    "## Anomaly Detection in Network Trac with K-means Clustering"
   ]
  },
  {
   "cell_type": "markdown",
   "metadata": {},
   "source": [
    "- KDD Cup 1999: Computer network intrusion detection\n",
    "- http://www.kdd.org/kdd-cup/view/kdd-cup-1999/Data"
   ]
  },
  {
   "cell_type": "markdown",
   "metadata": {},
   "source": [
    "---\n",
    "- kddcup.names A list of features.\n",
    "- kddcup.data.zip The full data set (18M; 743M Uncompressed)\n",
    "- kddcup.testdata.unlabeled.zip (11.2M; 430M Uncompressed)\n",
    "- kddcup.data_10_percent.zip A 10% subset. (2.1M; 75M Uncompressed)\n",
    "- kddcup.newtestdata_10_percent_unlabeled.zip (1.4M; 45M Uncompressed)\n",
    "- kddcup.testdata.unlabeled_10_percent.zip (1.4M;45M Uncompressed)\n",
    "- corrected.zip Test data with corrected labels.\n",
    "- training_attack_types A list of intrusion types."
   ]
  },
  {
   "cell_type": "code",
   "execution_count": 1,
   "metadata": {},
   "outputs": [],
   "source": [
    "from pyspark.conf import SparkConf\n",
    "from pyspark import StorageLevel\n",
    "\n",
    "from pyspark.sql import SparkSession\n",
    "from pyspark.sql.functions import *\n",
    "from pyspark.sql.types import *"
   ]
  },
  {
   "cell_type": "code",
   "execution_count": 2,
   "metadata": {},
   "outputs": [],
   "source": [
    "spark = SparkSession.builder \\\n",
    "    .master(\"local\") \\\n",
    "    .appName(\"Spark ML\") \\\n",
    "    .getOrCreate()\n",
    "\n",
    "sc = spark.sparkContext\n",
    "sc.setLogLevel(\"INFO\")"
   ]
  },
  {
   "cell_type": "code",
   "execution_count": 3,
   "metadata": {},
   "outputs": [
    {
     "name": "stdout",
     "output_type": "stream",
     "text": [
      "Number of training data: 494021\n",
      "root\n",
      " |-- duration: integer (nullable = true)\n",
      " |-- protocol_type: string (nullable = true)\n",
      " |-- service: string (nullable = true)\n",
      " |-- flag: string (nullable = true)\n",
      " |-- src_bytes: integer (nullable = true)\n",
      " |-- dst_bytes: integer (nullable = true)\n",
      " |-- land: integer (nullable = true)\n",
      " |-- wrong_fragment: integer (nullable = true)\n",
      " |-- urgent: integer (nullable = true)\n",
      " |-- hot: integer (nullable = true)\n",
      " |-- num_failed_logins: integer (nullable = true)\n",
      " |-- logged_in: integer (nullable = true)\n",
      " |-- num_compromised: integer (nullable = true)\n",
      " |-- root_shell: integer (nullable = true)\n",
      " |-- su_attempted: integer (nullable = true)\n",
      " |-- num_root: string (nullable = true)\n",
      " |-- num_file_creations: string (nullable = true)\n",
      " |-- num_shells: string (nullable = true)\n",
      " |-- num_access_files: integer (nullable = true)\n",
      " |-- num_outbound_cmds: integer (nullable = true)\n",
      " |-- is_host_login: integer (nullable = true)\n",
      " |-- is_guest_login: integer (nullable = true)\n",
      " |-- count: integer (nullable = true)\n",
      " |-- srv_count: integer (nullable = true)\n",
      " |-- serror_rate: double (nullable = true)\n",
      " |-- srv_serror_rate: double (nullable = true)\n",
      " |-- rerror_rate: double (nullable = true)\n",
      " |-- srv_rerror_rate: double (nullable = true)\n",
      " |-- same_srv_rate: double (nullable = true)\n",
      " |-- diff_srv_rate: double (nullable = true)\n",
      " |-- srv_diff_host_rate: double (nullable = true)\n",
      " |-- dst_host_count: integer (nullable = true)\n",
      " |-- dst_host_srv_count: integer (nullable = true)\n",
      " |-- dst_host_same_srv_rate: double (nullable = true)\n",
      " |-- dst_host_diff_srv_rate: double (nullable = true)\n",
      " |-- dst_host_same_src_port_rate: double (nullable = true)\n",
      " |-- dst_host_srv_diff_host_rate: double (nullable = true)\n",
      " |-- dst_host_serror_rate: double (nullable = true)\n",
      " |-- dst_host_srv_serror_rate: double (nullable = true)\n",
      " |-- dst_host_rerror_rate: double (nullable = true)\n",
      " |-- dst_host_srv_rerror_rate: double (nullable = true)\n",
      " |-- label: string (nullable = true)\n",
      "\n"
     ]
    }
   ],
   "source": [
    "df = spark.read.csv(\"../dataset/kddcup.data_10_percent.txt\", inferSchema=True, sep=\",\").toDF(\n",
    "    \"duration\", \"protocol_type\", \"service\", \"flag\", \"src_bytes\",\n",
    "    \"dst_bytes\", \"land\", \"wrong_fragment\", \"urgent\",\n",
    "    \"hot\", \"num_failed_logins\", \"logged_in\", \"num_compromised\",\n",
    "    \"root_shell\", \"su_attempted\", \"num_root\", \"num_file_creations\",\n",
    "    \"num_shells\", \"num_access_files\", \"num_outbound_cmds\",\n",
    "    \"is_host_login\", \"is_guest_login\", \"count\", \"srv_count\",\n",
    "    \"serror_rate\", \"srv_serror_rate\", \"rerror_rate\", \"srv_rerror_rate\",\n",
    "    \"same_srv_rate\", \"diff_srv_rate\", \"srv_diff_host_rate\",\n",
    "    \"dst_host_count\", \"dst_host_srv_count\",\n",
    "    \"dst_host_same_srv_rate\", \"dst_host_diff_srv_rate\",\n",
    "    \"dst_host_same_src_port_rate\", \"dst_host_srv_diff_host_rate\",\n",
    "    \"dst_host_serror_rate\", \"dst_host_srv_serror_rate\",\n",
    "    \"dst_host_rerror_rate\", \"dst_host_srv_rerror_rate\", \"label\")\n",
    "\n",
    "print(\"Number of training data: {}\".format(df.count()))\n",
    "df.printSchema()"
   ]
  },
  {
   "cell_type": "code",
   "execution_count": 4,
   "metadata": {},
   "outputs": [
    {
     "name": "stdout",
     "output_type": "stream",
     "text": [
      "+----------------+------+\n",
      "|           label| count|\n",
      "+----------------+------+\n",
      "|          smurf.|280790|\n",
      "|        neptune.|107201|\n",
      "|         normal.| 97277|\n",
      "|           back.|  2203|\n",
      "|          satan.|  1589|\n",
      "|        ipsweep.|  1247|\n",
      "|      portsweep.|  1040|\n",
      "|    warezclient.|  1020|\n",
      "|       teardrop.|   979|\n",
      "|            pod.|   264|\n",
      "|           nmap.|   231|\n",
      "|   guess_passwd.|    53|\n",
      "|buffer_overflow.|    30|\n",
      "|           land.|    21|\n",
      "|    warezmaster.|    20|\n",
      "|           imap.|    12|\n",
      "|        rootkit.|    10|\n",
      "|     loadmodule.|     9|\n",
      "|      ftp_write.|     8|\n",
      "|       multihop.|     7|\n",
      "|            phf.|     4|\n",
      "|           perl.|     3|\n",
      "|            spy.|     2|\n",
      "|            0.00|     1|\n",
      "+----------------+------+\n",
      "\n"
     ]
    }
   ],
   "source": [
    "df.select(\"label\").groupBy(\"label\").count().orderBy(desc(\"count\")).show(25)"
   ]
  },
  {
   "cell_type": "code",
   "execution_count": 5,
   "metadata": {},
   "outputs": [],
   "source": [
    "from pyspark.ml.feature import VectorAssembler\n",
    "from pyspark.ml.feature import StandardScaler\n",
    "from pyspark.ml.clustering import KMeans, KMeansModel\n",
    "from pyspark.ml import Pipeline\n",
    "\n",
    "import random"
   ]
  },
  {
   "cell_type": "code",
   "execution_count": 6,
   "metadata": {},
   "outputs": [],
   "source": [
    "# Only numeric\n",
    "df = df.withColumn(\"num_root\", df.num_root.cast(\"int\"))\n",
    "df = df.withColumn(\"num_file_creations\", df.num_root.cast(\"int\"))\n",
    "df = df.withColumn(\"num_shells\", df.num_root.cast(\"int\"))\n",
    "\n",
    "# Drop null\n",
    "train = df.drop(\"protocol_type\", \"service\", \"flag\").dropna().cache()\n",
    "columns = train.columns\n",
    "columns.remove('label')"
   ]
  },
  {
   "cell_type": "code",
   "execution_count": 7,
   "metadata": {},
   "outputs": [
    {
     "data": {
      "text/plain": [
       "KMeans_4ca6977062d576f928ad"
      ]
     },
     "execution_count": 7,
     "metadata": {},
     "output_type": "execute_result"
    }
   ],
   "source": [
    "# VectorAssembler\n",
    "assembler = VectorAssembler(\n",
    "    inputCols=columns,\n",
    "    outputCol='features')\n",
    "\n",
    "# StandardScaler\n",
    "scaler = StandardScaler(\n",
    "    inputCol='features',\n",
    "    outputCol='scaled_features',\n",
    "    withStd=True,\n",
    "    withMean=True)\n",
    "\n",
    "# KMeans\n",
    "kmeans = KMeans(\n",
    "    featuresCol='scaled_features',\n",
    "    predictionCol='cluster',\n",
    "    maxIter=30,\n",
    "    seed=random.randrange(1,10))\n",
    "kmeans.setK(3)"
   ]
  },
  {
   "cell_type": "markdown",
   "metadata": {},
   "source": [
    "### KMeans.explainParams()\n",
    "- featuresCol: features column name (default: features)\n",
    "- initMode: initialization algorithm (default: k-means||)\n",
    "- initSteps: number of steps for k-means|| (default: 5)\n",
    "- k: number of clusters to create (default: 2)\n",
    "- maxIter: maximum number of iterations (>= 0) (default: 20)\n",
    "- predictionCol: prediction column name (default: prediction)\n",
    "- seed: random seed (default: -1689246527)\n",
    "- tol: the convergence tolerance for iterative algorithms (default: 1.0E-4)"
   ]
  },
  {
   "cell_type": "code",
   "execution_count": 8,
   "metadata": {},
   "outputs": [],
   "source": [
    "# Pipeline\n",
    "pipeline = Pipeline().setStages([assembler, scaler, kmeans])\n",
    "pipelineModel = pipeline.fit(train)\n",
    "kmeansModel = pipelineModel.stages[-1]"
   ]
  },
  {
   "cell_type": "code",
   "execution_count": 9,
   "metadata": {},
   "outputs": [
    {
     "name": "stdout",
     "output_type": "stream",
     "text": [
      "[-0.06768475 -0.00234773 -0.02619924 -0.00667342 -0.04772019 -0.00257147\n",
      " -0.04412916 -0.00961196 -0.41718843 -0.00567868 -0.01055195 -0.00467567\n",
      " -0.00564001 -0.00564001 -0.00564001 -0.02763182  0.          0.\n",
      " -0.03726266  0.41183858  0.35085558  0.13839435  0.13854274 -0.24789685\n",
      " -0.2486132  -0.01231898 -0.07526366 -0.20035199  0.3453196   0.08954367\n",
      "  0.05754689 -0.14071868  0.2934586  -0.15847693  0.13831224  0.13898245\n",
      " -0.25188338 -0.24946264]\n",
      "[ 0.22147364  0.00769472  0.08573617  0.0218723   0.15640414  0.00842805\n",
      "  0.14463444  0.03150345  1.36729709  0.01066278  0.03294298  0.01088012\n",
      "  0.01052669  0.01052669  0.01052669  0.08724121  0.          0.\n",
      "  0.12212933 -1.3497775  -1.1499116  -0.45358059 -0.45406697  0.81248829\n",
      "  0.81483617  0.04036626  0.2466817   0.65665886 -1.13173936 -0.29345095\n",
      " -0.18858729  0.46119809 -0.96179208  0.51941222 -0.45331195 -0.45551016\n",
      "  0.82555426  0.81762023]\n",
      "[  2.10018788e+01  -1.72190129e-03   7.62630765e+00  -6.67341765e-03\n",
      "  -4.77201855e-02  -2.57146810e-03  -4.41359117e-02  -9.78218463e-03\n",
      "   2.39699353e+00   4.59031807e+02   9.47690015e+01   2.56648086e+02\n",
      "   4.59571367e+02   4.59571367e+02   4.59571367e+02   1.91849250e+02\n",
      "   0.00000000e+00   0.00000000e+00  -3.72626624e-02  -1.55426159e+00\n",
      "  -1.18505964e+00  -4.64089853e-01  -4.63520572e-01  -2.47960492e-01\n",
      "  -2.48631297e-01   5.36987560e-01  -2.55243406e-01  -2.03629298e-01\n",
      "  -2.80287846e+00  -1.68488973e+00  -1.33594925e+00   4.95099724e-01\n",
      "  -1.20906944e+00  -1.58629297e-01  -4.38142968e-01  -3.45067374e-01\n",
      "  -2.52039538e-01  -2.49464020e-01]\n"
     ]
    }
   ],
   "source": [
    "print(*kmeansModel.clusterCenters(), sep='\\n')"
   ]
  },
  {
   "cell_type": "code",
   "execution_count": 10,
   "metadata": {
    "scrolled": false
   },
   "outputs": [
    {
     "name": "stdout",
     "output_type": "stream",
     "text": [
      "+-------+----------------+------+\n",
      "|cluster|           label| count|\n",
      "+-------+----------------+------+\n",
      "|      0|   guess_passwd.|     1|\n",
      "|      0|            spy.|     1|\n",
      "|      0|           imap.|     4|\n",
      "|      0|      portsweep.|    13|\n",
      "|      0|          satan.|    71|\n",
      "|      0|           nmap.|   105|\n",
      "|      0|         normal.| 10822|\n",
      "|      0|        neptune.| 86723|\n",
      "|      0|          smurf.|280786|\n",
      "|      1|            spy.|     1|\n",
      "|      1|           perl.|     3|\n",
      "|      1|            phf.|     4|\n",
      "|      1|          smurf.|     4|\n",
      "|      1|       multihop.|     7|\n",
      "|      1|      ftp_write.|     8|\n",
      "|      1|           imap.|     8|\n",
      "|      1|     loadmodule.|     9|\n",
      "|      1|        rootkit.|    10|\n",
      "|      1|    warezmaster.|    20|\n",
      "|      1|           land.|    21|\n",
      "|      1|buffer_overflow.|    30|\n",
      "|      1|   guess_passwd.|    52|\n",
      "|      1|           nmap.|   126|\n",
      "|      1|            pod.|   264|\n",
      "|      1|       teardrop.|   979|\n",
      "|      1|    warezclient.|  1020|\n",
      "|      1|      portsweep.|  1027|\n",
      "|      1|        ipsweep.|  1247|\n",
      "|      1|          satan.|  1518|\n",
      "|      1|           back.|  2203|\n",
      "|      1|        neptune.| 20478|\n",
      "|      1|         normal.| 86453|\n",
      "|      2|         normal.|     2|\n",
      "+-------+----------------+------+\n",
      "\n"
     ]
    }
   ],
   "source": [
    "withCluster = pipelineModel.transform(train)\n",
    "clusterLabel = withCluster.select(\"cluster\", \"label\") \\\n",
    "    .groupBy(\"cluster\", \"label\").count() \\\n",
    "    .orderBy(\"cluster\", \"count\")\n",
    "clusterLabel.show(100)"
   ]
  },
  {
   "cell_type": "code",
   "execution_count": 11,
   "metadata": {},
   "outputs": [
    {
     "name": "stdout",
     "output_type": "stream",
     "text": [
      "+-------+----------+\n",
      "|cluster|sum(count)|\n",
      "+-------+----------+\n",
      "|      0|    378526|\n",
      "|      1|    115492|\n",
      "|      2|         2|\n",
      "+-------+----------+\n",
      "\n"
     ]
    }
   ],
   "source": [
    "clusterLabel.groupBy('cluster').sum('count').orderBy('cluster').show()"
   ]
  },
  {
   "cell_type": "code",
   "execution_count": 12,
   "metadata": {},
   "outputs": [
    {
     "data": {
      "text/plain": [
       "[378526, 115492, 2]"
      ]
     },
     "execution_count": 12,
     "metadata": {},
     "output_type": "execute_result"
    }
   ],
   "source": [
    "kmeansModel.summary.clusterSizes"
   ]
  },
  {
   "cell_type": "code",
   "execution_count": 13,
   "metadata": {},
   "outputs": [
    {
     "name": "stdout",
     "output_type": "stream",
     "text": [
      "+-------+--------------------+\n",
      "|cluster|     scaled_features|\n",
      "+-------+--------------------+\n",
      "|      1|[-0.0677917208490...|\n",
      "|      1|[-0.0677917208490...|\n",
      "|      1|[-0.0677917208490...|\n",
      "+-------+--------------------+\n",
      "only showing top 3 rows\n",
      "\n"
     ]
    }
   ],
   "source": [
    "scaled_features = withCluster.select('cluster', 'scaled_features')\n",
    "scaled_features.show(3)"
   ]
  },
  {
   "cell_type": "code",
   "execution_count": 14,
   "metadata": {},
   "outputs": [],
   "source": [
    "spark.stop()"
   ]
  }
 ],
 "metadata": {
  "kernelspec": {
   "display_name": "Python 3",
   "language": "python",
   "name": "python3"
  },
  "language_info": {
   "codemirror_mode": {
    "name": "ipython",
    "version": 3
   },
   "file_extension": ".py",
   "mimetype": "text/x-python",
   "name": "python",
   "nbconvert_exporter": "python",
   "pygments_lexer": "ipython3",
   "version": "3.6.3"
  }
 },
 "nbformat": 4,
 "nbformat_minor": 2
}
