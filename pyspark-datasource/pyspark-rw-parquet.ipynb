{
 "cells": [
  {
   "cell_type": "markdown",
   "id": "9ebec470",
   "metadata": {},
   "source": [
    "https://sparkbyexamples.com/pyspark/pyspark-read-and-write-parquet-file/"
   ]
  },
  {
   "cell_type": "markdown",
   "id": "7675a6e2",
   "metadata": {},
   "source": [
    "Pyspark SQL provides methods to read Parquet file into DataFrame and write DataFrame to Parquet files, parquet() function from DataFrameReader and DataFrameWriter are used to read from and write/create a Parquet file respectively. Parquet files maintain the schema along with the data hence it is used to process a structured file."
   ]
  },
  {
   "cell_type": "markdown",
   "id": "9ecc6bd4",
   "metadata": {},
   "source": [
    "In this article, I will explain how to read from and write a parquet file and also will explain how to partition the data and retrieve the partitioned data with the help of SQL.\n",
    "\n",
    "Below are the simple statements on how to write and read parquet files in PySpark which I will explain in detail later sections.\n",
    "\n",
    "```python\n",
    "df.write.parquet(\"/tmp/out/people.parquet\") \n",
    "parDF1=spark.read.parquet(\"/temp/out/people.parquet\")\n",
    "```\n",
    "Before, I explain in detail, first let’s understand What is Parquet file and its advantages over CSV, JSON and other text file formats."
   ]
  },
  {
   "cell_type": "markdown",
   "id": "96e477f9",
   "metadata": {},
   "source": [
    "# What is Parquet File?\n",
    "Apache Parquet file is a columnar storage format available to any project in the Hadoop ecosystem, regardless of the choice of data processing framework, data model, or programming language.\n",
    "\n",
    "## Advantages:\n",
    "While querying columnar storage, it skips the nonrelevant data very quickly, making faster query execution. As a result aggregation queries consume less time compared to row-oriented databases.\n",
    "\n",
    "It is able to support advanced nested data structures.\n",
    "\n",
    "Parquet supports efficient compression options and encoding schemes.\n",
    "\n",
    "Pyspark SQL provides support for both reading and writing Parquet files that automatically capture the schema of the original data, It also reduces data storage by 75% on average. Pyspark by default supports Parquet in its library hence we don’t need to add any dependency libraries.\n",
    "\n",
    "# Apache Parquet Pyspark Example\n",
    "Since we don’t have the parquet file, let’s work with writing parquet from a DataFrame. First, create a Pyspark DataFrame from a list of data using spark.createDataFrame() method."
   ]
  },
  {
   "cell_type": "code",
   "execution_count": 1,
   "id": "7641d3ee",
   "metadata": {},
   "outputs": [],
   "source": [
    "data = [(\"James \", \"\", \"Smith\", \"36636\", \"M\", 3000),\n",
    "        (\"Michael \", \"Rose\", \"\", \"40288\", \"M\", 4000),\n",
    "        (\"Robert \", \"\", \"Williams\", \"42114\", \"M\", 4000),\n",
    "        (\"Maria \", \"Anne\", \"Jones\", \"39192\", \"F\", 4000),\n",
    "        (\"Jen\", \"Mary\", \"Brown\", \"\", \"F\", -1)]\n",
    "columns = [\"firstname\", \"middlename\", \"lastname\", \"dob\", \"gender\", \"salary\"]\n",
    "df = spark.createDataFrame(data, columns)"
   ]
  },
  {
   "cell_type": "markdown",
   "id": "ca18ec98",
   "metadata": {},
   "source": [
    "above example, it creates a DataFrame with columns firstname, middlename, lastname, dob, gender, salary."
   ]
  },
  {
   "cell_type": "markdown",
   "id": "7e9cf67c",
   "metadata": {},
   "source": [
    "# Pyspark Write DataFrame to Parquet file format\n",
    "Now let’s create a parquet file from PySpark DataFrame by calling the parquet() function of DataFrameWriter class. When you write a DataFrame to parquet file, it automatically preserves column names and their data types. Each part file Pyspark creates has the .parquet file extension. Below is the example,"
   ]
  },
  {
   "cell_type": "code",
   "execution_count": 2,
   "id": "47ad3ce2",
   "metadata": {},
   "outputs": [],
   "source": [
    "df.write.parquet(\"/tmp/output/people.parquet\")"
   ]
  },
  {
   "cell_type": "markdown",
   "id": "07b45dff",
   "metadata": {},
   "source": [
    "# Pyspark Read Parquet file into DataFrame\n",
    "Pyspark provides a parquet() method in DataFrameReader class to read the parquet file into dataframe. Below is an example of a reading parquet file to data frame."
   ]
  },
  {
   "cell_type": "code",
   "execution_count": 7,
   "id": "ce105d81",
   "metadata": {},
   "outputs": [],
   "source": [
    "parDF=spark.read.parquet(\"/tmp/output/people.parquet\")"
   ]
  },
  {
   "cell_type": "markdown",
   "id": "b0ce0547",
   "metadata": {},
   "source": [
    "# Append or Overwrite an existing Parquet file\n",
    "Using append save mode, you can append a dataframe to an existing parquet file. Incase to overwrite use overwrite save mode."
   ]
  },
  {
   "cell_type": "code",
   "execution_count": 8,
   "id": "a9739698",
   "metadata": {},
   "outputs": [],
   "source": [
    "df.write.mode('append').parquet(\"/tmp/output/people.parquet\")\n",
    "df.write.mode('overwrite').parquet(\"/tmp/output/people.parquet\")"
   ]
  },
  {
   "cell_type": "markdown",
   "id": "e7d070a1",
   "metadata": {},
   "source": [
    "# Executing SQL queries DataFrame"
   ]
  },
  {
   "cell_type": "markdown",
   "id": "e12071f6",
   "metadata": {},
   "source": [
    "Pyspark Sql provides to create temporary views on parquet files for executing sql queries. These views are available until your program exists."
   ]
  },
  {
   "cell_type": "code",
   "execution_count": 12,
   "id": "eb117d07",
   "metadata": {},
   "outputs": [],
   "source": [
    "parDF.createOrReplaceTempView(\"ParquetTable\")\n",
    "parkSQL = spark.sql(\"select * from ParquetTable where salary >= 4000 \")"
   ]
  },
  {
   "cell_type": "markdown",
   "id": "efb8b1ff",
   "metadata": {},
   "source": [
    "# Creating a table on Parquet file\n",
    "Now let’s walk through executing SQL queries on parquet file. In order to execute sql queries, create a temporary view or table directly on the parquet file instead of creating from DataFrame."
   ]
  },
  {
   "cell_type": "code",
   "execution_count": 13,
   "id": "95456e9a",
   "metadata": {},
   "outputs": [
    {
     "name": "stdout",
     "output_type": "stream",
     "text": [
      "+---------+----------+--------+-----+------+------+\n",
      "|firstname|middlename|lastname|  dob|gender|salary|\n",
      "+---------+----------+--------+-----+------+------+\n",
      "|  Robert |          |Williams|42114|     M|  4000|\n",
      "|   Maria |      Anne|   Jones|39192|     F|  4000|\n",
      "| Michael |      Rose|        |40288|     M|  4000|\n",
      "|   James |          |   Smith|36636|     M|  3000|\n",
      "|      Jen|      Mary|   Brown|     |     F|    -1|\n",
      "+---------+----------+--------+-----+------+------+\n",
      "\n"
     ]
    }
   ],
   "source": [
    "spark.sql(\"CREATE TEMPORARY VIEW PERSON USING parquet OPTIONS (path \\\"/tmp/output/people.parquet\\\")\")\n",
    "spark.sql(\"SELECT * FROM PERSON\").show()"
   ]
  },
  {
   "cell_type": "markdown",
   "id": "b5b47a90",
   "metadata": {},
   "source": [
    "Here, we created a temporary view PERSON from “people.parquet” file. This gives the following results."
   ]
  },
  {
   "cell_type": "markdown",
   "id": "da773ff7",
   "metadata": {},
   "source": [
    "# Create Parquet partition file\n",
    "When we execute a particular query on the PERSON table, it scan’s through all the rows and returns the results back. This is similar to the traditional database query execution. In PySpark, we can improve query execution in an optimized way by doing partitions on the data using pyspark partitionBy() method. Following is the example of partitionBy()."
   ]
  },
  {
   "cell_type": "code",
   "execution_count": 14,
   "id": "37f51025",
   "metadata": {},
   "outputs": [],
   "source": [
    "df.write.partitionBy(\n",
    "    \"gender\",\n",
    "    \"salary\").mode(\"overwrite\").parquet(\"/tmp/output/people2.parquet\")"
   ]
  },
  {
   "cell_type": "markdown",
   "id": "bd09695d",
   "metadata": {},
   "source": [
    "When you check the people2.parquet file, it has two partitions “gender” followed by “salary” inside."
   ]
  },
  {
   "cell_type": "markdown",
   "id": "35ecb9f6",
   "metadata": {},
   "source": [
    "# Retrieving from a partitioned Parquet file\n",
    "The example below explains of reading partitioned parquet file into DataFrame with gender=M."
   ]
  },
  {
   "cell_type": "code",
   "execution_count": 15,
   "id": "78df70fd",
   "metadata": {},
   "outputs": [
    {
     "name": "stdout",
     "output_type": "stream",
     "text": [
      "+---------+----------+--------+-----+------+\n",
      "|firstname|middlename|lastname|dob  |salary|\n",
      "+---------+----------+--------+-----+------+\n",
      "|Robert   |          |Williams|42114|4000  |\n",
      "|Michael  |Rose      |        |40288|4000  |\n",
      "|James    |          |Smith   |36636|3000  |\n",
      "+---------+----------+--------+-----+------+\n",
      "\n"
     ]
    }
   ],
   "source": [
    "parDF2 = spark.read.parquet(\"/tmp/output/people2.parquet/gender=M\")\n",
    "parDF2.show(truncate=False)"
   ]
  },
  {
   "cell_type": "markdown",
   "id": "ca3ee8cc",
   "metadata": {},
   "source": [
    "# Creating a table on Partitioned Parquet file\n",
    "Here, I am creating a table on partitioned parquet file and executing a query that executes faster than the table without partition, hence improving the performance."
   ]
  },
  {
   "cell_type": "code",
   "execution_count": 16,
   "id": "aa0134b2",
   "metadata": {},
   "outputs": [
    {
     "name": "stdout",
     "output_type": "stream",
     "text": [
      "+---------+----------+--------+-----+------+\n",
      "|firstname|middlename|lastname|  dob|salary|\n",
      "+---------+----------+--------+-----+------+\n",
      "|   Maria |      Anne|   Jones|39192|  4000|\n",
      "|      Jen|      Mary|   Brown|     |    -1|\n",
      "+---------+----------+--------+-----+------+\n",
      "\n"
     ]
    }
   ],
   "source": [
    "spark.sql(\"CREATE TEMPORARY VIEW PERSON2 USING parquet OPTIONS (path \\\"/tmp/output/people2.parquet/gender=F\\\")\")\n",
    "spark.sql(\"SELECT * FROM PERSON2\" ).show()"
   ]
  },
  {
   "cell_type": "code",
   "execution_count": null,
   "id": "7c493413",
   "metadata": {},
   "outputs": [],
   "source": [
    "import pyspark\n",
    "from pyspark.sql import SparkSession\n",
    "\n",
    "spark = SparkSession.builder.appName(\"parquetFile\").getOrCreate()\n",
    "data = [(\"James \", \"\", \"Smith\", \"36636\", \"M\", 3000),\n",
    "        (\"Michael \", \"Rose\", \"\", \"40288\", \"M\", 4000),\n",
    "        (\"Robert \", \"\", \"Williams\", \"42114\", \"M\", 4000),\n",
    "        (\"Maria \", \"Anne\", \"Jones\", \"39192\", \"F\", 4000),\n",
    "        (\"Jen\", \"Mary\", \"Brown\", \"\", \"F\", -1)]\n",
    "columns = [\"firstname\", \"middlename\", \"lastname\", \"dob\", \"gender\", \"salary\"]\n",
    "df = spark.createDataFrame(data, columns)\n",
    "df.write.mode(\"overwrite\").parquet(\"/tmp/output/people.parquet\")\n",
    "parDF1 = spark.read.parquet(\"/tmp/output/people.parquet\")\n",
    "parDF1.createOrReplaceTempView(\"parquetTable\")\n",
    "parDF1.printSchema()\n",
    "parDF1.show(truncate=False)\n",
    "\n",
    "parkSQL = spark.sql(\"select * from ParquetTable where salary >= 4000 \")\n",
    "parkSQL.show(truncate=False)\n",
    "\n",
    "spark.sql(\n",
    "    \"CREATE TEMPORARY VIEW PERSON USING parquet OPTIONS (path \\\"/tmp/output/people.parquet\\\")\"\n",
    ")\n",
    "spark.sql(\"SELECT * FROM PERSON\").show()\n",
    "\n",
    "df.write.partitionBy(\n",
    "    \"gender\",\n",
    "    \"salary\").mode(\"overwrite\").parquet(\"/tmp/output/people2.parquet\")\n",
    "\n",
    "parDF2 = spark.read.parquet(\"/tmp/output/people2.parquet/gender=M\")\n",
    "parDF2.show(truncate=False)\n",
    "\n",
    "spark.sql(\n",
    "    \"CREATE TEMPORARY VIEW PERSON2 USING parquet OPTIONS (path \\\"/tmp/output/people2.parquet/gender=F\\\")\"\n",
    ")\n",
    "spark.sql(\"SELECT * FROM PERSON2\").show()"
   ]
  }
 ],
 "metadata": {
  "kernelspec": {
   "display_name": "Python 3",
   "language": "python",
   "name": "python3"
  },
  "language_info": {
   "codemirror_mode": {
    "name": "ipython",
    "version": 3
   },
   "file_extension": ".py",
   "mimetype": "text/x-python",
   "name": "python",
   "nbconvert_exporter": "python",
   "pygments_lexer": "ipython3",
   "version": "3.8.10"
  },
  "toc": {
   "base_numbering": 1,
   "nav_menu": {},
   "number_sections": true,
   "sideBar": true,
   "skip_h1_title": false,
   "title_cell": "Table of Contents",
   "title_sidebar": "Contents",
   "toc_cell": false,
   "toc_position": {},
   "toc_section_display": true,
   "toc_window_display": true
  },
  "varInspector": {
   "cols": {
    "lenName": 16,
    "lenType": 16,
    "lenVar": 40
   },
   "kernels_config": {
    "python": {
     "delete_cmd_postfix": "",
     "delete_cmd_prefix": "del ",
     "library": "var_list.py",
     "varRefreshCmd": "print(var_dic_list())"
    },
    "r": {
     "delete_cmd_postfix": ") ",
     "delete_cmd_prefix": "rm(",
     "library": "var_list.r",
     "varRefreshCmd": "cat(var_dic_list()) "
    }
   },
   "types_to_exclude": [
    "module",
    "function",
    "builtin_function_or_method",
    "instance",
    "_Feature"
   ],
   "window_display": false
  }
 },
 "nbformat": 4,
 "nbformat_minor": 5
}
