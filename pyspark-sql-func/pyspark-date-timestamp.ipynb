{
 "cells": [
  {
   "cell_type": "markdown",
   "id": "594224b8",
   "metadata": {},
   "source": [
    "https://sparkbyexamples.com/pyspark/pyspark-sql-date-and-timestamp-functions/"
   ]
  },
  {
   "cell_type": "markdown",
   "id": "6fe51ad5",
   "metadata": {},
   "source": [
    "PySpark Date and Timestamp Functions are supported on DataFrame and SQL queries and they work similarly to traditional SQL, Date and Time are very important if you are using PySpark for ETL. Most of all these functions accept input as, Date type, Timestamp type, or String. If a String used, it should be in a default format that can be cast to date."
   ]
  },
  {
   "cell_type": "markdown",
   "id": "042d6fe2",
   "metadata": {},
   "source": [
    "- DateType default format is yyyy-MM-dd \n",
    "- TimestampType default format is yyyy-MM-dd HH:mm:ss.SSSS\n",
    "- Returns null if the input is a string that can not be cast to Date or Timestamp.\n",
    "\n",
    "PySpark SQL provides several Date & Timestamp functions hence keep an eye on and understand these. Always you should choose these functions instead of writing your own functions (UDF) as these functions are compile-time safe, handles null, and perform better when compared to PySpark UDF. If your PySpark application is critical on performance try to avoid using custom UDF at all costs as these are not guarantee performance."
   ]
  },
  {
   "cell_type": "markdown",
   "id": "e3ab2840",
   "metadata": {},
   "source": [
    "# PySpark SQL Date Functions\n",
    "Below are some of the PySpark SQL Date functions, these functions operate on the just Date.\n",
    "\n",
    "The default format of the PySpark Date is yyyy-MM-dd."
   ]
  },
  {
   "cell_type": "markdown",
   "id": "5f870d75",
   "metadata": {},
   "source": [
    "# PySpark SQL Timestamp Functions\n",
    "Below are some of the PySpark SQL Timestamp functions, these functions operate on both date and timestamp values.\n",
    "\n",
    "The default format of the Spark Timestamp is yyyy-MM-dd HH:mm:ss.SSSS"
   ]
  },
  {
   "cell_type": "markdown",
   "id": "70a05681",
   "metadata": {},
   "source": [
    "# Date and Timestamp Window Functions\n",
    "Below are PySpark Data and Timestamp window functions."
   ]
  },
  {
   "cell_type": "markdown",
   "id": "196c8a91",
   "metadata": {},
   "source": [
    "# PySpark SQL Date and Timestamp Functions Examples\n",
    "Following are the most used PySpark SQL Date and Timestamp Functions with examples, you can use these on DataFrame and SQL expressions."
   ]
  },
  {
   "cell_type": "code",
   "execution_count": 1,
   "id": "2d00b522",
   "metadata": {},
   "outputs": [
    {
     "name": "stdout",
     "output_type": "stream",
     "text": [
      "+---+----------+\n",
      "| id|     input|\n",
      "+---+----------+\n",
      "|  1|2020-02-01|\n",
      "|  2|2019-03-01|\n",
      "|  3|2021-03-01|\n",
      "+---+----------+\n",
      "\n"
     ]
    }
   ],
   "source": [
    "from pyspark.sql import SparkSession\n",
    "from pyspark.sql.functions import *\n",
    "\n",
    "# Create SparkSession\n",
    "spark = SparkSession.builder \\\n",
    "            .appName('SparkByExamples.com') \\\n",
    "            .getOrCreate()\n",
    "data = [[\"1\", \"2020-02-01\"], [\"2\", \"2019-03-01\"], [\"3\", \"2021-03-01\"]]\n",
    "df = spark.createDataFrame(data, [\"id\", \"input\"])\n",
    "df.show()"
   ]
  },
  {
   "cell_type": "markdown",
   "id": "1189b7e5",
   "metadata": {},
   "source": [
    "## current_date()\n",
    "Use current_date() to get the current system date. By default, the data will be returned in yyyy-dd-mm format."
   ]
  },
  {
   "cell_type": "code",
   "execution_count": 2,
   "id": "5b7c1324",
   "metadata": {},
   "outputs": [
    {
     "name": "stdout",
     "output_type": "stream",
     "text": [
      "+------------+\n",
      "|current_date|\n",
      "+------------+\n",
      "|  2021-08-07|\n",
      "+------------+\n",
      "only showing top 1 row\n",
      "\n"
     ]
    }
   ],
   "source": [
    "#current_date()\n",
    "df.select(current_date().alias(\"current_date\")).show(1)"
   ]
  },
  {
   "cell_type": "markdown",
   "id": "4ae12840",
   "metadata": {},
   "source": [
    "## date_format()\n",
    "The below example uses date_format() to parses the date and converts from yyyy-dd-mm to MM-dd-yyyy format."
   ]
  },
  {
   "cell_type": "code",
   "execution_count": 3,
   "id": "44c0c955",
   "metadata": {},
   "outputs": [
    {
     "name": "stdout",
     "output_type": "stream",
     "text": [
      "+----------+-----------+\n",
      "|     input|date_format|\n",
      "+----------+-----------+\n",
      "|2020-02-01| 02-01-2020|\n",
      "|2019-03-01| 03-01-2019|\n",
      "|2021-03-01| 03-01-2021|\n",
      "+----------+-----------+\n",
      "\n"
     ]
    }
   ],
   "source": [
    "#date_format()\n",
    "df.select(col(\"input\"),\n",
    "          date_format(col(\"input\"), \"MM-dd-yyyy\").alias(\"date_format\")).show()"
   ]
  },
  {
   "cell_type": "markdown",
   "id": "5dc94694",
   "metadata": {},
   "source": [
    "## to_date()\n",
    "Below example converts string in date format yyyy-MM-dd to a DateType yyyy-MM-dd using to_date(). You can also use this to convert into any specific format. PySpark supports all patterns supports on Java DateTimeFormatter."
   ]
  },
  {
   "cell_type": "code",
   "execution_count": 4,
   "id": "22f28256",
   "metadata": {},
   "outputs": [
    {
     "name": "stdout",
     "output_type": "stream",
     "text": [
      "+----------+----------+\n",
      "|     input|   to_date|\n",
      "+----------+----------+\n",
      "|2020-02-01|2020-02-01|\n",
      "|2019-03-01|2019-03-01|\n",
      "|2021-03-01|2021-03-01|\n",
      "+----------+----------+\n",
      "\n"
     ]
    }
   ],
   "source": [
    "#to_date()\n",
    "df.select(col(\"input\"),\n",
    "          to_date(col(\"input\"), \"yyy-MM-dd\").alias(\"to_date\")).show()"
   ]
  },
  {
   "cell_type": "markdown",
   "id": "9190c69a",
   "metadata": {},
   "source": [
    "## datediff()\n",
    "The below example returns the difference between two dates using datediff()."
   ]
  },
  {
   "cell_type": "code",
   "execution_count": 5,
   "id": "0f2869bc",
   "metadata": {},
   "outputs": [
    {
     "name": "stdout",
     "output_type": "stream",
     "text": [
      "+----------+--------+\n",
      "|     input|datediff|\n",
      "+----------+--------+\n",
      "|2020-02-01|     553|\n",
      "|2019-03-01|     890|\n",
      "|2021-03-01|     159|\n",
      "+----------+--------+\n",
      "\n"
     ]
    }
   ],
   "source": [
    "#datediff()\n",
    "df.select(col(\"input\"),\n",
    "          datediff(current_date(), col(\"input\")).alias(\"datediff\")).show()"
   ]
  },
  {
   "cell_type": "markdown",
   "id": "608e53bf",
   "metadata": {},
   "source": [
    "## months_between()\n",
    "The below example returns the months between two dates using months_between()."
   ]
  },
  {
   "cell_type": "code",
   "execution_count": null,
   "id": "8b038271",
   "metadata": {},
   "outputs": [],
   "source": [
    "#months_between()\n",
    "df.select(col(\"input\"),\n",
    "          months_between(current_date(),\n",
    "                         col(\"input\")).alias(\"months_between\")).show()"
   ]
  },
  {
   "cell_type": "markdown",
   "id": "61d6d6ec",
   "metadata": {},
   "source": [
    "## trunc()\n",
    "The below example truncates the date at a specified unit using trunc()."
   ]
  },
  {
   "cell_type": "code",
   "execution_count": null,
   "id": "820565e4",
   "metadata": {},
   "outputs": [],
   "source": [
    "#trunc()\n",
    "df.select(col(\"input\"),\n",
    "          trunc(col(\"input\"), \"Month\").alias(\"Month_Trunc\"),\n",
    "          trunc(col(\"input\"), \"Year\").alias(\"Month_Year\"),\n",
    "          trunc(col(\"input\"), \"Month\").alias(\"Month_Trunc\")).show()"
   ]
  },
  {
   "cell_type": "markdown",
   "id": "ebf1f782",
   "metadata": {},
   "source": [
    "## add_months() , date_add(), date_sub()\n",
    "Here we are adding and subtracting date and month from a given input."
   ]
  },
  {
   "cell_type": "code",
   "execution_count": null,
   "id": "255ca583",
   "metadata": {},
   "outputs": [],
   "source": [
    "#add_months() , date_add(), date_sub()\n",
    "df.select(col(\"input\"),\n",
    "          add_months(col(\"input\"), 3).alias(\"add_months\"),\n",
    "          add_months(col(\"input\"), -3).alias(\"sub_months\"),\n",
    "          date_add(col(\"input\"), 4).alias(\"date_add\"),\n",
    "          date_sub(col(\"input\"), 4).alias(\"date_sub\")).show()"
   ]
  },
  {
   "cell_type": "markdown",
   "id": "52239cdd",
   "metadata": {},
   "source": [
    "## year(), month(), month(),next_day(), weekofyear()"
   ]
  },
  {
   "cell_type": "code",
   "execution_count": null,
   "id": "febea1b2",
   "metadata": {},
   "outputs": [],
   "source": [
    "df.select(col(\"input\"),\n",
    "          year(col(\"input\")).alias(\"year\"),\n",
    "          month(col(\"input\")).alias(\"month\"),\n",
    "          next_day(col(\"input\"), \"Sunday\").alias(\"next_day\"),\n",
    "          weekofyear(col(\"input\")).alias(\"weekofyear\")).show()"
   ]
  },
  {
   "cell_type": "markdown",
   "id": "2766c579",
   "metadata": {},
   "source": [
    "## dayofweek(), dayofmonth(), dayofyear()"
   ]
  },
  {
   "cell_type": "code",
   "execution_count": 6,
   "id": "fe24b4f8",
   "metadata": {},
   "outputs": [
    {
     "name": "stdout",
     "output_type": "stream",
     "text": [
      "+----------+---------+----------+---------+\n",
      "|     input|dayofweek|dayofmonth|dayofyear|\n",
      "+----------+---------+----------+---------+\n",
      "|2020-02-01|        7|         1|       32|\n",
      "|2019-03-01|        6|         1|       60|\n",
      "|2021-03-01|        2|         1|       60|\n",
      "+----------+---------+----------+---------+\n",
      "\n"
     ]
    }
   ],
   "source": [
    "df.select(\n",
    "    col(\"input\"),\n",
    "    dayofweek(col(\"input\")).alias(\"dayofweek\"),\n",
    "    dayofmonth(col(\"input\")).alias(\"dayofmonth\"),\n",
    "    dayofyear(col(\"input\")).alias(\"dayofyear\"),\n",
    ").show()"
   ]
  },
  {
   "cell_type": "markdown",
   "id": "1d6284a7",
   "metadata": {},
   "source": [
    "## current_timestamp()\n",
    "Following are the Timestamp Functions that you can use on SQL and on DataFrame. Let’s learn these with examples.\n",
    "\n",
    "Let’s create a test data."
   ]
  },
  {
   "cell_type": "code",
   "execution_count": 7,
   "id": "6bc85cff",
   "metadata": {},
   "outputs": [
    {
     "name": "stdout",
     "output_type": "stream",
     "text": [
      "+---+-----------------------+\n",
      "|id |input                  |\n",
      "+---+-----------------------+\n",
      "|1  |02-01-2020 11 01 19 06 |\n",
      "|2  |03-01-2019 12 01 19 406|\n",
      "|3  |03-01-2021 12 01 19 406|\n",
      "+---+-----------------------+\n",
      "\n"
     ]
    }
   ],
   "source": [
    "data = [[\"1\", \"02-01-2020 11 01 19 06\"], [\"2\", \"03-01-2019 12 01 19 406\"],\n",
    "        [\"3\", \"03-01-2021 12 01 19 406\"]]\n",
    "df2 = spark.createDataFrame(data, [\"id\", \"input\"])\n",
    "df2.show(truncate=False)"
   ]
  },
  {
   "cell_type": "markdown",
   "id": "f5d1a305",
   "metadata": {},
   "source": [
    "Below example returns the current timestamp in spark default format yyyy-MM-dd HH:mm:ss"
   ]
  },
  {
   "cell_type": "code",
   "execution_count": 8,
   "id": "e360882b",
   "metadata": {},
   "outputs": [
    {
     "name": "stdout",
     "output_type": "stream",
     "text": [
      "+-----------------------+\n",
      "|current_timestamp      |\n",
      "+-----------------------+\n",
      "|2021-08-07 21:27:00.993|\n",
      "+-----------------------+\n",
      "only showing top 1 row\n",
      "\n"
     ]
    }
   ],
   "source": [
    "#current_timestamp()\n",
    "df2.select(current_timestamp().alias(\"current_timestamp\")).show(1,\n",
    "                                                                truncate=False)"
   ]
  },
  {
   "cell_type": "markdown",
   "id": "7d935683",
   "metadata": {},
   "source": [
    "## to_timestamp()\n",
    "Converts string timestamp to Timestamp type format."
   ]
  },
  {
   "cell_type": "code",
   "execution_count": 9,
   "id": "dcde041f",
   "metadata": {},
   "outputs": [
    {
     "name": "stdout",
     "output_type": "stream",
     "text": [
      "+-----------------------+-----------------------+\n",
      "|input                  |to_timestamp           |\n",
      "+-----------------------+-----------------------+\n",
      "|02-01-2020 11 01 19 06 |2020-02-01 11:01:19.06 |\n",
      "|03-01-2019 12 01 19 406|2019-03-01 12:01:19.406|\n",
      "|03-01-2021 12 01 19 406|2021-03-01 12:01:19.406|\n",
      "+-----------------------+-----------------------+\n",
      "\n"
     ]
    }
   ],
   "source": [
    "#to_timestamp()\n",
    "df2.select(\n",
    "    col(\"input\"),\n",
    "    to_timestamp(\n",
    "        col(\"input\"),\n",
    "        \"MM-dd-yyyy HH mm ss SSS\").alias(\"to_timestamp\")).show(truncate=False)"
   ]
  },
  {
   "cell_type": "markdown",
   "id": "4f77c5a4",
   "metadata": {},
   "source": [
    "## hour(), Minute() and second()"
   ]
  },
  {
   "cell_type": "code",
   "execution_count": 10,
   "id": "5aecdc97",
   "metadata": {},
   "outputs": [
    {
     "name": "stdout",
     "output_type": "stream",
     "text": [
      "+-----------------------+----+------+------+\n",
      "|input                  |hour|minute|second|\n",
      "+-----------------------+----+------+------+\n",
      "|2020-02-01 11:01:19.06 |11  |1     |19    |\n",
      "|2019-03-01 12:01:19.406|12  |1     |19    |\n",
      "|2021-03-01 12:01:19.406|12  |1     |19    |\n",
      "+-----------------------+----+------+------+\n",
      "\n"
     ]
    }
   ],
   "source": [
    "#hour, minute,second\n",
    "data = [[\"1\", \"2020-02-01 11:01:19.06\"], [\"2\", \"2019-03-01 12:01:19.406\"],\n",
    "        [\"3\", \"2021-03-01 12:01:19.406\"]]\n",
    "df3 = spark.createDataFrame(data, [\"id\", \"input\"])\n",
    "\n",
    "df3.select(col(\"input\"),\n",
    "           hour(col(\"input\")).alias(\"hour\"),\n",
    "           minute(col(\"input\")).alias(\"minute\"),\n",
    "           second(col(\"input\")).alias(\"second\")).show(truncate=False)"
   ]
  },
  {
   "cell_type": "code",
   "execution_count": null,
   "id": "2c04d93b",
   "metadata": {},
   "outputs": [],
   "source": []
  }
 ],
 "metadata": {
  "kernelspec": {
   "display_name": "Python 3",
   "language": "python",
   "name": "python3"
  },
  "language_info": {
   "codemirror_mode": {
    "name": "ipython",
    "version": 3
   },
   "file_extension": ".py",
   "mimetype": "text/x-python",
   "name": "python",
   "nbconvert_exporter": "python",
   "pygments_lexer": "ipython3",
   "version": "3.8.10"
  },
  "toc": {
   "base_numbering": 1,
   "nav_menu": {},
   "number_sections": true,
   "sideBar": true,
   "skip_h1_title": false,
   "title_cell": "Table of Contents",
   "title_sidebar": "Contents",
   "toc_cell": false,
   "toc_position": {},
   "toc_section_display": true,
   "toc_window_display": true
  },
  "varInspector": {
   "cols": {
    "lenName": 16,
    "lenType": 16,
    "lenVar": 40
   },
   "kernels_config": {
    "python": {
     "delete_cmd_postfix": "",
     "delete_cmd_prefix": "del ",
     "library": "var_list.py",
     "varRefreshCmd": "print(var_dic_list())"
    },
    "r": {
     "delete_cmd_postfix": ") ",
     "delete_cmd_prefix": "rm(",
     "library": "var_list.r",
     "varRefreshCmd": "cat(var_dic_list()) "
    }
   },
   "types_to_exclude": [
    "module",
    "function",
    "builtin_function_or_method",
    "instance",
    "_Feature"
   ],
   "window_display": false
  }
 },
 "nbformat": 4,
 "nbformat_minor": 5
}
