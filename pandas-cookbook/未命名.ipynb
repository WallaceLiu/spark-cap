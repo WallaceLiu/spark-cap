{
 "cells": [
  {
   "cell_type": "code",
   "execution_count": 1,
   "metadata": {
    "ExecuteTime": {
     "end_time": "2021-05-31T11:36:08.669641Z",
     "start_time": "2021-05-31T11:36:00.030451Z"
    }
   },
   "outputs": [],
   "source": [
    "import numpy as np\n",
    "import pandas as pd"
   ]
  },
  {
   "cell_type": "code",
   "execution_count": 12,
   "metadata": {
    "ExecuteTime": {
     "end_time": "2021-05-31T14:39:06.804546Z",
     "start_time": "2021-05-31T14:39:06.793926Z"
    }
   },
   "outputs": [],
   "source": [
    "file_path='/Users/shanshu/Downloads/offtake/ECInterfaceOfftake2021.csv'"
   ]
  },
  {
   "cell_type": "code",
   "execution_count": 13,
   "metadata": {
    "ExecuteTime": {
     "end_time": "2021-05-31T14:39:40.794557Z",
     "start_time": "2021-05-31T14:39:40.784067Z"
    }
   },
   "outputs": [],
   "source": [
    "pd.set_option('display.float_format',lambda x : '%.5f' % x)"
   ]
  },
  {
   "cell_type": "code",
   "execution_count": 14,
   "metadata": {
    "ExecuteTime": {
     "end_time": "2021-05-31T14:41:01.258031Z",
     "start_time": "2021-05-31T14:40:10.135671Z"
    }
   },
   "outputs": [
    {
     "name": "stderr",
     "output_type": "stream",
     "text": [
      "/opt/anaconda3/envs/cap/lib/python3.8/site-packages/IPython/core/interactiveshell.py:3146: DtypeWarning: Columns (1,5,21,23) have mixed types.Specify dtype option on import or set low_memory=False.\n",
      "  has_raised = await self.run_ast_nodes(code_ast.body, cell_name,\n"
     ]
    }
   ],
   "source": [
    "df = pd.read_csv(file_path,\n",
    "                 names=[\n",
    "                     'InterfaceID',\n",
    "                     'Action',\n",
    "                     'Type',\n",
    "                     'MATERIAL_NUMBER',\n",
    "                     'MATERIAL_NAME_CN',\n",
    "                     'MATERIAL_NAME_EN',\n",
    "                     'BU',\n",
    "                     'BU_GROUP',\n",
    "                     'CUSTOMER',\n",
    "                     'CUSTOMER_LEVEL_2',\n",
    "                     'nps',\n",
    "                     'Unit',\n",
    "                     'Date',\n",
    "                     'Year',\n",
    "                     'Yearmonth',\n",
    "                     'Yearmonthdy',\n",
    "                     'CREATE_ON',\n",
    "                     'DATA_STATE',\n",
    "                     'REMARK',\n",
    "                     'BU_SUB',\n",
    "                     'GTC_TYPE',\n",
    "                     'Skuid',\n",
    "                     'STORE1',\n",
    "                     'STORE2',\n",
    "                 ],\n",
    "                 dtype={\n",
    "                     'InterfaceID':np.int64,\n",
    "                     #'Action':np.,\n",
    "                     #'Type',\n",
    "                     #'MATERIAL_NUMBER',\n",
    "                     #'MATERIAL_NAME_CN',\n",
    "                     #'MATERIAL_NAME_EN',\n",
    "                     #'BU',\n",
    "                     #'BU_GROUP',\n",
    "#                      'CUSTOMER',\n",
    "#                      'CUSTOMER_LEVEL_2',\n",
    "                     'nps':np.float32,\n",
    "                     'Unit':np.float32,\n",
    "#                      'Date',\n",
    "#                      'Year',\n",
    "#                      'Yearmonth',\n",
    "#                      'Yearmonthdy',\n",
    "#                      'CREATE_ON',\n",
    "#                      'DATA_STATE',\n",
    "#                      'REMARK',\n",
    "#                      'BU_SUB',\n",
    "#                      'GTC_TYPE',\n",
    "#                      'Skuid',\n",
    "#                      'STORE1',\n",
    "#                      'STORE2',\n",
    "                 })"
   ]
  },
  {
   "cell_type": "code",
   "execution_count": 23,
   "metadata": {
    "ExecuteTime": {
     "end_time": "2021-05-31T15:12:50.318309Z",
     "start_time": "2021-05-31T15:12:45.709006Z"
    }
   },
   "outputs": [
    {
     "data": {
      "text/html": [
       "<div>\n",
       "<style scoped>\n",
       "    .dataframe tbody tr th:only-of-type {\n",
       "        vertical-align: middle;\n",
       "    }\n",
       "\n",
       "    .dataframe tbody tr th {\n",
       "        vertical-align: top;\n",
       "    }\n",
       "\n",
       "    .dataframe thead th {\n",
       "        text-align: right;\n",
       "    }\n",
       "</style>\n",
       "<table border=\"1\" class=\"dataframe\">\n",
       "  <thead>\n",
       "    <tr style=\"text-align: right;\">\n",
       "      <th></th>\n",
       "      <th>InterfaceID</th>\n",
       "      <th>MATERIAL_NUMBER</th>\n",
       "      <th>nps</th>\n",
       "      <th>Unit</th>\n",
       "      <th>Year</th>\n",
       "      <th>Yearmonth</th>\n",
       "      <th>Yearmonthdy</th>\n",
       "      <th>DATA_STATE</th>\n",
       "      <th>REMARK</th>\n",
       "      <th>GTC_TYPE</th>\n",
       "    </tr>\n",
       "  </thead>\n",
       "  <tbody>\n",
       "    <tr>\n",
       "      <th>count</th>\n",
       "      <td>11275828.00000</td>\n",
       "      <td>11275828.00000</td>\n",
       "      <td>11275828.00000</td>\n",
       "      <td>11275828.00000</td>\n",
       "      <td>11275828.00000</td>\n",
       "      <td>11275828.00000</td>\n",
       "      <td>11275828.00000</td>\n",
       "      <td>11275828.00000</td>\n",
       "      <td>0.00000</td>\n",
       "      <td>11275828.00000</td>\n",
       "    </tr>\n",
       "    <tr>\n",
       "      <th>mean</th>\n",
       "      <td>32017223.43175</td>\n",
       "      <td>559761878.09322</td>\n",
       "      <td>1578.82812</td>\n",
       "      <td>58.45397</td>\n",
       "      <td>0.00000</td>\n",
       "      <td>202102.91577</td>\n",
       "      <td>20210306.76651</td>\n",
       "      <td>0.03833</td>\n",
       "      <td>nan</td>\n",
       "      <td>3.24111</td>\n",
       "    </tr>\n",
       "    <tr>\n",
       "      <th>std</th>\n",
       "      <td>3257723.26654</td>\n",
       "      <td>18416818525.41801</td>\n",
       "      <td>9269.27832</td>\n",
       "      <td>345.98508</td>\n",
       "      <td>0.00000</td>\n",
       "      <td>1.40782</td>\n",
       "      <td>140.62902</td>\n",
       "      <td>0.19199</td>\n",
       "      <td>nan</td>\n",
       "      <td>1.29919</td>\n",
       "    </tr>\n",
       "    <tr>\n",
       "      <th>min</th>\n",
       "      <td>26323710.00000</td>\n",
       "      <td>11149.00000</td>\n",
       "      <td>-558036.50000</td>\n",
       "      <td>-17808.00000</td>\n",
       "      <td>0.00000</td>\n",
       "      <td>202101.00000</td>\n",
       "      <td>20210101.00000</td>\n",
       "      <td>0.00000</td>\n",
       "      <td>nan</td>\n",
       "      <td>1.00000</td>\n",
       "    </tr>\n",
       "    <tr>\n",
       "      <th>25%</th>\n",
       "      <td>29197679.75000</td>\n",
       "      <td>12355455.00000</td>\n",
       "      <td>100.97340</td>\n",
       "      <td>4.00000</td>\n",
       "      <td>0.00000</td>\n",
       "      <td>202102.00000</td>\n",
       "      <td>20210205.00000</td>\n",
       "      <td>0.00000</td>\n",
       "      <td>nan</td>\n",
       "      <td>2.00000</td>\n",
       "    </tr>\n",
       "    <tr>\n",
       "      <th>50%</th>\n",
       "      <td>32016636.50000</td>\n",
       "      <td>12416241.00000</td>\n",
       "      <td>387.82300</td>\n",
       "      <td>18.00000</td>\n",
       "      <td>0.00000</td>\n",
       "      <td>202103.00000</td>\n",
       "      <td>20210313.00000</td>\n",
       "      <td>0.00000</td>\n",
       "      <td>nan</td>\n",
       "      <td>4.00000</td>\n",
       "    </tr>\n",
       "    <tr>\n",
       "      <th>75%</th>\n",
       "      <td>34838567.25000</td>\n",
       "      <td>12456821.00000</td>\n",
       "      <td>1112.67249</td>\n",
       "      <td>45.00000</td>\n",
       "      <td>0.00000</td>\n",
       "      <td>202104.00000</td>\n",
       "      <td>20210420.00000</td>\n",
       "      <td>0.00000</td>\n",
       "      <td>nan</td>\n",
       "      <td>4.00000</td>\n",
       "    </tr>\n",
       "    <tr>\n",
       "      <th>max</th>\n",
       "      <td>37658540.00000</td>\n",
       "      <td>630064464584.00000</td>\n",
       "      <td>4477841.50000</td>\n",
       "      <td>77568.00000</td>\n",
       "      <td>0.00000</td>\n",
       "      <td>202105.00000</td>\n",
       "      <td>20210527.00000</td>\n",
       "      <td>1.00000</td>\n",
       "      <td>nan</td>\n",
       "      <td>5.00000</td>\n",
       "    </tr>\n",
       "  </tbody>\n",
       "</table>\n",
       "</div>"
      ],
      "text/plain": [
       "         InterfaceID    MATERIAL_NUMBER            nps           Unit  \\\n",
       "count 11275828.00000     11275828.00000 11275828.00000 11275828.00000   \n",
       "mean  32017223.43175    559761878.09322     1578.82812       58.45397   \n",
       "std    3257723.26654  18416818525.41801     9269.27832      345.98508   \n",
       "min   26323710.00000        11149.00000  -558036.50000   -17808.00000   \n",
       "25%   29197679.75000     12355455.00000      100.97340        4.00000   \n",
       "50%   32016636.50000     12416241.00000      387.82300       18.00000   \n",
       "75%   34838567.25000     12456821.00000     1112.67249       45.00000   \n",
       "max   37658540.00000 630064464584.00000  4477841.50000    77568.00000   \n",
       "\n",
       "                Year      Yearmonth    Yearmonthdy     DATA_STATE  REMARK  \\\n",
       "count 11275828.00000 11275828.00000 11275828.00000 11275828.00000 0.00000   \n",
       "mean         0.00000   202102.91577 20210306.76651        0.03833     nan   \n",
       "std          0.00000        1.40782      140.62902        0.19199     nan   \n",
       "min          0.00000   202101.00000 20210101.00000        0.00000     nan   \n",
       "25%          0.00000   202102.00000 20210205.00000        0.00000     nan   \n",
       "50%          0.00000   202103.00000 20210313.00000        0.00000     nan   \n",
       "75%          0.00000   202104.00000 20210420.00000        0.00000     nan   \n",
       "max          0.00000   202105.00000 20210527.00000        1.00000     nan   \n",
       "\n",
       "            GTC_TYPE  \n",
       "count 11275828.00000  \n",
       "mean         3.24111  \n",
       "std          1.29919  \n",
       "min          1.00000  \n",
       "25%          2.00000  \n",
       "50%          4.00000  \n",
       "75%          4.00000  \n",
       "max          5.00000  "
      ]
     },
     "execution_count": 23,
     "metadata": {},
     "output_type": "execute_result"
    }
   ],
   "source": [
    "df.describe()"
   ]
  },
  {
   "cell_type": "code",
   "execution_count": 17,
   "metadata": {
    "ExecuteTime": {
     "end_time": "2021-05-31T14:56:40.614483Z",
     "start_time": "2021-05-31T14:56:39.684083Z"
    }
   },
   "outputs": [
    {
     "data": {
      "text/plain": [
       "'2021-01-01 12:00:00'"
      ]
     },
     "execution_count": 17,
     "metadata": {},
     "output_type": "execute_result"
    }
   ],
   "source": [
    "df['Date'].min()"
   ]
  },
  {
   "cell_type": "code",
   "execution_count": 18,
   "metadata": {
    "ExecuteTime": {
     "end_time": "2021-05-31T14:57:13.267332Z",
     "start_time": "2021-05-31T14:57:12.475282Z"
    }
   },
   "outputs": [
    {
     "data": {
      "text/plain": [
       "'2021-05-27 12:00:00'"
      ]
     },
     "execution_count": 18,
     "metadata": {},
     "output_type": "execute_result"
    }
   ],
   "source": [
    "df['Date'].max()"
   ]
  },
  {
   "cell_type": "code",
   "execution_count": 20,
   "metadata": {
    "ExecuteTime": {
     "end_time": "2021-05-31T14:59:11.681013Z",
     "start_time": "2021-05-31T14:59:10.282805Z"
    }
   },
   "outputs": [],
   "source": [
    "v=df['InterfaceID'].value_counts()"
   ]
  },
  {
   "cell_type": "code",
   "execution_count": 21,
   "metadata": {
    "ExecuteTime": {
     "end_time": "2021-05-31T14:59:50.890564Z",
     "start_time": "2021-05-31T14:59:50.846954Z"
    }
   },
   "outputs": [
    {
     "data": {
      "text/plain": [
       "11275828"
      ]
     },
     "execution_count": 21,
     "metadata": {},
     "output_type": "execute_result"
    }
   ],
   "source": [
    "v.count()"
   ]
  },
  {
   "cell_type": "code",
   "execution_count": 25,
   "metadata": {
    "ExecuteTime": {
     "end_time": "2021-05-31T15:54:56.462312Z",
     "start_time": "2021-05-31T15:54:54.939510Z"
    }
   },
   "outputs": [
    {
     "data": {
      "text/plain": [
       "RT-Mart        10653136\n",
       "Tmall-旗舰店        209213\n",
       "JD-自营            195008\n",
       "JD-POP 旗舰店        67532\n",
       "Tmall-海外旗舰店       30857\n",
       "Ali-零售通           29910\n",
       "Tmall-天猫超市        23507\n",
       "盒马                18837\n",
       "苏宁                12271\n",
       "小红书                8779\n",
       "唯品会自营              6319\n",
       "JD-新通路自营           5966\n",
       "Tmall-国际直营         4684\n",
       "JD-跨境店             4495\n",
       "拼多多旗舰店             4306\n",
       "JD-POP NDG          845\n",
       "Tmall-分销            163\n",
       "Name: CUSTOMER, dtype: int64"
      ]
     },
     "execution_count": 25,
     "metadata": {},
     "output_type": "execute_result"
    }
   ],
   "source": [
    "df['CUSTOMER'].value_counts()"
   ]
  },
  {
   "cell_type": "code",
   "execution_count": 26,
   "metadata": {
    "ExecuteTime": {
     "end_time": "2021-05-31T16:05:35.823608Z",
     "start_time": "2021-05-31T16:05:34.556442Z"
    }
   },
   "outputs": [
    {
     "data": {
      "text/plain": [
       "Double11    9269514\n",
       "618         1642036\n",
       "618          364278\n",
       "Name: Action, dtype: int64"
      ]
     },
     "execution_count": 26,
     "metadata": {},
     "output_type": "execute_result"
    }
   ],
   "source": [
    "df['Action'].value_counts()"
   ]
  },
  {
   "cell_type": "code",
   "execution_count": 27,
   "metadata": {
    "ExecuteTime": {
     "end_time": "2021-05-31T16:06:15.294076Z",
     "start_time": "2021-05-31T16:06:14.401146Z"
    }
   },
   "outputs": [
    {
     "data": {
      "text/plain": [
       "Actual    11275828\n",
       "Name: Type, dtype: int64"
      ]
     },
     "execution_count": 27,
     "metadata": {},
     "output_type": "execute_result"
    }
   ],
   "source": [
    "df['Type'].value_counts()"
   ]
  },
  {
   "cell_type": "code",
   "execution_count": 28,
   "metadata": {
    "ExecuteTime": {
     "end_time": "2021-05-31T16:07:42.606323Z",
     "start_time": "2021-05-31T16:07:42.463461Z"
    }
   },
   "outputs": [
    {
     "data": {
      "text/plain": [
       "4    8019383\n",
       "1    2675802\n",
       "2     287813\n",
       "5     169382\n",
       "3     123448\n",
       "Name: GTC_TYPE, dtype: int64"
      ]
     },
     "execution_count": 28,
     "metadata": {},
     "output_type": "execute_result"
    }
   ],
   "source": [
    "df['GTC_TYPE'].value_counts()"
   ]
  },
  {
   "cell_type": "code",
   "execution_count": 22,
   "metadata": {
    "ExecuteTime": {
     "end_time": "2021-05-31T15:00:38.606236Z",
     "start_time": "2021-05-31T15:00:30.670043Z"
    }
   },
   "outputs": [
    {
     "data": {
      "text/plain": [
       "InterfaceID         11275828\n",
       "Action              11275828\n",
       "Type                11275828\n",
       "MATERIAL_NUMBER     11275828\n",
       "MATERIAL_NAME_CN    11275292\n",
       "MATERIAL_NAME_EN      151251\n",
       "BU                  10913335\n",
       "BU_GROUP            10913686\n",
       "CUSTOMER            11275828\n",
       "CUSTOMER_LEVEL_2    11275828\n",
       "nps                 11275828\n",
       "Unit                11275828\n",
       "Date                11275828\n",
       "Year                11275828\n",
       "Yearmonth           11275828\n",
       "Yearmonthdy         11275828\n",
       "CREATE_ON           11275828\n",
       "DATA_STATE          11275828\n",
       "REMARK                     0\n",
       "BU_SUB              10913335\n",
       "GTC_TYPE            11275828\n",
       "Skuid               11275828\n",
       "STORE1              11275828\n",
       "STORE2              10653299\n",
       "dtype: int64"
      ]
     },
     "execution_count": 22,
     "metadata": {},
     "output_type": "execute_result"
    }
   ],
   "source": [
    "df.count()"
   ]
  },
  {
   "cell_type": "code",
   "execution_count": 40,
   "metadata": {
    "ExecuteTime": {
     "end_time": "2021-06-01T04:14:54.742586Z",
     "start_time": "2021-06-01T04:14:54.733394Z"
    }
   },
   "outputs": [],
   "source": [
    "# file_path_offtake='/Users/shanshu/Downloads/off_take-last-wangqian.csv'\n",
    "file_path_offtake='/Users/shanshu/Downloads/off_take.csv'"
   ]
  },
  {
   "cell_type": "code",
   "execution_count": 48,
   "metadata": {
    "ExecuteTime": {
     "end_time": "2021-06-01T04:24:34.840940Z",
     "start_time": "2021-06-01T04:24:34.558005Z"
    }
   },
   "outputs": [],
   "source": [
    "# df_offtake = pd.read_csv(file_path_offtake, encoding='utf-8')"
   ]
  },
  {
   "cell_type": "code",
   "execution_count": 49,
   "metadata": {
    "ExecuteTime": {
     "end_time": "2021-06-01T04:25:43.177041Z",
     "start_time": "2021-06-01T04:25:43.170751Z"
    }
   },
   "outputs": [],
   "source": [
    "# df_offtake.head(1000)"
   ]
  },
  {
   "cell_type": "code",
   "execution_count": 50,
   "metadata": {
    "ExecuteTime": {
     "end_time": "2021-06-01T04:26:52.968489Z",
     "start_time": "2021-06-01T04:26:52.953654Z"
    }
   },
   "outputs": [
    {
     "data": {
      "text/html": [
       "<div>\n",
       "<style scoped>\n",
       "    .dataframe tbody tr th:only-of-type {\n",
       "        vertical-align: middle;\n",
       "    }\n",
       "\n",
       "    .dataframe tbody tr th {\n",
       "        vertical-align: top;\n",
       "    }\n",
       "\n",
       "    .dataframe thead th {\n",
       "        text-align: right;\n",
       "    }\n",
       "</style>\n",
       "<table border=\"1\" class=\"dataframe\">\n",
       "  <thead>\n",
       "    <tr style=\"text-align: right;\">\n",
       "      <th></th>\n",
       "      <th>customer_id</th>\n",
       "      <th>sku_id</th>\n",
       "      <th>month</th>\n",
       "      <th>offtake_qty</th>\n",
       "      <th>offtake_value</th>\n",
       "    </tr>\n",
       "  </thead>\n",
       "  <tbody>\n",
       "    <tr>\n",
       "      <th>164479</th>\n",
       "      <td>å¤_ä¹°è_</td>\n",
       "      <td>12462192</td>\n",
       "      <td>2020/12/1</td>\n",
       "      <td>0.00000</td>\n",
       "      <td>0.00000</td>\n",
       "    </tr>\n",
       "    <tr>\n",
       "      <th>164480</th>\n",
       "      <td>æ¯__ä¼__</td>\n",
       "      <td>12462192</td>\n",
       "      <td>2020/12/1</td>\n",
       "      <td>0.00000</td>\n",
       "      <td>0.00000</td>\n",
       "    </tr>\n",
       "    <tr>\n",
       "      <th>164481</th>\n",
       "      <td>ç¾__ä¼_</td>\n",
       "      <td>12462191</td>\n",
       "      <td>2020/12/1</td>\n",
       "      <td>0.00000</td>\n",
       "      <td>0.00000</td>\n",
       "    </tr>\n",
       "    <tr>\n",
       "      <th>164482</th>\n",
       "      <td>ç¾__ä¼_</td>\n",
       "      <td>12462192</td>\n",
       "      <td>2020/12/1</td>\n",
       "      <td>0.00000</td>\n",
       "      <td>0.00000</td>\n",
       "    </tr>\n",
       "    <tr>\n",
       "      <th>164483</th>\n",
       "      <td>é£_º«ä¼</td>\n",
       "      <td>12462192</td>\n",
       "      <td>2020/12/1</td>\n",
       "      <td>0.00000</td>\n",
       "      <td>0.00000</td>\n",
       "    </tr>\n",
       "  </tbody>\n",
       "</table>\n",
       "</div>"
      ],
      "text/plain": [
       "       customer_id    sku_id      month  offtake_qty  offtake_value\n",
       "164479    å¤_ä¹°è_  12462192  2020/12/1      0.00000        0.00000\n",
       "164480    æ¯__ä¼__  12462192  2020/12/1      0.00000        0.00000\n",
       "164481     ç¾__ä¼_  12462191  2020/12/1      0.00000        0.00000\n",
       "164482     ç¾__ä¼_  12462192  2020/12/1      0.00000        0.00000\n",
       "164483     é£_º«ä¼  12462192  2020/12/1      0.00000        0.00000"
      ]
     },
     "execution_count": 50,
     "metadata": {},
     "output_type": "execute_result"
    }
   ],
   "source": [
    "# df_offtake.tail()"
   ]
  },
  {
   "cell_type": "code",
   "execution_count": 51,
   "metadata": {
    "ExecuteTime": {
     "end_time": "2021-06-01T04:28:06.494539Z",
     "start_time": "2021-06-01T04:28:06.452248Z"
    }
   },
   "outputs": [
    {
     "name": "stdout",
     "output_type": "stream",
     "text": [
      "       customer_id    sku_id      month  offtake_qty  offtake_value\n",
      "0               JD    108812   2018/1/1      0.00000        0.00000\n",
      "1               JD     11111   2018/1/1      0.00000      149.80503\n",
      "2               JD     11112   2018/1/1      0.00000       54.73840\n",
      "3               JD     11113   2018/1/1      0.00000        0.00000\n",
      "4               JD     11114   2018/1/1      0.00000        0.00000\n",
      "...            ...       ...        ...          ...            ...\n",
      "164479    å¤_ä¹°è_  12462192  2020/12/1      0.00000        0.00000\n",
      "164480    æ¯__ä¼__  12462192  2020/12/1      0.00000        0.00000\n",
      "164481     ç¾__ä¼_  12462191  2020/12/1      0.00000        0.00000\n",
      "164482     ç¾__ä¼_  12462192  2020/12/1      0.00000        0.00000\n",
      "164483     é£_º«ä¼  12462192  2020/12/1      0.00000        0.00000\n",
      "\n",
      "[164484 rows x 5 columns]\n"
     ]
    }
   ],
   "source": [
    "# print(df_offtake)"
   ]
  },
  {
   "cell_type": "code",
   "execution_count": 76,
   "metadata": {
    "ExecuteTime": {
     "end_time": "2021-06-01T06:42:53.379350Z",
     "start_time": "2021-06-01T06:41:56.730345Z"
    }
   },
   "outputs": [],
   "source": [
    "import pandas as pd\n",
    "import os\n",
    "import chardet\n",
    "\n",
    "file_path_offtake='/Users/shanshu/Downloads/off_take.csv'\n",
    "\n",
    "def get_encoding(filename):\n",
    "    \"\"\" \n",
    "    返回文件编码格式 \n",
    "    \"\"\"\n",
    "    with open(filename, 'rb') as f:\n",
    "\n",
    "        return chardet.detect(f.read())['encoding']\n",
    "\n",
    "\n",
    "def to_utf8(filename):\n",
    "    \"\"\" \n",
    "    保存为 to_utf-8 \n",
    "    \"\"\"\n",
    "    encoding = get_encoding(filename)\n",
    "    ext = os.path.splitext(filename)\n",
    "    if ext[1] == '.csv':\n",
    "        if 'gb' in encoding or 'GB' in encoding:\n",
    "            df = pd.read_csv(filename, engine='python', encoding='GBK')\n",
    "        else:\n",
    "            df = pd.read_csv(filename, engine='python', encoding='utf-8')\n",
    "        df.to_excel(ext[0] + '.xlsx')\n",
    "\n",
    "    elif ext[1] == '.xls' or ext[1] == '.xlsx':\n",
    "        if 'gb' in encoding or 'GB' in encoding:\n",
    "            df = pd.read_excel(filename, encoding='GBK')\n",
    "        else:\n",
    "            df = pd.read_excel(filename, encoding='utf-8')\n",
    "        df.to_excel(filename)\n",
    "    else:\n",
    "        print('only support csv, xls, xlsx format')\n",
    "\n",
    "\n",
    "def batch_to_utf8(path, ext_name='csv'):\n",
    "    \"\"\" \n",
    "    path下，后缀为 ext_name的乱码文件，批量转化为可读文件 \n",
    "    \"\"\"\n",
    "\n",
    "    for file in os.listdir(path):\n",
    "        if os.path.splitext(file)[1] == '.' + ext_name:\n",
    "            to_utf8(os.path.join(path, file))\n",
    "\n",
    "\n",
    "# batch_to_utf8('.') # 对当前目录下的所有csv文件保存为xlsx格式,utf-8编码的文件"
   ]
  },
  {
   "cell_type": "code",
   "execution_count": 77,
   "metadata": {
    "ExecuteTime": {
     "end_time": "2021-06-01T06:48:58.891879Z",
     "start_time": "2021-06-01T06:48:52.337646Z"
    }
   },
   "outputs": [
    {
     "data": {
      "text/plain": [
       "'utf-8'"
      ]
     },
     "execution_count": 77,
     "metadata": {},
     "output_type": "execute_result"
    }
   ],
   "source": [
    "get_encoding(file_path_offtake)"
   ]
  },
  {
   "cell_type": "code",
   "execution_count": null,
   "metadata": {},
   "outputs": [],
   "source": [
    "to_utf8(file_path_offtake)"
   ]
  },
  {
   "cell_type": "code",
   "execution_count": 54,
   "metadata": {
    "ExecuteTime": {
     "end_time": "2021-06-01T04:30:42.611733Z",
     "start_time": "2021-06-01T04:30:39.920048Z"
    }
   },
   "outputs": [
    {
     "name": "stdout",
     "output_type": "stream",
     "text": [
      "['JD', '108812', '2018/1/1', '0', '0']\n"
     ]
    }
   ],
   "source": [
    "# import csv\n",
    "# with open(file_path_offtake, 'r') as f:\n",
    "#     reader = csv.reader(f)\n",
    "#     result = list(reader)\n",
    "#     print(result[1])"
   ]
  },
  {
   "cell_type": "code",
   "execution_count": null,
   "metadata": {},
   "outputs": [],
   "source": []
  }
 ],
 "metadata": {
  "kernelspec": {
   "display_name": "Python 3",
   "language": "python",
   "name": "python3"
  },
  "language_info": {
   "codemirror_mode": {
    "name": "ipython",
    "version": 3
   },
   "file_extension": ".py",
   "mimetype": "text/x-python",
   "name": "python",
   "nbconvert_exporter": "python",
   "pygments_lexer": "ipython3",
   "version": "3.8.5"
  },
  "toc": {
   "base_numbering": 1,
   "nav_menu": {},
   "number_sections": true,
   "sideBar": true,
   "skip_h1_title": false,
   "title_cell": "Table of Contents",
   "title_sidebar": "Contents",
   "toc_cell": false,
   "toc_position": {},
   "toc_section_display": true,
   "toc_window_display": false
  },
  "varInspector": {
   "cols": {
    "lenName": 16,
    "lenType": 16,
    "lenVar": 40
   },
   "kernels_config": {
    "python": {
     "delete_cmd_postfix": "",
     "delete_cmd_prefix": "del ",
     "library": "var_list.py",
     "varRefreshCmd": "print(var_dic_list())"
    },
    "r": {
     "delete_cmd_postfix": ") ",
     "delete_cmd_prefix": "rm(",
     "library": "var_list.r",
     "varRefreshCmd": "cat(var_dic_list()) "
    }
   },
   "types_to_exclude": [
    "module",
    "function",
    "builtin_function_or_method",
    "instance",
    "_Feature"
   ],
   "window_display": false
  }
 },
 "nbformat": 4,
 "nbformat_minor": 4
}
