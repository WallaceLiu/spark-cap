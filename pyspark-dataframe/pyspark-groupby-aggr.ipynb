{
 "cells": [
  {
   "cell_type": "code",
   "execution_count": 1,
   "id": "0155d517",
   "metadata": {},
   "outputs": [],
   "source": [
    "from pyspark.sql import Row\n",
    "\n",
    "l = [('Jack', \"a\", \"p\"), ('Jack', \"b\", \"q\"), ('Bell', \"c\", \"r\"),\n",
    "     ('Bell', \"d\", \"s\")]\n",
    "rdd = sc.parallelize(l)\n",
    "score_rdd = rdd.map(lambda x: Row(name=x[0], letters1=x[1], letters2=x[2]))\n",
    "score_card = sqlContext.createDataFrame(score_rdd)"
   ]
  },
  {
   "cell_type": "code",
   "execution_count": 5,
   "id": "625b9041",
   "metadata": {},
   "outputs": [],
   "source": [
    "import pyspark.sql.functions as f\n",
    "\n",
    "t = score_card.groupby(\"name\").agg(\n",
    "    f.concat_ws(\",\",\n",
    "                f.collect_list(\"letters1\").alias(\"letters1\")),\n",
    "    f.concat_ws(\",\",\n",
    "                f.collect_list(\"letters2\").alias(\"letters2\")))"
   ]
  },
  {
   "cell_type": "code",
   "execution_count": 6,
   "id": "f4a57cf2",
   "metadata": {},
   "outputs": [
    {
     "name": "stdout",
     "output_type": "stream",
     "text": [
      "+----+--------------------------------------------------+--------------------------------------------------+\n",
      "|name|concat_ws(,, collect_list(letters1) AS `letters1`)|concat_ws(,, collect_list(letters2) AS `letters2`)|\n",
      "+----+--------------------------------------------------+--------------------------------------------------+\n",
      "|Bell|                                               c,d|                                               r,s|\n",
      "|Jack|                                               a,b|                                               p,q|\n",
      "+----+--------------------------------------------------+--------------------------------------------------+\n",
      "\n"
     ]
    }
   ],
   "source": [
    "t.show()"
   ]
  },
  {
   "cell_type": "code",
   "execution_count": 8,
   "id": "cf8994a3",
   "metadata": {},
   "outputs": [
    {
     "ename": "AssertionError",
     "evalue": "all exprs should be Column",
     "output_type": "error",
     "traceback": [
      "\u001b[0;31m---------------------------------------------------------------------------\u001b[0m",
      "\u001b[0;31mAssertionError\u001b[0m                            Traceback (most recent call last)",
      "\u001b[0;32m<ipython-input-8-95fbeca57172>\u001b[0m in \u001b[0;36m<module>\u001b[0;34m\u001b[0m\n\u001b[0;32m----> 1\u001b[0;31m t = score_card.groupby(\"name\").agg(\n\u001b[0m\u001b[1;32m      2\u001b[0m     (score_card[\"letters1\"], score_card[\"letters2\"])).show()\n",
      "\u001b[0;32m~/spark-3.1.2-bin-hadoop3.2/python/pyspark/sql/group.py\u001b[0m in \u001b[0;36magg\u001b[0;34m(self, *exprs)\u001b[0m\n\u001b[1;32m    115\u001b[0m         \u001b[0;32melse\u001b[0m\u001b[0;34m:\u001b[0m\u001b[0;34m\u001b[0m\u001b[0;34m\u001b[0m\u001b[0m\n\u001b[1;32m    116\u001b[0m             \u001b[0;31m# Columns\u001b[0m\u001b[0;34m\u001b[0m\u001b[0;34m\u001b[0m\u001b[0;34m\u001b[0m\u001b[0m\n\u001b[0;32m--> 117\u001b[0;31m             \u001b[0;32massert\u001b[0m \u001b[0mall\u001b[0m\u001b[0;34m(\u001b[0m\u001b[0misinstance\u001b[0m\u001b[0;34m(\u001b[0m\u001b[0mc\u001b[0m\u001b[0;34m,\u001b[0m \u001b[0mColumn\u001b[0m\u001b[0;34m)\u001b[0m \u001b[0;32mfor\u001b[0m \u001b[0mc\u001b[0m \u001b[0;32min\u001b[0m \u001b[0mexprs\u001b[0m\u001b[0;34m)\u001b[0m\u001b[0;34m,\u001b[0m \u001b[0;34m\"all exprs should be Column\"\u001b[0m\u001b[0;34m\u001b[0m\u001b[0;34m\u001b[0m\u001b[0m\n\u001b[0m\u001b[1;32m    118\u001b[0m             jdf = self._jgd.agg(exprs[0]._jc,\n\u001b[1;32m    119\u001b[0m                                 _to_seq(self.sql_ctx._sc, [c._jc for c in exprs[1:]]))\n",
      "\u001b[0;31mAssertionError\u001b[0m: all exprs should be Column"
     ]
    }
   ],
   "source": [
    "t = score_card.groupby(\"name\").agg(\n",
    "    (score_card[\"letters1\"], score_card[\"letters2\"])).show()"
   ]
  },
  {
   "cell_type": "code",
   "execution_count": null,
   "id": "b1a76b0d",
   "metadata": {},
   "outputs": [],
   "source": []
  }
 ],
 "metadata": {
  "kernelspec": {
   "display_name": "Python 3",
   "language": "python",
   "name": "python3"
  },
  "language_info": {
   "codemirror_mode": {
    "name": "ipython",
    "version": 3
   },
   "file_extension": ".py",
   "mimetype": "text/x-python",
   "name": "python",
   "nbconvert_exporter": "python",
   "pygments_lexer": "ipython3",
   "version": "3.8.10"
  }
 },
 "nbformat": 4,
 "nbformat_minor": 5
}
