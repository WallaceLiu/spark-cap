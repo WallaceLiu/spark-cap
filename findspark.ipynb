{
 "cells": [
  {
   "cell_type": "markdown",
   "id": "77bdaf69",
   "metadata": {},
   "source": [
    "PySpark isn't on sys.path by default, but that doesn't mean it can't be used as a regular library. You can address this by either symlinking pyspark into your site-packages, or adding pyspark to sys.path at runtime. findspark does the latter.\n",
    "\n",
    "To initialize PySpark, just call"
   ]
  },
  {
   "cell_type": "code",
   "execution_count": 2,
   "id": "8d7b7872",
   "metadata": {},
   "outputs": [],
   "source": [
    "import findspark\n",
    "findspark.init()"
   ]
  },
  {
   "cell_type": "markdown",
   "id": "d7a71621",
   "metadata": {},
   "source": [
    "```python\n",
    "import pyspark\n",
    "sc = pyspark.SparkContext(appName=\"myAppName\")\n",
    "```\n",
    "Without any arguments, the SPARK_HOME environment variable will be used, and if that isn't set, other possible install locations will be checked. If you've installed spark with"
   ]
  },
  {
   "cell_type": "markdown",
   "id": "78841983",
   "metadata": {},
   "source": [
    "Alternatively, you can specify a location with the spark_home argument.\n",
    "```python\n",
    "findspark.init('/path/to/spark_home')\n",
    "```\n",
    "To verify the automatically detected location, call"
   ]
  },
  {
   "cell_type": "code",
   "execution_count": 3,
   "id": "82bf42f1",
   "metadata": {},
   "outputs": [
    {
     "data": {
      "text/plain": [
       "'/Users/liuning/spark-3.1.2-bin-hadoop3.2'"
      ]
     },
     "execution_count": 3,
     "metadata": {},
     "output_type": "execute_result"
    }
   ],
   "source": [
    "findspark.find()"
   ]
  },
  {
   "cell_type": "markdown",
   "id": "8b10265b",
   "metadata": {},
   "source": [
    "Findspark can add a startup file to the current IPython profile so that the environment vaiables will be properly set and pyspark will be imported upon IPython startup. This file is created when edit_profile is set to true.\n",
    "```python\n",
    "ipython --profile=myprofile\n",
    "findspark.init('/path/to/spark_home', edit_profile=True)\n",
    "```"
   ]
  },
  {
   "cell_type": "markdown",
   "id": "0bba7783",
   "metadata": {},
   "source": [
    "Findspark can also add to the .bashrc configuration file if it is present so that the environment variables will be properly set whenever a new shell is opened. This is enabled by setting the optional argument edit_rc to true.\n",
    "```python\n",
    "findspark.init('/path/to/spark_home', edit_rc=True)\n",
    "```\n",
    "If changes are persisted, findspark will not need to be called again unless the spark installation is moved."
   ]
  },
  {
   "cell_type": "code",
   "execution_count": null,
   "id": "ec460b31",
   "metadata": {},
   "outputs": [],
   "source": []
  }
 ],
 "metadata": {
  "kernelspec": {
   "display_name": "Python 3",
   "language": "python",
   "name": "python3"
  },
  "language_info": {
   "codemirror_mode": {
    "name": "ipython",
    "version": 3
   },
   "file_extension": ".py",
   "mimetype": "text/x-python",
   "name": "python",
   "nbconvert_exporter": "python",
   "pygments_lexer": "ipython3",
   "version": "3.8.10"
  },
  "toc": {
   "base_numbering": 1,
   "nav_menu": {},
   "number_sections": true,
   "sideBar": true,
   "skip_h1_title": false,
   "title_cell": "Table of Contents",
   "title_sidebar": "Contents",
   "toc_cell": false,
   "toc_position": {},
   "toc_section_display": true,
   "toc_window_display": false
  },
  "varInspector": {
   "cols": {
    "lenName": 16,
    "lenType": 16,
    "lenVar": 40
   },
   "kernels_config": {
    "python": {
     "delete_cmd_postfix": "",
     "delete_cmd_prefix": "del ",
     "library": "var_list.py",
     "varRefreshCmd": "print(var_dic_list())"
    },
    "r": {
     "delete_cmd_postfix": ") ",
     "delete_cmd_prefix": "rm(",
     "library": "var_list.r",
     "varRefreshCmd": "cat(var_dic_list()) "
    }
   },
   "types_to_exclude": [
    "module",
    "function",
    "builtin_function_or_method",
    "instance",
    "_Feature"
   ],
   "window_display": false
  }
 },
 "nbformat": 4,
 "nbformat_minor": 5
}
