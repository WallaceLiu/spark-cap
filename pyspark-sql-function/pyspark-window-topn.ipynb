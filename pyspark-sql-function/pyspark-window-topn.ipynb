{
 "cells": [
  {
   "cell_type": "code",
   "execution_count": 1,
   "id": "c5f081f5",
   "metadata": {},
   "outputs": [],
   "source": [
    "from pyspark.sql import SparkSession\n",
    "from pyspark.sql.types import StructType, FloatType, StructField, StringType, IntegerType, DoubleType, BooleanType, DateType\n",
    "import pyspark.sql.functions as F\n",
    "from pyspark.sql.window import Window\n",
    "from pyspark.sql.functions import col\n",
    "\n",
    "spark = SparkSession.builder.appName('test').getOrCreate()"
   ]
  },
  {
   "cell_type": "code",
   "execution_count": 11,
   "id": "23a035d9",
   "metadata": {},
   "outputs": [
    {
     "name": "stdout",
     "output_type": "stream",
     "text": [
      "+---+----------+\n",
      "|seq|      date|\n",
      "+---+----------+\n",
      "|  1|2021-08-01|\n",
      "|  1|2021-07-01|\n",
      "|  1|2021-06-01|\n",
      "|  1|2021-05-01|\n",
      "|  1|2021-03-01|\n",
      "|  1|2021-02-01|\n",
      "|  1|2021-01-01|\n",
      "|  2|2021-08-01|\n",
      "|  2|2021-07-01|\n",
      "|  2|2021-06-01|\n",
      "|  2|2021-05-01|\n",
      "|  2|2021-03-01|\n",
      "|  2|2021-02-01|\n",
      "|  2|2021-01-01|\n",
      "+---+----------+\n",
      "\n"
     ]
    }
   ],
   "source": [
    "data = [\n",
    "    ['1', '2021-08-01'],\n",
    "    ['1', '2021-07-01'],\n",
    "    ['1', '2021-06-01'],\n",
    "    ['1', '2021-05-01'],\n",
    "    ['1', '2021-03-01'],\n",
    "    ['1', '2021-02-01'],\n",
    "    ['1', '2021-01-01'],\n",
    "    ['2', '2021-08-01'],\n",
    "    ['2', '2021-07-01'],\n",
    "    ['2', '2021-06-01'],\n",
    "    ['2', '2021-05-01'],\n",
    "    ['2', '2021-03-01'],\n",
    "    ['2', '2021-02-01'],\n",
    "    ['2', '2021-01-01'],\n",
    "]\n",
    "df = spark.createDataFrame(data, schema=['seq', 'date'])\n",
    "df.show()"
   ]
  },
  {
   "cell_type": "code",
   "execution_count": 12,
   "id": "42d15863",
   "metadata": {},
   "outputs": [
    {
     "name": "stdout",
     "output_type": "stream",
     "text": [
      "+---+----------+----+\n",
      "|seq|      date|topn|\n",
      "+---+----------+----+\n",
      "|  1|2021-08-01|   1|\n",
      "|  1|2021-07-01|   2|\n",
      "|  1|2021-06-01|   3|\n",
      "|  1|2021-05-01|   4|\n",
      "|  1|2021-03-01|   5|\n",
      "|  1|2021-02-01|   6|\n",
      "|  1|2021-01-01|   7|\n",
      "|  2|2021-08-01|   1|\n",
      "|  2|2021-07-01|   2|\n",
      "|  2|2021-06-01|   3|\n",
      "|  2|2021-05-01|   4|\n",
      "|  2|2021-03-01|   5|\n",
      "|  2|2021-02-01|   6|\n",
      "|  2|2021-01-01|   7|\n",
      "+---+----------+----+\n",
      "\n"
     ]
    }
   ],
   "source": [
    "window = Window.partitionBy('seq').orderBy(df[\"date\"].desc())\n",
    "df = df.withColumn('topn', F.row_number().over(window))\n",
    "df.show()"
   ]
  },
  {
   "cell_type": "code",
   "execution_count": 13,
   "id": "8a1c1939",
   "metadata": {},
   "outputs": [
    {
     "name": "stdout",
     "output_type": "stream",
     "text": [
      "+---+----------+----+\n",
      "|seq|      date|topn|\n",
      "+---+----------+----+\n",
      "|  1|2021-08-01|   1|\n",
      "|  1|2021-07-01|   2|\n",
      "|  1|2021-06-01|   3|\n",
      "|  2|2021-08-01|   1|\n",
      "|  2|2021-07-01|   2|\n",
      "|  2|2021-06-01|   3|\n",
      "+---+----------+----+\n",
      "\n"
     ]
    }
   ],
   "source": [
    "df = df.where(df.topn <= 3)\n",
    "df.show()"
   ]
  },
  {
   "cell_type": "code",
   "execution_count": null,
   "id": "fe654577",
   "metadata": {},
   "outputs": [],
   "source": []
  }
 ],
 "metadata": {
  "kernelspec": {
   "display_name": "Python 3",
   "language": "python",
   "name": "python3"
  },
  "language_info": {
   "codemirror_mode": {
    "name": "ipython",
    "version": 3
   },
   "file_extension": ".py",
   "mimetype": "text/x-python",
   "name": "python",
   "nbconvert_exporter": "python",
   "pygments_lexer": "ipython3",
   "version": "3.8.10"
  },
  "toc": {
   "base_numbering": 1,
   "nav_menu": {},
   "number_sections": true,
   "sideBar": true,
   "skip_h1_title": false,
   "title_cell": "Table of Contents",
   "title_sidebar": "Contents",
   "toc_cell": false,
   "toc_position": {},
   "toc_section_display": true,
   "toc_window_display": false
  },
  "varInspector": {
   "cols": {
    "lenName": 16,
    "lenType": 16,
    "lenVar": 40
   },
   "kernels_config": {
    "python": {
     "delete_cmd_postfix": "",
     "delete_cmd_prefix": "del ",
     "library": "var_list.py",
     "varRefreshCmd": "print(var_dic_list())"
    },
    "r": {
     "delete_cmd_postfix": ") ",
     "delete_cmd_prefix": "rm(",
     "library": "var_list.r",
     "varRefreshCmd": "cat(var_dic_list()) "
    }
   },
   "types_to_exclude": [
    "module",
    "function",
    "builtin_function_or_method",
    "instance",
    "_Feature"
   ],
   "window_display": false
  }
 },
 "nbformat": 4,
 "nbformat_minor": 5
}
