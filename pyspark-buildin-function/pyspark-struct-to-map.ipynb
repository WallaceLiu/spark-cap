{
 "cells": [
  {
   "cell_type": "code",
   "execution_count": 1,
   "id": "c65544a4",
   "metadata": {},
   "outputs": [
    {
     "name": "stdout",
     "output_type": "stream",
     "text": [
      "root\n",
      " |-- id: string (nullable = true)\n",
      " |-- dept: string (nullable = true)\n",
      " |-- properties: struct (nullable = true)\n",
      " |    |-- salary: integer (nullable = true)\n",
      " |    |-- location: string (nullable = true)\n",
      "\n",
      "+-----+---------+-----------+\n",
      "|id   |dept     |properties |\n",
      "+-----+---------+-----------+\n",
      "|36636|Finance  |{3000, USA}|\n",
      "|40288|Finance  |{5000, IND}|\n",
      "|42114|Sales    |{3900, USA}|\n",
      "|39192|Marketing|{2500, CAN}|\n",
      "|34534|Sales    |{6500, USA}|\n",
      "+-----+---------+-----------+\n",
      "\n"
     ]
    }
   ],
   "source": [
    "from pyspark.sql import SparkSession\n",
    "from pyspark.sql.types import StructType, StructField, StringType, IntegerType\n",
    "\n",
    "spark = SparkSession.builder.appName('SparkByExamples.com').getOrCreate()\n",
    "data = [(\"36636\", \"Finance\", (3000, \"USA\")),\n",
    "        (\"40288\", \"Finance\", (5000, \"IND\")), (\"42114\", \"Sales\", (3900, \"USA\")),\n",
    "        (\"39192\", \"Marketing\", (2500, \"CAN\")),\n",
    "        (\"34534\", \"Sales\", (6500, \"USA\"))]\n",
    "schema = StructType([\n",
    "    StructField('id', StringType(), True),\n",
    "    StructField('dept', StringType(), True),\n",
    "    StructField(\n",
    "        'properties',\n",
    "        StructType([\n",
    "            StructField('salary', IntegerType(), True),\n",
    "            StructField('location', StringType(), True)\n",
    "        ]))\n",
    "])\n",
    "\n",
    "df = spark.createDataFrame(data=data, schema=schema)\n",
    "df.printSchema()\n",
    "df.show(truncate=False)"
   ]
  },
  {
   "cell_type": "code",
   "execution_count": 2,
   "id": "9862eb73",
   "metadata": {},
   "outputs": [
    {
     "name": "stdout",
     "output_type": "stream",
     "text": [
      "root\n",
      " |-- id: string (nullable = true)\n",
      " |-- dept: string (nullable = true)\n",
      " |-- propertiesMap: map (nullable = false)\n",
      " |    |-- key: string\n",
      " |    |-- value: string (valueContainsNull = true)\n",
      "\n",
      "+-----+---------+---------------------------------+\n",
      "|id   |dept     |propertiesMap                    |\n",
      "+-----+---------+---------------------------------+\n",
      "|36636|Finance  |{salary -> 3000, location -> USA}|\n",
      "|40288|Finance  |{salary -> 5000, location -> IND}|\n",
      "|42114|Sales    |{salary -> 3900, location -> USA}|\n",
      "|39192|Marketing|{salary -> 2500, location -> CAN}|\n",
      "|34534|Sales    |{salary -> 6500, location -> USA}|\n",
      "+-----+---------+---------------------------------+\n",
      "\n"
     ]
    }
   ],
   "source": [
    "#Convert struct type to Map\n",
    "from pyspark.sql.functions import col, lit, create_map\n",
    "\n",
    "df = df.withColumn(\n",
    "    \"propertiesMap\",\n",
    "    create_map(lit(\"salary\"), col(\"properties.salary\"), lit(\"location\"),\n",
    "               col(\"properties.location\"))).drop(\"properties\")\n",
    "df.printSchema()\n",
    "df.show(truncate=False)"
   ]
  },
  {
   "cell_type": "code",
   "execution_count": null,
   "id": "ca9bcf84",
   "metadata": {},
   "outputs": [],
   "source": []
  }
 ],
 "metadata": {
  "kernelspec": {
   "display_name": "Python 3",
   "language": "python",
   "name": "python3"
  },
  "language_info": {
   "codemirror_mode": {
    "name": "ipython",
    "version": 3
   },
   "file_extension": ".py",
   "mimetype": "text/x-python",
   "name": "python",
   "nbconvert_exporter": "python",
   "pygments_lexer": "ipython3",
   "version": "3.8.10"
  },
  "toc": {
   "base_numbering": 1,
   "nav_menu": {},
   "number_sections": true,
   "sideBar": true,
   "skip_h1_title": false,
   "title_cell": "Table of Contents",
   "title_sidebar": "Contents",
   "toc_cell": false,
   "toc_position": {},
   "toc_section_display": true,
   "toc_window_display": false
  },
  "varInspector": {
   "cols": {
    "lenName": 16,
    "lenType": 16,
    "lenVar": 40
   },
   "kernels_config": {
    "python": {
     "delete_cmd_postfix": "",
     "delete_cmd_prefix": "del ",
     "library": "var_list.py",
     "varRefreshCmd": "print(var_dic_list())"
    },
    "r": {
     "delete_cmd_postfix": ") ",
     "delete_cmd_prefix": "rm(",
     "library": "var_list.r",
     "varRefreshCmd": "cat(var_dic_list()) "
    }
   },
   "types_to_exclude": [
    "module",
    "function",
    "builtin_function_or_method",
    "instance",
    "_Feature"
   ],
   "window_display": false
  }
 },
 "nbformat": 4,
 "nbformat_minor": 5
}
